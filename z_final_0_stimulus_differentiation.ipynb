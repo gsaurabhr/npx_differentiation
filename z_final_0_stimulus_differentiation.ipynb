{
 "cells": [
  {
   "cell_type": "markdown",
   "metadata": {},
   "source": [
    "We will compute the stimulus differentiation for all stimuli used in the experiments in this notebook.  \n",
    "Descriptions fo stimuli can be found here: https://brainmapportal-live-4cc80a57cd6e400d854-f7fdcae.divio-media.net/filer_public/0f/5d/0f5d22c9-f8f6-428c-9f7a-2983631e72b4/neuropixels_cheat_sheet_nov_2019.pdf"
   ]
  },
  {
   "cell_type": "code",
   "execution_count": 1,
   "metadata": {
    "execution": {
     "iopub.execute_input": "2022-11-06T10:29:17.629633Z",
     "iopub.status.busy": "2022-11-06T10:29:17.629282Z",
     "iopub.status.idle": "2022-11-06T10:29:20.376174Z",
     "shell.execute_reply": "2022-11-06T10:29:20.375454Z",
     "shell.execute_reply.started": "2022-11-06T10:29:17.629505Z"
    },
    "tags": []
   },
   "outputs": [],
   "source": [
    "%load_ext autoreload\n",
    "%autoreload 2\n",
    "%matplotlib widget\n",
    "\n",
    "from os import path\n",
    "from glob import glob\n",
    "import pickle\n",
    "\n",
    "import numpy as np\n",
    "import pandas as pd\n",
    "import scipy as sp\n",
    "from skimage.transform import resize\n",
    "import imageio\n",
    "import seaborn as sns\n",
    "import matplotlib as mpl\n",
    "import matplotlib.pyplot as plt\n",
    "from matplotlib import cm\n",
    "from matplotlib import patches\n",
    "from IPython.display import display, Video\n",
    "from IPython.utils.capture import capture_output\n",
    "from tqdm.auto import tqdm\n",
    "with capture_output():\n",
    "    tqdm.pandas()\n",
    "\n",
    "import differentiation\n",
    "\n",
    "from ipympl.backend_nbagg import Canvas\n",
    "Canvas.header_visible.default_value = False"
   ]
  },
  {
   "cell_type": "code",
   "execution_count": 2,
   "metadata": {
    "execution": {
     "iopub.execute_input": "2022-11-06T10:29:20.377951Z",
     "iopub.status.busy": "2022-11-06T10:29:20.377581Z",
     "iopub.status.idle": "2022-11-06T10:29:20.397116Z",
     "shell.execute_reply": "2022-11-06T10:29:20.396349Z",
     "shell.execute_reply.started": "2022-11-06T10:29:20.377909Z"
    },
    "tags": []
   },
   "outputs": [],
   "source": [
    "stimulus_directory = (\n",
    "    '/allen/programs/braintv/workgroups/'\n",
    "    'tiny-blue-dot/differentiation/refactor/stimuli'\n",
    ")\n",
    "frame_size = (130, 192)\n",
    "frame_rate = 200 # in Hz; same as what we use with the firing rates\n",
    "s_freq_scale = 4"
   ]
  },
  {
   "cell_type": "code",
   "execution_count": 3,
   "metadata": {
    "execution": {
     "iopub.execute_input": "2022-11-06T10:29:20.399164Z",
     "iopub.status.busy": "2022-11-06T10:29:20.398714Z",
     "iopub.status.idle": "2022-11-06T10:29:20.419805Z",
     "shell.execute_reply": "2022-11-06T10:29:20.419029Z",
     "shell.execute_reply.started": "2022-11-06T10:29:20.399107Z"
    },
    "tags": []
   },
   "outputs": [],
   "source": [
    "filenames = {\n",
    "    'flashes' : 'stim_flash_90',\n",
    "    'gabors' : 'stim_gabors_90',\n",
    "    'drifting_gratings' : 'stim_dg_90',\n",
    "    'drifting_gratings_contrast' : 'stim_dgc_90',\n",
    "    'static_gratings' : 'stim_sg_90',\n",
    "    'natural_movie_one' : 'stim_natural_movie_one',\n",
    "    'natural_movie_one_shuffled' : 'stim_natural_movie_one_shuffled',\n",
    "    'natural_movie_three' : 'stim_natural_movie_three'\n",
    "}\n",
    "\n",
    "def dict_reversed(dic):\n",
    "    return {v:k for k, v in dic.items()}"
   ]
  },
  {
   "cell_type": "code",
   "execution_count": 4,
   "metadata": {
    "execution": {
     "iopub.execute_input": "2022-11-06T10:29:20.421860Z",
     "iopub.status.busy": "2022-11-06T10:29:20.421282Z",
     "iopub.status.idle": "2022-11-06T10:29:20.447245Z",
     "shell.execute_reply": "2022-11-06T10:29:20.446711Z",
     "shell.execute_reply.started": "2022-11-06T10:29:20.421769Z"
    },
    "tags": []
   },
   "outputs": [],
   "source": [
    "stim_colors = {\n",
    "    'spontaneous' : cm.Greys(0.3, 0.8),\n",
    "    'gabors' : cm.Reds(0.3, 0.8),\n",
    "    'flashes' : cm.Reds(0.8, 0.8),\n",
    "    'drifting_gratings' : cm.Blues(0.5, 0.8),\n",
    "    'drifting_gratings_contrast' : cm.Blues(0.7, 0.8),\n",
    "    'static_gratings' : cm.Blues(0.9, 0.8),\n",
    "    'natural_movie_three' : cm.Greens(0.75, 0.8),\n",
    "    'natural_movie_two' : cm.Greens(0.6, 0.8),\n",
    "    'natural_movie_one' : cm.Greens(0.45, 0.8),\n",
    "    'natural_movie_one_shuffled' : cm.Purples(0.3, 0.8),\n",
    "    'Spontaneous' : cm.Greys(0.6, 0.8),\n",
    "    'Artificial (simple)' : cm.Reds(0.6, 0.8),\n",
    "    'Artificial (complex)' : cm.Blues(0.8, 0.8),\n",
    "    'Natural' : cm.Greens(0.8, 0.8),\n",
    "}"
   ]
  },
  {
   "cell_type": "markdown",
   "metadata": {
    "heading_collapsed": "true",
    "tags": [],
    "toc-hr-collapsed": true,
    "toc-nb-collapsed": true
   },
   "source": [
    "# Preview stimulus clips"
   ]
  },
  {
   "cell_type": "code",
   "execution_count": 4,
   "metadata": {
    "execution": {
     "iopub.execute_input": "2021-10-21T04:21:19.631547Z",
     "iopub.status.busy": "2021-10-21T04:21:19.631179Z",
     "iopub.status.idle": "2021-10-21T04:21:20.090664Z",
     "shell.execute_reply": "2021-10-21T04:21:20.089974Z",
     "shell.execute_reply.started": "2021-10-21T04:21:19.631504Z"
    },
    "tags": []
   },
   "outputs": [
    {
     "data": {
      "text/html": [
       "<video src=\"/allen/programs/braintv/workgroups/tiny-blue-dot/differentiation/refactor/stimuli/stim_dg_90.mp4\" controls  >\n",
       "      Your browser does not support the <code>video</code> element.\n",
       "    </video>"
      ],
      "text/plain": [
       "<IPython.core.display.Video object>"
      ]
     },
     "metadata": {},
     "output_type": "display_data"
    },
    {
     "data": {
      "text/html": [
       "<video src=\"/allen/programs/braintv/workgroups/tiny-blue-dot/differentiation/refactor/stimuli/stim_flash_90.mp4\" controls  >\n",
       "      Your browser does not support the <code>video</code> element.\n",
       "    </video>"
      ],
      "text/plain": [
       "<IPython.core.display.Video object>"
      ]
     },
     "metadata": {},
     "output_type": "display_data"
    },
    {
     "data": {
      "text/html": [
       "<video src=\"/allen/programs/braintv/workgroups/tiny-blue-dot/differentiation/refactor/stimuli/stim_gabors_90.mp4\" controls  >\n",
       "      Your browser does not support the <code>video</code> element.\n",
       "    </video>"
      ],
      "text/plain": [
       "<IPython.core.display.Video object>"
      ]
     },
     "metadata": {},
     "output_type": "display_data"
    },
    {
     "data": {
      "text/html": [
       "<video src=\"/allen/programs/braintv/workgroups/tiny-blue-dot/differentiation/refactor/stimuli/stim_dgc_90.mp4\" controls  >\n",
       "      Your browser does not support the <code>video</code> element.\n",
       "    </video>"
      ],
      "text/plain": [
       "<IPython.core.display.Video object>"
      ]
     },
     "metadata": {},
     "output_type": "display_data"
    }
   ],
   "source": [
    "movies = glob(path.join(stimulus_directory, 'stim_*.mp4'))\n",
    "for movie in movies:\n",
    "    display(Video(movie))"
   ]
  },
  {
   "cell_type": "markdown",
   "metadata": {
    "tags": []
   },
   "source": [
    "# Understanding how differentiation scales with state length"
   ]
  },
  {
   "cell_type": "code",
   "execution_count": 5,
   "metadata": {
    "execution": {
     "iopub.execute_input": "2022-11-06T10:29:26.780469Z",
     "iopub.status.busy": "2022-11-06T10:29:26.780219Z",
     "iopub.status.idle": "2022-11-06T10:29:26.804846Z",
     "shell.execute_reply": "2022-11-06T10:29:26.804191Z",
     "shell.execute_reply.started": "2022-11-06T10:29:26.780441Z"
    },
    "tags": []
   },
   "outputs": [],
   "source": [
    "def _mkplt(data, window, state_length, norm=None, state_length_normalization=False):\n",
    "    states = differentiation.spectral_states(frame_rate, state_length, data, norm=norm)\n",
    "    diff = differentiation.spectral_differentiation(data, window_length=state_length, sample_rate=frame_rate, norm=norm)\n",
    "    \n",
    "    x = np.ones(3000)[np.newaxis, :]\n",
    "    y = differentiation.spectral_states(frame_rate, state_length, x, norm=norm)[0, 0]\n",
    "    print('For an \"all ones\" vector, spectral state magnitude is:', end=' ')\n",
    "    print(y)\n",
    "    # normalize with this number?\n",
    "    if state_length_normalization:\n",
    "        diff = diff / y\n",
    "        states = states / y\n",
    "    \n",
    "    # and plot it\n",
    "    f = plt.figure(figsize=(3, 4), constrained_layout=True)\n",
    "    spec = plt.GridSpec(3, 2, f, width_ratios=[19, 1], height_ratios=[1, 1, 3], hspace=0.04)\n",
    "    ax_sig = f.add_subplot(spec[0, 0])\n",
    "    ax_states = f.add_subplot(spec[1, 0], sharex=ax_sig)\n",
    "    ax_dist = f.add_subplot(spec[2, 0], sharex=ax_sig)\n",
    "    ax_states_cbar = f.add_subplot(spec[1, 1])\n",
    "    ax_dist_cbar = f.add_subplot(spec[2, 1])\n",
    "\n",
    "    ax_sig.plot(np.arange(0, *np.diff(window), 1/frame_rate), data[0])\n",
    "    ax_sig.set_ylabel('intensity')\n",
    "    try:\n",
    "        ax_sig.set_title(f'Activity of a single pixel ({stimulus}, state length {state_length}s)')\n",
    "    except:\n",
    "        pass\n",
    "\n",
    "    for i in np.arange(0, *np.diff(window), 1/frame_rate)[::int(state_length*frame_rate)]:\n",
    "        ax_sig.axvline(i, c='k', lw=0.2)\n",
    "\n",
    "    im = ax_states.imshow(\n",
    "        states.T[:10, :], aspect='auto', interpolation='none',\n",
    "        extent=[0, np.diff(window)[0], *np.fft.rfftfreq(int(state_length*frame_rate), 1/frame_rate)[[-1, 0]]], cmap=cm.Purples\n",
    "    )\n",
    "    plt.colorbar(im, cax=ax_states_cbar, label='power')\n",
    "    ax_states.set_ylabel('frequency')\n",
    "    ax_states.set_title(f'differentiation = {np.median(diff):.0f}')\n",
    "\n",
    "    im = ax_dist.imshow(\n",
    "        sp.spatial.distance.squareform(diff), aspect='auto', interpolation='none',\n",
    "        extent=[0, np.diff(window)[0], np.diff(window)[0], 0], cmap=cm.Oranges\n",
    "    )\n",
    "    plt.colorbar(im, cax=ax_dist_cbar, label='distance')\n",
    "    ax_dist.set_ylabel('time (s)')\n",
    "    ax_dist.set_xlabel('time (s)')\n",
    "\n",
    "    ax_sig.tick_params(bottom=False, labelbottom=False)\n",
    "    ax_states.tick_params(bottom=False, labelbottom=False)\n",
    "    \n",
    "    return data, states, diff, f"
   ]
  },
  {
   "cell_type": "markdown",
   "metadata": {
    "tags": []
   },
   "source": [
    "## Spectrum magnitude changes with state length even with constant signal"
   ]
  },
  {
   "cell_type": "code",
   "execution_count": 6,
   "metadata": {
    "execution": {
     "iopub.execute_input": "2022-11-06T10:29:29.689720Z",
     "iopub.status.busy": "2022-11-06T10:29:29.689447Z",
     "iopub.status.idle": "2022-11-06T10:29:29.745235Z",
     "shell.execute_reply": "2022-11-06T10:29:29.744686Z",
     "shell.execute_reply.started": "2022-11-06T10:29:29.689691Z"
    },
    "tags": []
   },
   "outputs": [
    {
     "data": {
      "application/vnd.jupyter.widget-view+json": {
       "model_id": "989f80115ac6417cb4277f65a71a22a2",
       "version_major": 2,
       "version_minor": 0
      },
      "text/plain": [
       "Canvas(toolbar=Toolbar(toolitems=[('Home', 'Reset original view', 'home', 'home'), ('Back', 'Back to previous …"
      ]
     },
     "metadata": {},
     "output_type": "display_data"
    }
   ],
   "source": [
    "# constant signal\n",
    "window = np.array([0, 90])\n",
    "data = np.ones((1, np.diff(window)[0]*frame_rate))\n",
    "norm = None\n",
    "win_length = 3\n",
    "state_lengths = [0.03, 0.06, 0.1, 0.15, 0.3, 0.6, 1, 3, 6, 10, 15, 30, 45]\n",
    "mag = []\n",
    "for state_length in state_lengths:\n",
    "    mag.append(differentiation.spectral_states(frame_rate, state_length, data, norm=norm)[0, 0])\n",
    "\n",
    "f, ax = plt.subplots(figsize=(4, 3), tight_layout=True)\n",
    "ax.plot(state_lengths, mag, '-o')\n",
    "ax.set_xlabel('state length (s)')\n",
    "ax.set_ylabel('0-freq bin magnitude')\n",
    "ax.set_xscale('log')\n",
    "ax.set_yscale('log')"
   ]
  },
  {
   "cell_type": "markdown",
   "metadata": {},
   "source": [
    "This is reflected in the differentiation, which also scales as a powerlaw with state length for piecewise constant signal"
   ]
  },
  {
   "cell_type": "markdown",
   "metadata": {
    "tags": []
   },
   "source": [
    "### Piecewise constant stimulus"
   ]
  },
  {
   "cell_type": "code",
   "execution_count": 7,
   "metadata": {
    "execution": {
     "iopub.execute_input": "2022-11-06T10:29:34.868416Z",
     "iopub.status.busy": "2022-11-06T10:29:34.868079Z",
     "iopub.status.idle": "2022-11-06T10:29:41.314339Z",
     "shell.execute_reply": "2022-11-06T10:29:41.313729Z",
     "shell.execute_reply.started": "2022-11-06T10:29:34.868386Z"
    },
    "tags": []
   },
   "outputs": [
    {
     "data": {
      "application/vnd.jupyter.widget-view+json": {
       "model_id": "0853e8f14c3f44c7a6801c3d3cad1c6c",
       "version_major": 2,
       "version_minor": 0
      },
      "text/plain": [
       "HBox(children=(IntProgress(value=0, max=13), HTML(value='')))"
      ]
     },
     "metadata": {},
     "output_type": "display_data"
    },
    {
     "name": "stdout",
     "output_type": "stream",
     "text": [
      "\n"
     ]
    },
    {
     "data": {
      "application/vnd.jupyter.widget-view+json": {
       "model_id": "782c6517bb8a4d83876e6466ff883e87",
       "version_major": 2,
       "version_minor": 0
      },
      "text/plain": [
       "Canvas(toolbar=Toolbar(toolitems=[('Home', 'Reset original view', 'home', 'home'), ('Back', 'Back to previous …"
      ]
     },
     "metadata": {},
     "output_type": "display_data"
    }
   ],
   "source": [
    "# piecewise constant signal\n",
    "norm = None\n",
    "window = np.array([0, 90])\n",
    "_typ_len = 10\n",
    "data = np.random.randint(0, 255, (100, 1, int(np.diff(window)[0]/_typ_len))).repeat(_typ_len*frame_rate, axis=2) # 100 trials, 1 neuron\n",
    "\n",
    "diff = {}\n",
    "state_lengths = [0.03, 0.06, 0.1, 0.15, 0.3, 0.6, 1, 3, 6, 10, 15, 30, 45]\n",
    "for state_length in tqdm(state_lengths):\n",
    "    diff[state_length] = np.median(differentiation.spectral_differentiation(data, window_length=state_length, sample_rate=frame_rate, norm=norm), axis=1)\n",
    "\n",
    "diff = pd.DataFrame(diff)\n",
    "\n",
    "f, (ax0, ax) = plt.subplots(2, 1, figsize=(4, 4), tight_layout=True, gridspec_kw=dict(height_ratios=[1, 3]))\n",
    "\n",
    "ax0.plot(np.linspace(*window, data.shape[-1], False), data[0, 0, :])\n",
    "ax0.set_ylabel('signal')\n",
    "ax0.set_xlabel('time (s)')\n",
    "\n",
    "diff.mean().plot(yerr=diff.std(), ax=ax, label='_')\n",
    "\n",
    "m, c = np.polyfit(*np.log(diff.mean().reset_index()).values.T, 1)\n",
    "_x = [1, 2, 3]\n",
    "_y = np.exp(m*np.log(_x)+c)/2\n",
    "ax.plot(_x, _y, c='r', label=f'alpha={m:.2f}')\n",
    "\n",
    "ax.set_xscale('log')\n",
    "ax.set_yscale('log')\n",
    "ax.set_xlabel('state length')\n",
    "ax.set_ylabel('differentiation')\n",
    "ax.legend(fontsize=8)\n",
    "\n",
    "for ax in [ax0, ax]:\n",
    "    sns.despine(ax=ax)"
   ]
  },
  {
   "cell_type": "markdown",
   "metadata": {},
   "source": [
    "We can remove this dependence by scaling the differentiation to account for changes in the normalization of the FFT. In this case, the differentiation remains flat for all state lengths that are smaller than the piecewise constant length. For longer state lengths, obviously, differentiation will start changing."
   ]
  },
  {
   "cell_type": "code",
   "execution_count": 8,
   "metadata": {
    "execution": {
     "iopub.execute_input": "2022-11-06T10:29:41.315808Z",
     "iopub.status.busy": "2022-11-06T10:29:41.315434Z",
     "iopub.status.idle": "2022-11-06T10:29:47.581882Z",
     "shell.execute_reply": "2022-11-06T10:29:47.581256Z",
     "shell.execute_reply.started": "2022-11-06T10:29:41.315741Z"
    },
    "tags": []
   },
   "outputs": [
    {
     "data": {
      "application/vnd.jupyter.widget-view+json": {
       "model_id": "086a646cb9744f5d821bd13c74210ac7",
       "version_major": 2,
       "version_minor": 0
      },
      "text/plain": [
       "HBox(children=(IntProgress(value=0, max=13), HTML(value='')))"
      ]
     },
     "metadata": {},
     "output_type": "display_data"
    },
    {
     "name": "stdout",
     "output_type": "stream",
     "text": [
      "\n"
     ]
    },
    {
     "data": {
      "application/vnd.jupyter.widget-view+json": {
       "model_id": "132bda8bddb04aefb6315ac58c34aaa6",
       "version_major": 2,
       "version_minor": 0
      },
      "text/plain": [
       "Canvas(toolbar=Toolbar(toolitems=[('Home', 'Reset original view', 'home', 'home'), ('Back', 'Back to previous …"
      ]
     },
     "metadata": {},
     "output_type": "display_data"
    }
   ],
   "source": [
    "# piecewise constant signal\n",
    "norm = None\n",
    "window = np.array([0, 90])\n",
    "_typ_len = 10\n",
    "data = np.random.randint(0, 255, (100, 1, int(np.diff(window)[0]/_typ_len))).repeat(_typ_len*frame_rate, axis=2)\n",
    "\n",
    "diff = {}\n",
    "state_lengths = [0.03, 0.06, 0.1, 0.15, 0.3, 0.6, 1, 3, 6, 10, 15, 30, 45]\n",
    "for state_length in tqdm(state_lengths):\n",
    "    # SCALING FACTOR\n",
    "    diff[state_length] = np.median(differentiation.spectral_differentiation(data, window_length=state_length, sample_rate=frame_rate, norm=norm), axis=1)/state_length**2\n",
    "\n",
    "diff = pd.DataFrame(diff)\n",
    "\n",
    "f, (ax0, ax) = plt.subplots(2, 1, figsize=(4, 4), tight_layout=True, gridspec_kw=dict(height_ratios=[1, 3]))\n",
    "\n",
    "ax0.plot(np.linspace(*window, data.shape[-1], False), data[0, 0, :])\n",
    "ax0.set_ylabel('signal')\n",
    "ax0.set_xlabel('time (s)')\n",
    "\n",
    "diff.mean().plot(yerr=diff.std(), ax=ax, label='_', fmt='o')\n",
    "\n",
    "m, c = np.polyfit(*np.log(diff.mean().reset_index()).values.T, 1)\n",
    "_x = state_lengths\n",
    "_y = np.exp(m*np.log(_x)+c)\n",
    "ax.plot(_x, _y, c='r', label=f'slope={m:.2f}')\n",
    "\n",
    "ax.set_xscale('log')\n",
    "ax.set_yscale('log')\n",
    "ax.set_xlabel('state length')\n",
    "ax.set_ylabel('differentiation')\n",
    "ax.legend(fontsize=8, loc=3, frameon=False)\n",
    "\n",
    "for ax in [ax0, ax]:\n",
    "    sns.despine(ax=ax)"
   ]
  },
  {
   "cell_type": "markdown",
   "metadata": {},
   "source": [
    "Assuming we are in the regime where state lengths are longer than the timescales over which the signals change (in the brain, we expect that the signals change over a few hundreds of milliseconds, so we are talking about states longer than ~1s), how does differentiation scale with state size?  \n",
    "Here we will look at differentiation for white noise. A good metric of differentiation should be independent of the state length for white noise, since the complexity is constant irrespective of the timescale."
   ]
  },
  {
   "cell_type": "markdown",
   "metadata": {
    "tags": []
   },
   "source": [
    "## Spectral differentiation for white noise"
   ]
  },
  {
   "cell_type": "code",
   "execution_count": 9,
   "metadata": {
    "execution": {
     "iopub.execute_input": "2022-11-06T10:29:55.804546Z",
     "iopub.status.busy": "2022-11-06T10:29:55.803570Z",
     "iopub.status.idle": "2022-11-06T10:29:58.695213Z",
     "shell.execute_reply": "2022-11-06T10:29:58.694715Z",
     "shell.execute_reply.started": "2022-11-06T10:29:55.804431Z"
    },
    "tags": []
   },
   "outputs": [
    {
     "data": {
      "application/vnd.jupyter.widget-view+json": {
       "model_id": "3ed689136d334a92902f447aa26de60c",
       "version_major": 2,
       "version_minor": 0
      },
      "text/plain": [
       "HBox(children=(IntProgress(value=0, max=10), HTML(value='')))"
      ]
     },
     "metadata": {},
     "output_type": "display_data"
    },
    {
     "name": "stdout",
     "output_type": "stream",
     "text": [
      "\n"
     ]
    },
    {
     "data": {
      "application/vnd.jupyter.widget-view+json": {
       "model_id": "6a5df3f004c64b429694311c9041f176",
       "version_major": 2,
       "version_minor": 0
      },
      "text/plain": [
       "Canvas(toolbar=Toolbar(toolitems=[('Home', 'Reset original view', 'home', 'home'), ('Back', 'Back to previous …"
      ]
     },
     "metadata": {},
     "output_type": "display_data"
    }
   ],
   "source": [
    "# white noise differentiation should be constant (at least in the absence of discretization artifacts)\n",
    "norm = None\n",
    "data = np.random.randint(0, 255, (100, 1, 9000))\n",
    "\n",
    "diff = {}\n",
    "state_lengths = [0.03, 0.06, 0.1, 0.15, 0.3, 0.6, 1, 3, 9, 15]\n",
    "for state_length in tqdm(state_lengths):\n",
    "    diff[state_length] = np.median(differentiation.spectral_differentiation(data, window_length=state_length, sample_rate=frame_rate, norm=norm)/state_length**2, axis=1)\n",
    "\n",
    "diff = pd.DataFrame(diff)\n",
    "\n",
    "f, (ax0, ax) = plt.subplots(2, 1, figsize=(4, 4), tight_layout=True, gridspec_kw=dict(height_ratios=[1, 3]))\n",
    "\n",
    "ax0.plot(np.linspace(*window, data.shape[-1], False), data[0, 0, :])\n",
    "ax0.set_ylabel('signal')\n",
    "ax0.set_xlabel('time (s)')\n",
    "\n",
    "diff.mean().plot(yerr=diff.std(), ax=ax, label='_', fmt='o')\n",
    "\n",
    "m, c = np.polyfit(*np.log(diff.mean().reset_index()).values.T, 1)\n",
    "_x = state_lengths\n",
    "_y = np.exp(m*np.log(_x)+c)\n",
    "ax.plot(_x, _y, c='r', label=f'slope={m:.2f}')\n",
    "\n",
    "ax.set_xscale('log')\n",
    "ax.set_yscale('log')\n",
    "ax.set_xlabel('state length')\n",
    "ax.set_ylabel('differentiation')\n",
    "ax.legend(fontsize=8, loc=3, frameon=False)\n",
    "\n",
    "for ax in [ax0, ax]:\n",
    "    sns.despine(ax=ax)"
   ]
  },
  {
   "cell_type": "markdown",
   "metadata": {},
   "source": [
    "But we see that here, the differentiation still scales with state length. To explore this, let us look at three state lengths, and the spectra we get for them:"
   ]
  },
  {
   "cell_type": "code",
   "execution_count": 10,
   "metadata": {
    "execution": {
     "iopub.execute_input": "2021-10-21T04:22:18.074912Z",
     "iopub.status.busy": "2021-10-21T04:22:18.074621Z",
     "iopub.status.idle": "2021-10-21T04:22:18.090376Z",
     "shell.execute_reply": "2021-10-21T04:22:18.089586Z",
     "shell.execute_reply.started": "2021-10-21T04:22:18.074878Z"
    },
    "tags": []
   },
   "outputs": [],
   "source": [
    "# # try for white noise data that should have a flat spectrum\n",
    "# window = np.array([0, 90])\n",
    "# states = {}\n",
    "# diffs = {}\n",
    "# for state_length in [0.03, 0.3, 3]:\n",
    "#     data = np.random.randint(0, 255, (1, np.diff(window)[0]*frame_rate))\n",
    "#     data, states[state_length], diffs[state_length], f = _mkplt(data, window, state_length, norm='ortho', state_length_normalization=True)"
   ]
  },
  {
   "cell_type": "code",
   "execution_count": 11,
   "metadata": {
    "execution": {
     "iopub.execute_input": "2021-10-21T04:22:18.270003Z",
     "iopub.status.busy": "2021-10-21T04:22:18.269725Z",
     "iopub.status.idle": "2021-10-21T04:22:18.285465Z",
     "shell.execute_reply": "2021-10-21T04:22:18.284811Z",
     "shell.execute_reply.started": "2021-10-21T04:22:18.269967Z"
    },
    "tags": []
   },
   "outputs": [],
   "source": [
    "# # plot spectra in each state\n",
    "# f, ax = plt.subplots(figsize=(4, 3), tight_layout=True)\n",
    "# for state, cmap in zip(states.keys(), [cm.Reds, cm.Greens, cm.Blues]):\n",
    "#     ax.plot(np.fft.rfftfreq(int(state*frame_rate), 1/frame_rate), states[state].T, c=cmap(0.4, 0.1))\n",
    "#     ax.plot(np.fft.rfftfreq(int(state*frame_rate), 1/frame_rate), states[state].mean(0), c=cmap(0.99, 0.99), label=state)\n",
    "#     ax.set_yscale('log')\n",
    "#     ax.set_xlabel('frequency')\n",
    "#     ax.set_ylabel('power')\n",
    "# ax.legend(fontsize=8, title='state length (s)', title_fontsize=9);"
   ]
  },
  {
   "cell_type": "markdown",
   "metadata": {
    "execution": {
     "iopub.execute_input": "2021-02-04T23:34:28.167389Z",
     "iopub.status.busy": "2021-02-04T23:34:28.165950Z",
     "iopub.status.idle": "2021-02-04T23:34:28.213771Z",
     "shell.execute_reply": "2021-02-04T23:34:28.212869Z",
     "shell.execute_reply.started": "2021-02-04T23:34:28.167257Z"
    }
   },
   "source": [
    "Which frequencies contribute most to differentiation? The 0-frequency bin! So the change in mean signal due to changing bin size drives a decrease in differentiation. Because we are averaging out the signal more for larger states, the differentiation magnitude decreases."
   ]
  },
  {
   "cell_type": "code",
   "execution_count": 12,
   "metadata": {
    "execution": {
     "iopub.execute_input": "2021-10-21T04:22:19.083716Z",
     "iopub.status.busy": "2021-10-21T04:22:19.083443Z",
     "iopub.status.idle": "2021-10-21T04:22:19.099429Z",
     "shell.execute_reply": "2021-10-21T04:22:19.098757Z",
     "shell.execute_reply.started": "2021-10-21T04:22:19.083681Z"
    },
    "tags": []
   },
   "outputs": [],
   "source": [
    "# f, (ax2, ax) = plt.subplots(1, 2, figsize=(6, 3), tight_layout=True, sharey=True)#, gridspec_kw=dict(width_ratios=[2, 1]))\n",
    "# ax.scatter(*np.array([[sl, sp[:, 0].std()] for sl, sp in states.items()]).T)\n",
    "# ax.set_xlabel('state length (s)')\n",
    "# ax.set_xscale('log')\n",
    "# ax.set_yscale('log')\n",
    "\n",
    "# ax2.scatter(*np.array([[np.median(diffs[sl]), np.median(\n",
    "#     sp.spatial.distance.pdist(states[sl][:, [0]], metric='euclidean')\n",
    "# )] for sl in diffs.keys()]).T, label='bin 0')\n",
    "\n",
    "# ax2.scatter(*np.array([[np.median(diffs[sl]), np.median(\n",
    "#     sp.spatial.distance.pdist(states[sl][:, [1]], metric='euclidean')\n",
    "# )] for sl in diffs.keys()]).T, label='bin 1')\n",
    "\n",
    "# # ax2.scatter(*np.array([[np.median(diffs[sl]), np.median(\n",
    "# #     sp.spatial.distance.pdist(states[sl][:, [2]], metric='euclidean')\n",
    "# # )] for sl in diffs.keys()]).T, label='bin 2')\n",
    "\n",
    "# ax2.set_xlabel('differentiation')\n",
    "# ax2.set_ylabel('distance within frequency bin')\n",
    "# ax2.set_xscale('log')\n",
    "# ax2.set_yscale('log')\n",
    "# ax2.legend(fontsize=8);\n",
    "# # ax2.set_ylim(ax2.get_xlim());"
   ]
  },
  {
   "cell_type": "markdown",
   "metadata": {
    "tags": []
   },
   "source": [
    "## Differentiation should be scaled differently at different timescales\n",
    "Putting all of this together, we see that if the signal autocorrelation length is shorter than the state size, then the differentiation (when normalized for the total FFT power) decreases with state length as a powerlaw with exponent 0.5. The net normalization in this case is given by $df_{normalized} = df~~/~~state*1.5$. When the autocorrelation length of the signal is longer than the state length, differentiation remains constant with changing state length."
   ]
  },
  {
   "cell_type": "code",
   "execution_count": 10,
   "metadata": {
    "execution": {
     "iopub.execute_input": "2022-11-06T10:31:24.165753Z",
     "iopub.status.busy": "2022-11-06T10:31:24.165481Z",
     "iopub.status.idle": "2022-11-06T10:31:38.446146Z",
     "shell.execute_reply": "2022-11-06T10:31:38.445483Z",
     "shell.execute_reply.started": "2022-11-06T10:31:24.165723Z"
    },
    "tags": []
   },
   "outputs": [
    {
     "data": {
      "application/vnd.jupyter.widget-view+json": {
       "model_id": "e10a3bb387d448d1b674f42bce4d4de7",
       "version_major": 2,
       "version_minor": 0
      },
      "text/plain": [
       "HBox(children=(IntProgress(value=0, max=12), HTML(value='')))"
      ]
     },
     "metadata": {},
     "output_type": "display_data"
    },
    {
     "name": "stdout",
     "output_type": "stream",
     "text": [
      "\n"
     ]
    },
    {
     "data": {
      "application/vnd.jupyter.widget-view+json": {
       "model_id": "8926a057b98c420e953dbb45c46bb253",
       "version_major": 2,
       "version_minor": 0
      },
      "text/plain": [
       "Canvas(toolbar=Toolbar(toolitems=[('Home', 'Reset original view', 'home', 'home'), ('Back', 'Back to previous …"
      ]
     },
     "metadata": {},
     "output_type": "display_data"
    }
   ],
   "source": [
    "# piecewise constant signal\n",
    "norm = None\n",
    "window = np.array([0, 120])\n",
    "_typ_len = 0.6\n",
    "data_dense = np.random.randint(\n",
    "    0, 255, (\n",
    "        100, 1, int(np.diff(window)[0]/_typ_len)\n",
    "    )\n",
    ").repeat(_typ_len*frame_rate, axis=2)\n",
    "\n",
    "diff_dense = {}\n",
    "state_lengths = [0.03, 0.06, 0.1, 0.15, 0.3, 0.6, 1, 3, 6, 10, 15, 30]\n",
    "for state_length in tqdm(state_lengths):\n",
    "    # SCALING FACTOR\n",
    "    diff_dense[state_length] = np.median(\n",
    "        differentiation.spectral_differentiation(\n",
    "            data_dense, window_length=state_length,\n",
    "            sample_rate=frame_rate, norm=norm\n",
    "        ), axis=1\n",
    "    )/state_length**2\n",
    "\n",
    "diff_dense = pd.DataFrame(diff_dense)\n",
    "\n",
    "f, (ax0, ax) = plt.subplots(\n",
    "    2, 1, figsize=(4, 4), tight_layout=True,\n",
    "    gridspec_kw=dict(height_ratios=[1, 3])\n",
    ")\n",
    "\n",
    "ax0.plot(np.linspace(*window, data_dense.shape[-1], False), data_dense[0, 0, :], lw=1)\n",
    "ax0.set_ylabel('signal')\n",
    "ax0.set_xlabel('time (s)')\n",
    "\n",
    "diff_dense.mean().plot(yerr=diff_dense.sem(), ax=ax, label='_', fmt='o')\n",
    "\n",
    "m, c = np.polyfit(*np.log(diff_dense.mean().reset_index()).values.T[:, :6], 1)\n",
    "_x = [0.03, 0.06, 0.1, 0.5]\n",
    "_y = np.exp(m*np.log(_x)+c)\n",
    "ax.plot(_x, _y, c='r', label=f'slope={m:.2f}')\n",
    "\n",
    "m, c = np.polyfit(*np.log(diff_dense.mean().reset_index()).values.T[:, -7:-2], 1)\n",
    "_x = [0.6, 1, 3, 6, 10, 45, 60]\n",
    "_y = np.exp(m*np.log(_x)+c)\n",
    "ax.plot(_x, _y, c='C4', label=f'slope={m:.2f}')\n",
    "\n",
    "ax.set_xscale('log')\n",
    "ax.set_yscale('log')\n",
    "ax.set_xlabel('state length')\n",
    "ax.set_ylabel('differentiation')\n",
    "# ax.legend(fontsize=8, frameon=False)\n",
    "\n",
    "ax.axvline(_typ_len, c='k')\n",
    "ax.annotate(\n",
    "    'autocorrelation\\ntimescale', (_typ_len*1.1, (diff.mean()-diff.std()).iloc[-1]),\n",
    "    fontsize=10\n",
    ")\n",
    "\n",
    "for ax in [ax0, ax]:\n",
    "    sns.despine(ax=ax)\n",
    "\n",
    "# f.savefig('fig_')"
   ]
  },
  {
   "cell_type": "markdown",
   "metadata": {},
   "source": [
    "Normalizing by the effective scaling factor of state_length^1.5:"
   ]
  },
  {
   "cell_type": "markdown",
   "metadata": {},
   "source": [
    "---\n",
    "Differentiation for multiple uncorrelated units"
   ]
  },
  {
   "cell_type": "code",
   "execution_count": 21,
   "metadata": {
    "execution": {
     "iopub.execute_input": "2022-11-06T10:48:01.719390Z",
     "iopub.status.busy": "2022-11-06T10:48:01.718299Z",
     "iopub.status.idle": "2022-11-06T10:48:16.789291Z",
     "shell.execute_reply": "2022-11-06T10:48:16.788660Z",
     "shell.execute_reply.started": "2022-11-06T10:48:01.719266Z"
    },
    "tags": []
   },
   "outputs": [
    {
     "data": {
      "application/vnd.jupyter.widget-view+json": {
       "model_id": "738bc8dc9fd14cd1a89296d10bc19986",
       "version_major": 2,
       "version_minor": 0
      },
      "text/plain": [
       "HBox(children=(IntProgress(value=0, max=12), HTML(value='')))"
      ]
     },
     "metadata": {},
     "output_type": "display_data"
    },
    {
     "name": "stdout",
     "output_type": "stream",
     "text": [
      "\n"
     ]
    },
    {
     "data": {
      "application/vnd.jupyter.widget-view+json": {
       "model_id": "21f058dc450b4dce9a694cb43d9c98cf",
       "version_major": 2,
       "version_minor": 0
      },
      "text/plain": [
       "Canvas(toolbar=Toolbar(toolitems=[('Home', 'Reset original view', 'home', 'home'), ('Back', 'Back to previous …"
      ]
     },
     "metadata": {},
     "output_type": "display_data"
    }
   ],
   "source": [
    "# piecewise constant signal\n",
    "N_rep = 500\n",
    "N = 1\n",
    "norm = None\n",
    "window = np.array([0, 60])\n",
    "_typ_len = 0.3\n",
    "# should firing onset times be correlated?\n",
    "ac_corr = True\n",
    "# sparsity level\n",
    "sparsity = 0.7\n",
    "\n",
    "_data = np.random.randint(0, 255, (\n",
    "    N_rep, N, int(np.diff(window)[0]/_typ_len)\n",
    "))\n",
    "\n",
    "# sparsity\n",
    "for j in range(N_rep):\n",
    "    for i in range(N):\n",
    "        _data[j, i, np.random.rand(_data.shape[2])<sparsity] = 0\n",
    "\n",
    "_data = _data.repeat(_typ_len*frame_rate, axis=2)\n",
    "\n",
    "data = np.zeros(_data.shape)\n",
    "# uncorrelated units\n",
    "if not ac_corr:\n",
    "    # jitter is random for each unit and trial\n",
    "    for i in range(N):\n",
    "        for j in range(N_rep):\n",
    "            dt = np.random.randint(_typ_len*frame_rate)\n",
    "            data[j, i, :] = np.roll(_data[j, i, :], dt, axis=-1)\n",
    "# correlated units\n",
    "else:\n",
    "    # jitter is random for each trial, but same for all units\n",
    "    for j in range(N_rep):\n",
    "        dt = np.random.randint(_typ_len*frame_rate)\n",
    "        data[j, :, :] = np.roll(_data[j, :, :], dt, axis=-1)\n",
    "\n",
    "diff = {}\n",
    "state_lengths = [0.03, 0.06, 0.1, 0.15, 0.3, 0.6, 1, 3, 6, 10, 15, 30]\n",
    "for state_length in tqdm(state_lengths):\n",
    "    diff[state_length] = np.median(\n",
    "        differentiation.spectral_differentiation(\n",
    "            data, window_length=state_length, sample_rate=frame_rate, norm=norm\n",
    "        ), axis=1\n",
    "    )/state_length**2\n",
    "\n",
    "diff = pd.DataFrame(diff)\n",
    "\n",
    "f, (ax0, ax) = plt.subplots(\n",
    "    2, 1, figsize=(4, 4), tight_layout=True,\n",
    "    gridspec_kw=dict(height_ratios=[1, 3])\n",
    ")\n",
    "\n",
    "ax0.plot(np.linspace(*window, data.shape[-1], False), data[0, :10, :].T, lw=1)\n",
    "ax0.set_ylabel('signal')\n",
    "ax0.set_xlabel('time (s)')\n",
    "ax0.set_yticks([])\n",
    "\n",
    "diff.mean().plot(yerr=diff.std(), ax=ax, label='_', fmt='o')\n",
    "\n",
    "m, c = np.polyfit(*np.log(diff.mean().reset_index()).values.T[\n",
    "    :, :sum(np.array(state_lengths)<_typ_len)\n",
    "], 1)\n",
    "_x = np.array(state_lengths)[np.array(state_lengths)<_typ_len]\n",
    "_y = np.exp(m*np.log(_x)+c)\n",
    "ax.plot(_x, _y, c='r', label=f'slope={m:.2f}')\n",
    "\n",
    "m, c = np.polyfit(*np.log(diff.mean().reset_index()).values.T[\n",
    "    :, -sum(np.array(state_lengths)>_typ_len):\n",
    "], 1)\n",
    "_x = np.array(state_lengths)[np.array(state_lengths)>_typ_len]\n",
    "_y = np.exp(m*np.log(_x)+c)\n",
    "ax.plot(_x, _y, c='C4', label=f'slope={m:.2f}')\n",
    "\n",
    "ax.set_xscale('log')\n",
    "ax.set_yscale('log')\n",
    "ax.set_xlabel('state length')\n",
    "ax.set_ylabel('differentiation')\n",
    "# ax.legend(fontsize=8, frameon=False)\n",
    "ax.set_yticks([])\n",
    "\n",
    "ax.axvline(_typ_len, c='k')\n",
    "ax.annotate(\n",
    "    'autocorrelation\\ntimescale',\n",
    "    (_typ_len*1.1, (diff.mean()-diff.std()).iloc[-1]),\n",
    "    fontsize=10\n",
    ")\n",
    "\n",
    "for ax in [ax0, ax]:\n",
    "    sns.despine(ax=ax)\n",
    "\n",
    "# f.suptitle(\n",
    "#     f'{N} units, {N_rep} trials, sparsity: {sparsity}',# {\"un\" if not ac_corr else \"\"}correlated activity,\n",
    "#     fontsize=9, color='r'\n",
    "# );"
   ]
  },
  {
   "cell_type": "code",
   "execution_count": 27,
   "metadata": {
    "execution": {
     "iopub.execute_input": "2022-11-06T10:49:46.393277Z",
     "iopub.status.busy": "2022-11-06T10:49:46.392174Z",
     "iopub.status.idle": "2022-11-06T10:49:46.844645Z",
     "shell.execute_reply": "2022-11-06T10:49:46.843936Z",
     "shell.execute_reply.started": "2022-11-06T10:49:46.393149Z"
    },
    "tags": []
   },
   "outputs": [
    {
     "data": {
      "application/vnd.jupyter.widget-view+json": {
       "model_id": "7f897f2c26dd4af1b63e5c899b0ef7d8",
       "version_major": 2,
       "version_minor": 0
      },
      "text/plain": [
       "Canvas(toolbar=Toolbar(toolitems=[('Home', 'Reset original view', 'home', 'home'), ('Back', 'Back to previous …"
      ]
     },
     "metadata": {},
     "output_type": "display_data"
    }
   ],
   "source": [
    "f, (ax0, ax) = plt.subplots(\n",
    "    2, 1, figsize=(3, 3),# tight_layout=True,\n",
    "    gridspec_kw=dict(height_ratios=[1, 3])\n",
    ")\n",
    "\n",
    "ax0.plot(\n",
    "    np.linspace(*window, data_dense.shape[-1], False),\n",
    "    data_dense[0, 0, :], lw=1, c=cm.Greys(0.7, 0.8)\n",
    ")\n",
    "ax0.plot(\n",
    "    np.linspace(*window, data.shape[-1], False)+0.01,\n",
    "    data[0, :10, :].T, lw=0.75, c='k'\n",
    ")\n",
    "ax0.set_xlim(0, 20)\n",
    "\n",
    "diff_dense = (diff_dense.T/diff_dense[1]).T\n",
    "diff = (diff.T/diff[1]).T\n",
    "\n",
    "diff_dense.mean().plot(yerr=diff_dense.sem(), ax=ax, label='dense signal', fmt='o', c=cm.Blues(0.4, 0.9))\n",
    "diff.mean().plot(yerr=diff_dense.sem(), ax=ax, label='sparse signal', fmt='o', c=cm.Blues(0.8, 0.9))\n",
    "\n",
    "m, c = np.polyfit(*np.log(diff_dense.mean().reset_index()).values.T[:, :6], 1)\n",
    "_x = [0.03, 0.06, 0.1, 0.5]\n",
    "_y = np.exp(m*np.log(_x)+c)\n",
    "ax.plot(_x, _y, c=cm.Reds(0.4, 0.9))#, label=f'slope={m:.2f}')\n",
    "\n",
    "m, c = np.polyfit(*np.log(diff.mean().reset_index()).values.T[\n",
    "    :, :sum(np.array(state_lengths)<_typ_len)\n",
    "], 1)\n",
    "_x = np.array(state_lengths)[np.array(state_lengths)<=_typ_len]\n",
    "_y = np.exp(m*np.log(_x)+c)\n",
    "ax.plot(_x, _y, c=cm.Reds(0.8, 0.9))#, label=f'slope={m:.2f}')\n",
    "\n",
    "m, c = np.polyfit(*np.log(diff_dense.mean().reset_index()).values.T[:, -7:-2], 1)\n",
    "_x = [0.6, 1, 3, 6, 10, 45, 60]\n",
    "_y = np.exp(m*np.log(_x)+c)\n",
    "ax.plot(_x, _y, c=cm.Purples(0.4, 0.9))#, label=f'slope={m:.2f}')\n",
    "\n",
    "m, c = np.polyfit(*np.log(diff.mean().reset_index()).values.T[\n",
    "    :, -sum(np.array(state_lengths)>_typ_len):\n",
    "], 1)\n",
    "_x = np.array(state_lengths)[np.array(state_lengths)>_typ_len]\n",
    "_y = np.exp(m*np.log(_x)+c)\n",
    "ax.plot(_x, _y, c=cm.Purples(0.8, 0.9))#, label=f'slope={m:.2f}')\n",
    "\n",
    "ax.set_xscale('log')\n",
    "ax.set_yscale('log')\n",
    "\n",
    "ax.set_xlabel('state length (s)', fontsize=8)\n",
    "ax.set_ylabel('normalized\\ndifferentiation', fontsize=8, labelpad=-3)\n",
    "ax.legend(loc=0, fontsize=8, frameon=False)\n",
    "ax.tick_params(axis='y', labelsize=7, pad=-1)\n",
    "ax.tick_params(axis='x', labelsize=7, pad=1)\n",
    "\n",
    "ax0.set_ylabel('signal', fontsize=8, labelpad=-3)\n",
    "ax0.set_xlabel('time (s)', fontsize=8)\n",
    "# ax0.set_yticks([])\n",
    "ax0.tick_params(axis='y', labelsize=7, pad=-1)\n",
    "ax0.tick_params(axis='x', labelsize=7, pad=1)\n",
    "\n",
    "f.align_ylabels()\n",
    "\n",
    "# ax.axvline(_typ_len, c='k')\n",
    "# ax.annotate(\n",
    "#     'autocorrelation\\ntimescale', (_typ_len*1.1, (diff.mean()-diff.std()).iloc[-1]),\n",
    "#     fontsize=10\n",
    "# )\n",
    "f.tight_layout(pad=0.9, h_pad=0.4)\n",
    "# f.savefig('fig_timescales_toy.pdf')"
   ]
  },
  {
   "cell_type": "markdown",
   "metadata": {},
   "source": [
    "---"
   ]
  },
  {
   "cell_type": "code",
   "execution_count": 13,
   "metadata": {
    "execution": {
     "iopub.execute_input": "2022-11-06T10:39:13.298109Z",
     "iopub.status.busy": "2022-11-06T10:39:13.297744Z",
     "iopub.status.idle": "2022-11-06T10:39:25.076380Z",
     "shell.execute_reply": "2022-11-06T10:39:25.075852Z",
     "shell.execute_reply.started": "2022-11-06T10:39:13.298079Z"
    },
    "tags": []
   },
   "outputs": [
    {
     "data": {
      "application/vnd.jupyter.widget-view+json": {
       "model_id": "bedcb5cbfc8146fab9185c3be85f51c4",
       "version_major": 2,
       "version_minor": 0
      },
      "text/plain": [
       "HBox(children=(IntProgress(value=0, max=13), HTML(value='')))"
      ]
     },
     "metadata": {},
     "output_type": "display_data"
    },
    {
     "name": "stdout",
     "output_type": "stream",
     "text": [
      "\n"
     ]
    },
    {
     "data": {
      "application/vnd.jupyter.widget-view+json": {
       "model_id": "8bac9b535307477a96c4434fbab5a177",
       "version_major": 2,
       "version_minor": 0
      },
      "text/plain": [
       "Canvas(toolbar=Toolbar(toolitems=[('Home', 'Reset original view', 'home', 'home'), ('Back', 'Back to previous …"
      ]
     },
     "metadata": {},
     "output_type": "display_data"
    }
   ],
   "source": [
    "# piecewise constant signal\n",
    "norm = None\n",
    "window = np.array([0, 120])\n",
    "_typ_len = 0.6\n",
    "data = np.random.randint(0, 255, (100, 1, int(np.diff(window)[0]/_typ_len))).repeat(_typ_len*frame_rate, axis=2)\n",
    "\n",
    "diff = {}\n",
    "state_lengths = [0.03, 0.06, 0.1, 0.15, 0.3, 0.6, 1, 3, 6, 10, 15, 30, 40]\n",
    "for state_length in tqdm(state_lengths):\n",
    "    # SCALING FACTOR\n",
    "    diff[state_length] = np.median(differentiation.spectral_differentiation(data, window_length=state_length, sample_rate=frame_rate, norm=norm), axis=1)/state_length**1.5\n",
    "\n",
    "diff = pd.DataFrame(diff)\n",
    "\n",
    "f, (ax0, ax) = plt.subplots(2, 1, figsize=(4, 4), tight_layout=True, gridspec_kw=dict(height_ratios=[1, 3]))\n",
    "\n",
    "ax0.plot(np.linspace(*window, data.shape[-1], False), data[0, 0, :], lw=1)\n",
    "ax0.set_ylabel('signal')\n",
    "ax0.set_xlabel('time (s)')\n",
    "\n",
    "diff.mean().plot(yerr=diff.std(), ax=ax, label='_')\n",
    "\n",
    "m, c = np.polyfit(*np.log(diff.mean().reset_index()).values.T[:, :4], 1)\n",
    "_x = [0.03, 0.06, 0.1, 0.5]\n",
    "_y = np.exp(m*np.log(_x)+c)/2\n",
    "ax.plot(_x, _y, c='r', label=f'alpha={m:.2f}')\n",
    "\n",
    "m, c = np.polyfit(*np.log(diff.mean().reset_index()).values.T[:, -8:], 1)\n",
    "_x = [1, 3, 6, 10, 45]\n",
    "_y = np.exp(m*np.log(_x)+c)/2\n",
    "ax.plot(_x, _y, c='C4', label=f'alpha={m:.2f}')\n",
    "\n",
    "ax.set_xscale('log')\n",
    "ax.set_yscale('log')\n",
    "ax.set_xlabel('state length')\n",
    "ax.set_ylabel('differentiation')\n",
    "ax.legend(fontsize=8)\n",
    "\n",
    "for ax in [ax0, ax]:\n",
    "    sns.despine(ax=ax)"
   ]
  },
  {
   "cell_type": "markdown",
   "metadata": {
    "heading_collapsed": "true",
    "tags": []
   },
   "source": [
    "# What are the autocorrelation timescales in the stimuli?"
   ]
  },
  {
   "cell_type": "code",
   "execution_count": 5,
   "metadata": {
    "execution": {
     "iopub.execute_input": "2021-11-29T08:13:47.006693Z",
     "iopub.status.busy": "2021-11-29T08:13:47.005627Z",
     "iopub.status.idle": "2021-11-29T08:13:47.035911Z",
     "shell.execute_reply": "2021-11-29T08:13:47.035205Z",
     "shell.execute_reply.started": "2021-11-29T08:13:47.006572Z"
    },
    "tags": []
   },
   "outputs": [],
   "source": [
    "# compute autocorrelation for all stimuli (100 randomly selected pixels)\n",
    "try:\n",
    "    autocorr_times = pd.read_pickle(\n",
    "        path.join(stimulus_directory, 'stimulus_autocorrelation.pkl')\n",
    "    )\n",
    "except:\n",
    "    print(\n",
    "        'Run firing_rate_autocorrelation.ipynb'\n",
    "        ' stimulus autocorrelation section first.'\n",
    "    )"
   ]
  },
  {
   "cell_type": "code",
   "execution_count": 7,
   "metadata": {
    "execution": {
     "iopub.execute_input": "2021-11-29T08:13:55.923985Z",
     "iopub.status.busy": "2021-11-29T08:13:55.922882Z",
     "iopub.status.idle": "2021-11-29T08:13:56.036267Z",
     "shell.execute_reply": "2021-11-29T08:13:56.035694Z",
     "shell.execute_reply.started": "2021-11-29T08:13:55.923860Z"
    },
    "tags": []
   },
   "outputs": [
    {
     "data": {
      "application/vnd.jupyter.widget-view+json": {
       "model_id": "db7e8397879a4a049e3412afd3a58bdd",
       "version_major": 2,
       "version_minor": 0
      },
      "text/plain": [
       "Canvas(toolbar=Toolbar(toolitems=[('Home', 'Reset original view', 'home', 'home'), ('Back', 'Back to previous …"
      ]
     },
     "metadata": {},
     "output_type": "display_data"
    }
   ],
   "source": [
    "autocorr_times = autocorr_times[autocorr_times.mean().sort_values().index]\n",
    "f, ax = plt.subplots(figsize=(5, 1.8), tight_layout=True)\n",
    "sns.boxplot(data=autocorr_times, linewidth=0.5, showfliers=False, color=cm.Greys(0.4, 0.4))\n",
    "ax.set_xticklabels(\n",
    "    [x.get_text().replace('_', '\\n') for x in ax.get_xticklabels()],\n",
    "    fontsize=7\n",
    ")\n",
    "ax.set_ylabel('characteristic\\ntimescale (s)', fontsize=7.8)\n",
    "ax.set_yticks([0, 0.5, 1, 1.5])\n",
    "ax.tick_params(axis='both', labelsize=7);"
   ]
  },
  {
   "cell_type": "markdown",
   "metadata": {},
   "source": [
    "So we will stay in the constant differentiation regime for the last three stimuli unless the state size is made larger than 1s. For the rest, a state size of 0.5s should be closer to the optimal.  \n",
    "Also, we can go to very small state sizes and normalize with state_length^2."
   ]
  },
  {
   "cell_type": "markdown",
   "metadata": {
    "heading_collapsed": "true",
    "tags": []
   },
   "source": [
    "# How does differentiation vary with window length?"
   ]
  },
  {
   "cell_type": "code",
   "execution_count": 8,
   "metadata": {
    "execution": {
     "iopub.execute_input": "2021-11-29T08:14:02.197134Z",
     "iopub.status.busy": "2021-11-29T08:14:02.196173Z",
     "iopub.status.idle": "2021-11-29T08:14:02.219830Z",
     "shell.execute_reply": "2021-11-29T08:14:02.219302Z",
     "shell.execute_reply.started": "2021-11-29T08:14:02.197022Z"
    },
    "tags": []
   },
   "outputs": [],
   "source": [
    "win_lengths = [0.2, 0.4, 0.8, 1.6, 3.2, 6.4, 12.8, 25.6, 51.2]\n",
    "state_length = 0.1\n",
    "cohort_normalize = True\n",
    "\n",
    "try:\n",
    "    with open('stim_diffn_wrt_win_ln.pkl', 'rb') as f:\n",
    "        diffn = pickle.load(f)\n",
    "except:\n",
    "    diffn = {}\n",
    "    for stim in tqdm(filenames.keys()):\n",
    "        if stim in diffn.keys():\n",
    "            continue\n",
    "        movie_data = np.load(path.join(stimulus_directory, f'{filenames[stim]}.npy'))\n",
    "        diffn[stim] = {}\n",
    "        for win_length in win_lengths:\n",
    "            md_flattened = movie_data.reshape(movie_data.shape[0], np.prod(movie_data.shape[1:]))\n",
    "            try:\n",
    "                md_reshaped = np.reshape(md_flattened.T, (md_flattened.shape[1], -1, int(win_length*frame_rate))).transpose(1, 0, 2)\n",
    "            except ValueError:\n",
    "                md_flattened = md_flattened[:int(md_flattened.shape[0]/(win_length*frame_rate))*int(win_length*frame_rate)]\n",
    "                md_reshaped = np.reshape(md_flattened.T, (md_flattened.shape[1], -1, int(win_length*frame_rate))).transpose(1, 0, 2)\n",
    "\n",
    "            if cohort_normalize:\n",
    "                # for cohort normalization\n",
    "                md_reshaped = (md_reshaped.transpose(1, 2, 0) / md_reshaped.mean(axis=(-1, -2))).transpose(2, 0, 1)\n",
    "\n",
    "            try:\n",
    "                diff = differentiation.spectral_differentiation(md_reshaped, sample_rate=frame_rate, window_length=state_length)\n",
    "                diffn[stim][win_length] = np.median(diff, axis=1)\n",
    "            except:\n",
    "                pass\n",
    "    with open('stim_diffn_wrt_win_ln.pkl', 'wb') as f:\n",
    "        pickle.dump(diffn, f)"
   ]
  },
  {
   "cell_type": "code",
   "execution_count": 9,
   "metadata": {
    "execution": {
     "iopub.execute_input": "2021-11-29T08:14:02.555486Z",
     "iopub.status.busy": "2021-11-29T08:14:02.554543Z",
     "iopub.status.idle": "2021-11-29T08:14:03.069150Z",
     "shell.execute_reply": "2021-11-29T08:14:03.068522Z",
     "shell.execute_reply.started": "2021-11-29T08:14:02.555375Z"
    },
    "tags": []
   },
   "outputs": [
    {
     "data": {
      "application/vnd.jupyter.widget-view+json": {
       "model_id": "a5a62a01123945d0a51de1f62994a05e",
       "version_major": 2,
       "version_minor": 0
      },
      "text/plain": [
       "Canvas(toolbar=Toolbar(toolitems=[('Home', 'Reset original view', 'home', 'home'), ('Back', 'Back to previous …"
      ]
     },
     "metadata": {},
     "output_type": "display_data"
    },
    {
     "name": "stderr",
     "output_type": "stream",
     "text": [
      "/home/saurabh.gandhi/Projects/.env_difflib/lib/python3.6/site-packages/numpy/core/_asarray.py:138: UserWarning: Warning: converting a masked element to nan.\n",
      "  return array(a, dtype, copy=False, order=order, subok=True)\n"
     ]
    }
   ],
   "source": [
    "diffn_mn = pd.concat({\n",
    "    stim : pd.Series({\n",
    "        k:v.mean() for k, v in diffn[stim].items()\n",
    "    }, name=stim) for stim in diffn.keys()\n",
    "}, axis=1)\n",
    "\n",
    "diffn_sd = pd.concat({\n",
    "    stim : pd.Series({\n",
    "        k:v.std() for k, v in diffn[stim].items()\n",
    "    }, name=stim) for stim in diffn.keys()\n",
    "}, axis=1)\n",
    "\n",
    "f, ax = plt.subplots(figsize=(6, 3), tight_layout=True)\n",
    "diffn_mn.plot(ax=ax, yerr=diffn_sd)\n",
    "ax.set_xscale('log')\n",
    "ax.set_xlabel('window length (s)')\n",
    "ax.set_ylabel('differentiation')\n",
    "ax.legend(loc=(1.01, 0), fontsize=9);\n",
    "f.savefig('fig_supp_diffn_vs_win_length_all_stimuli.pdf')"
   ]
  },
  {
   "cell_type": "markdown",
   "metadata": {
    "tags": []
   },
   "source": [
    "# Compute differentiation"
   ]
  },
  {
   "cell_type": "code",
   "execution_count": 29,
   "metadata": {
    "execution": {
     "iopub.execute_input": "2022-11-06T11:07:32.688888Z",
     "iopub.status.busy": "2022-11-06T11:07:32.687801Z",
     "iopub.status.idle": "2022-11-06T11:11:48.299024Z",
     "shell.execute_reply": "2022-11-06T11:11:48.297251Z",
     "shell.execute_reply.started": "2022-11-06T11:07:32.688763Z"
    },
    "tags": []
   },
   "outputs": [
    {
     "data": {
      "application/vnd.jupyter.widget-view+json": {
       "model_id": "0351d6a7bebe4032b9b35639cacca1cf",
       "version_major": 2,
       "version_minor": 0
      },
      "text/plain": [
       "HBox(children=(IntProgress(value=0, description='0.3 (0.03)', max=8, style=ProgressStyle(description_width='in…"
      ]
     },
     "metadata": {},
     "output_type": "display_data"
    },
    {
     "name": "stdout",
     "output_type": "stream",
     "text": [
      "\n"
     ]
    }
   ],
   "source": [
    "cohort_normalize = True\n",
    "try:\n",
    "    diff_all = pd.read_pickle(path.join(stimulus_directory, f'spectral_differentiation_stimulus.pkl'))\n",
    "    diff_all = diff_all.stack().to_dict()\n",
    "except:\n",
    "    diff_all = {}\n",
    "\n",
    "for win_length in [0.3]:#[3, 9, 30]:\n",
    "    for state_length in [0.03]:#[0.005, 0.01, 0.015, 0.02, 0.03, 0.06, 0.1, 0.15, 0.3, 0.5, 1, 3, 10]:\n",
    "        if (win_length, state_length) in diff_all.keys():\n",
    "            continue\n",
    "        if win_length <= state_length:\n",
    "            continue\n",
    "        diffn = {}\n",
    "        for stim, f in tqdm(filenames.items(), desc=f'{win_length} ({state_length})'):\n",
    "            movie_data = np.load(path.join(stimulus_directory, f'{f}.npy'))\n",
    "            md_flattened = movie_data.reshape(movie_data.shape[0], np.prod(movie_data.shape[1:]))\n",
    "            try:\n",
    "                md_reshaped = np.reshape(md_flattened.T, (md_flattened.shape[1], -1, int(win_length*frame_rate))).transpose(1, 0, 2)\n",
    "            except ValueError:\n",
    "                md_flattened = md_flattened[:int(md_flattened.shape[0]/(win_length*frame_rate))*int(win_length*frame_rate)]\n",
    "                md_reshaped = np.reshape(md_flattened.T, (md_flattened.shape[1], -1, int(win_length*frame_rate))).transpose(1, 0, 2)\n",
    "\n",
    "            if cohort_normalize:\n",
    "                # for cohort normalization\n",
    "                md_reshaped = (md_reshaped.transpose(1, 2, 0) / md_reshaped.mean(axis=(-1, -2))).transpose(2, 0, 1)\n",
    "\n",
    "            diff = differentiation.spectral_differentiation(md_reshaped, sample_rate=frame_rate, window_length=state_length)\n",
    "            diffn[stim] = np.median(diff, axis=1)\n",
    "        diff_mn = {k:v.mean() for k, v in diffn.items()}\n",
    "        diff_sd = {k:v.std() for k, v in diffn.items()}\n",
    "        diff_all[(win_length, state_length)] = pd.concat([\n",
    "            pd.Series(diff_mn).rename('mean_diff'),\n",
    "            pd.Series(diff_sd).rename('std_diff')\n",
    "        ], axis=1).sort_values('mean_diff').stack().to_dict()\n",
    "diff_all = pd.DataFrame(diff_all).unstack()\n",
    "diff_all.to_pickle(path.join(stimulus_directory, f'spectral_differentiation_stimulus.pkl'))"
   ]
  },
  {
   "cell_type": "code",
   "execution_count": 11,
   "metadata": {
    "execution": {
     "iopub.execute_input": "2021-11-29T08:14:05.096790Z",
     "iopub.status.busy": "2021-11-29T08:14:05.095511Z",
     "iopub.status.idle": "2021-11-29T08:14:05.143131Z",
     "shell.execute_reply": "2021-11-29T08:14:05.142419Z",
     "shell.execute_reply.started": "2021-11-29T08:14:05.096679Z"
    },
    "tags": []
   },
   "outputs": [],
   "source": [
    "# diff_all.loc[:, (slice(None), 0.015)] = diff_all.loc[:, (slice(None), 0.015)]/4\n",
    "# diff_all.loc[:, (slice(None), 0.02)] = diff_all.loc[:, (slice(None), 0.02)]/4\n",
    "# diff_all.to_pickle(f'data/differentiation/spectral_differentiation/spectral_differentiation_stimulus.pkl')"
   ]
  },
  {
   "cell_type": "code",
   "execution_count": 32,
   "metadata": {
    "execution": {
     "iopub.execute_input": "2022-11-06T11:14:01.970090Z",
     "iopub.status.busy": "2022-11-06T11:14:01.968558Z",
     "iopub.status.idle": "2022-11-06T11:14:02.026160Z",
     "shell.execute_reply": "2022-11-06T11:14:02.025558Z",
     "shell.execute_reply.started": "2022-11-06T11:14:01.969962Z"
    },
    "tags": []
   },
   "outputs": [
    {
     "data": {
      "text/html": [
       "<div>\n",
       "<style scoped>\n",
       "    .dataframe tbody tr th:only-of-type {\n",
       "        vertical-align: middle;\n",
       "    }\n",
       "\n",
       "    .dataframe tbody tr th {\n",
       "        vertical-align: top;\n",
       "    }\n",
       "\n",
       "    .dataframe thead tr th {\n",
       "        text-align: left;\n",
       "    }\n",
       "</style>\n",
       "<table border=\"1\" class=\"dataframe\">\n",
       "  <thead>\n",
       "    <tr>\n",
       "      <th></th>\n",
       "      <th colspan=\"10\" halign=\"left\">3.0</th>\n",
       "      <th>...</th>\n",
       "      <th colspan=\"8\" halign=\"left\">30.0</th>\n",
       "      <th colspan=\"2\" halign=\"left\">0.3</th>\n",
       "    </tr>\n",
       "    <tr>\n",
       "      <th></th>\n",
       "      <th colspan=\"2\" halign=\"left\">0.005</th>\n",
       "      <th colspan=\"2\" halign=\"left\">0.010</th>\n",
       "      <th colspan=\"2\" halign=\"left\">0.015</th>\n",
       "      <th colspan=\"2\" halign=\"left\">0.020</th>\n",
       "      <th colspan=\"2\" halign=\"left\">0.030</th>\n",
       "      <th>...</th>\n",
       "      <th colspan=\"2\" halign=\"left\">0.500</th>\n",
       "      <th colspan=\"2\" halign=\"left\">1.000</th>\n",
       "      <th colspan=\"2\" halign=\"left\">3.000</th>\n",
       "      <th colspan=\"2\" halign=\"left\">10.000</th>\n",
       "      <th colspan=\"2\" halign=\"left\">0.030</th>\n",
       "    </tr>\n",
       "    <tr>\n",
       "      <th></th>\n",
       "      <th>mean_diff</th>\n",
       "      <th>std_diff</th>\n",
       "      <th>mean_diff</th>\n",
       "      <th>std_diff</th>\n",
       "      <th>mean_diff</th>\n",
       "      <th>std_diff</th>\n",
       "      <th>mean_diff</th>\n",
       "      <th>std_diff</th>\n",
       "      <th>mean_diff</th>\n",
       "      <th>std_diff</th>\n",
       "      <th>...</th>\n",
       "      <th>mean_diff</th>\n",
       "      <th>std_diff</th>\n",
       "      <th>mean_diff</th>\n",
       "      <th>std_diff</th>\n",
       "      <th>mean_diff</th>\n",
       "      <th>std_diff</th>\n",
       "      <th>mean_diff</th>\n",
       "      <th>std_diff</th>\n",
       "      <th>mean_diff</th>\n",
       "      <th>std_diff</th>\n",
       "    </tr>\n",
       "  </thead>\n",
       "  <tbody>\n",
       "    <tr>\n",
       "      <th>drifting_gratings_contrast</th>\n",
       "      <td>0.000000</td>\n",
       "      <td>0.000000</td>\n",
       "      <td>0.000000</td>\n",
       "      <td>0.000000</td>\n",
       "      <td>0.000000</td>\n",
       "      <td>0.000000</td>\n",
       "      <td>0.000000</td>\n",
       "      <td>0.000000</td>\n",
       "      <td>0.000000</td>\n",
       "      <td>0.000000</td>\n",
       "      <td>...</td>\n",
       "      <td>0.017641</td>\n",
       "      <td>0.003467</td>\n",
       "      <td>0.020655</td>\n",
       "      <td>0.007465</td>\n",
       "      <td>0.020331</td>\n",
       "      <td>0.006180</td>\n",
       "      <td>0.011038</td>\n",
       "      <td>0.002087</td>\n",
       "      <td>5142.181075</td>\n",
       "      <td>12210.187434</td>\n",
       "    </tr>\n",
       "    <tr>\n",
       "      <th>flashes</th>\n",
       "      <td>0.000000</td>\n",
       "      <td>0.000000</td>\n",
       "      <td>0.000000</td>\n",
       "      <td>0.000000</td>\n",
       "      <td>0.000000</td>\n",
       "      <td>0.000000</td>\n",
       "      <td>0.000000</td>\n",
       "      <td>0.000000</td>\n",
       "      <td>0.000000</td>\n",
       "      <td>0.000000</td>\n",
       "      <td>...</td>\n",
       "      <td>0.000000</td>\n",
       "      <td>0.000000</td>\n",
       "      <td>0.148989</td>\n",
       "      <td>0.003735</td>\n",
       "      <td>0.056593</td>\n",
       "      <td>0.001947</td>\n",
       "      <td>0.023280</td>\n",
       "      <td>0.013036</td>\n",
       "      <td>6878.501593</td>\n",
       "      <td>20599.063719</td>\n",
       "    </tr>\n",
       "    <tr>\n",
       "      <th>gabors</th>\n",
       "      <td>0.072654</td>\n",
       "      <td>0.001091</td>\n",
       "      <td>0.072654</td>\n",
       "      <td>0.001091</td>\n",
       "      <td>0.072350</td>\n",
       "      <td>0.001100</td>\n",
       "      <td>0.072350</td>\n",
       "      <td>0.001100</td>\n",
       "      <td>0.071983</td>\n",
       "      <td>0.001184</td>\n",
       "      <td>...</td>\n",
       "      <td>0.050394</td>\n",
       "      <td>0.000158</td>\n",
       "      <td>0.035181</td>\n",
       "      <td>0.000629</td>\n",
       "      <td>0.020683</td>\n",
       "      <td>0.000764</td>\n",
       "      <td>0.011248</td>\n",
       "      <td>0.000518</td>\n",
       "      <td>2348.384770</td>\n",
       "      <td>2602.262667</td>\n",
       "    </tr>\n",
       "    <tr>\n",
       "      <th>drifting_gratings</th>\n",
       "      <td>0.476201</td>\n",
       "      <td>0.002943</td>\n",
       "      <td>0.471544</td>\n",
       "      <td>0.006901</td>\n",
       "      <td>0.464668</td>\n",
       "      <td>0.016210</td>\n",
       "      <td>0.454904</td>\n",
       "      <td>0.029292</td>\n",
       "      <td>0.430358</td>\n",
       "      <td>0.062769</td>\n",
       "      <td>...</td>\n",
       "      <td>0.072053</td>\n",
       "      <td>0.012360</td>\n",
       "      <td>0.063310</td>\n",
       "      <td>0.000002</td>\n",
       "      <td>0.040995</td>\n",
       "      <td>0.000035</td>\n",
       "      <td>0.016981</td>\n",
       "      <td>0.002640</td>\n",
       "      <td>33741.726118</td>\n",
       "      <td>23422.960950</td>\n",
       "    </tr>\n",
       "    <tr>\n",
       "      <th>natural_movie_one_shuffled</th>\n",
       "      <td>0.377102</td>\n",
       "      <td>0.002595</td>\n",
       "      <td>0.374721</td>\n",
       "      <td>0.002465</td>\n",
       "      <td>0.370624</td>\n",
       "      <td>0.002590</td>\n",
       "      <td>0.364181</td>\n",
       "      <td>0.002770</td>\n",
       "      <td>0.345563</td>\n",
       "      <td>0.002645</td>\n",
       "      <td>...</td>\n",
       "      <td>0.104737</td>\n",
       "      <td>0.000000</td>\n",
       "      <td>0.072970</td>\n",
       "      <td>0.000000</td>\n",
       "      <td>0.041651</td>\n",
       "      <td>0.000000</td>\n",
       "      <td>0.028307</td>\n",
       "      <td>0.000000</td>\n",
       "      <td>33104.784151</td>\n",
       "      <td>1980.097972</td>\n",
       "    </tr>\n",
       "    <tr>\n",
       "      <th>natural_movie_three</th>\n",
       "      <td>0.324211</td>\n",
       "      <td>0.084411</td>\n",
       "      <td>0.324118</td>\n",
       "      <td>0.084252</td>\n",
       "      <td>0.323915</td>\n",
       "      <td>0.084009</td>\n",
       "      <td>0.323562</td>\n",
       "      <td>0.083677</td>\n",
       "      <td>0.322599</td>\n",
       "      <td>0.082924</td>\n",
       "      <td>...</td>\n",
       "      <td>0.347038</td>\n",
       "      <td>0.011632</td>\n",
       "      <td>0.314442</td>\n",
       "      <td>0.013297</td>\n",
       "      <td>0.255063</td>\n",
       "      <td>0.025988</td>\n",
       "      <td>0.164614</td>\n",
       "      <td>0.025418</td>\n",
       "      <td>16233.146243</td>\n",
       "      <td>8018.927869</td>\n",
       "    </tr>\n",
       "    <tr>\n",
       "      <th>natural_movie_one</th>\n",
       "      <td>0.331199</td>\n",
       "      <td>0.076381</td>\n",
       "      <td>0.331255</td>\n",
       "      <td>0.076327</td>\n",
       "      <td>0.331196</td>\n",
       "      <td>0.076171</td>\n",
       "      <td>0.331095</td>\n",
       "      <td>0.076126</td>\n",
       "      <td>0.330589</td>\n",
       "      <td>0.075770</td>\n",
       "      <td>...</td>\n",
       "      <td>0.447099</td>\n",
       "      <td>0.000000</td>\n",
       "      <td>0.415360</td>\n",
       "      <td>0.000000</td>\n",
       "      <td>0.354134</td>\n",
       "      <td>0.000000</td>\n",
       "      <td>0.268361</td>\n",
       "      <td>0.000000</td>\n",
       "      <td>13952.878647</td>\n",
       "      <td>7192.782971</td>\n",
       "    </tr>\n",
       "    <tr>\n",
       "      <th>static_gratings</th>\n",
       "      <td>0.650261</td>\n",
       "      <td>0.007817</td>\n",
       "      <td>0.650261</td>\n",
       "      <td>0.007817</td>\n",
       "      <td>0.649960</td>\n",
       "      <td>0.007777</td>\n",
       "      <td>0.649960</td>\n",
       "      <td>0.007777</td>\n",
       "      <td>0.649661</td>\n",
       "      <td>0.007736</td>\n",
       "      <td>...</td>\n",
       "      <td>0.463615</td>\n",
       "      <td>0.001719</td>\n",
       "      <td>0.324646</td>\n",
       "      <td>0.000496</td>\n",
       "      <td>0.188198</td>\n",
       "      <td>0.008091</td>\n",
       "      <td>0.104369</td>\n",
       "      <td>0.006266</td>\n",
       "      <td>22060.757016</td>\n",
       "      <td>23623.524651</td>\n",
       "    </tr>\n",
       "  </tbody>\n",
       "</table>\n",
       "<p>8 rows × 74 columns</p>\n",
       "</div>"
      ],
      "text/plain": [
       "                                3.0                                           \\\n",
       "                              0.005               0.010               0.015    \n",
       "                           mean_diff  std_diff mean_diff  std_diff mean_diff   \n",
       "drifting_gratings_contrast  0.000000  0.000000  0.000000  0.000000  0.000000   \n",
       "flashes                     0.000000  0.000000  0.000000  0.000000  0.000000   \n",
       "gabors                      0.072654  0.001091  0.072654  0.001091  0.072350   \n",
       "drifting_gratings           0.476201  0.002943  0.471544  0.006901  0.464668   \n",
       "natural_movie_one_shuffled  0.377102  0.002595  0.374721  0.002465  0.370624   \n",
       "natural_movie_three         0.324211  0.084411  0.324118  0.084252  0.323915   \n",
       "natural_movie_one           0.331199  0.076381  0.331255  0.076327  0.331196   \n",
       "static_gratings             0.650261  0.007817  0.650261  0.007817  0.649960   \n",
       "\n",
       "                                                                              \\\n",
       "                                        0.020               0.030              \n",
       "                            std_diff mean_diff  std_diff mean_diff  std_diff   \n",
       "drifting_gratings_contrast  0.000000  0.000000  0.000000  0.000000  0.000000   \n",
       "flashes                     0.000000  0.000000  0.000000  0.000000  0.000000   \n",
       "gabors                      0.001100  0.072350  0.001100  0.071983  0.001184   \n",
       "drifting_gratings           0.016210  0.454904  0.029292  0.430358  0.062769   \n",
       "natural_movie_one_shuffled  0.002590  0.364181  0.002770  0.345563  0.002645   \n",
       "natural_movie_three         0.084009  0.323562  0.083677  0.322599  0.082924   \n",
       "natural_movie_one           0.076171  0.331095  0.076126  0.330589  0.075770   \n",
       "static_gratings             0.007777  0.649960  0.007777  0.649661  0.007736   \n",
       "\n",
       "                            ...      30.0                                \\\n",
       "                            ...    0.500               1.000              \n",
       "                            ... mean_diff  std_diff mean_diff  std_diff   \n",
       "drifting_gratings_contrast  ...  0.017641  0.003467  0.020655  0.007465   \n",
       "flashes                     ...  0.000000  0.000000  0.148989  0.003735   \n",
       "gabors                      ...  0.050394  0.000158  0.035181  0.000629   \n",
       "drifting_gratings           ...  0.072053  0.012360  0.063310  0.000002   \n",
       "natural_movie_one_shuffled  ...  0.104737  0.000000  0.072970  0.000000   \n",
       "natural_movie_three         ...  0.347038  0.011632  0.314442  0.013297   \n",
       "natural_movie_one           ...  0.447099  0.000000  0.415360  0.000000   \n",
       "static_gratings             ...  0.463615  0.001719  0.324646  0.000496   \n",
       "\n",
       "                                                                    \\\n",
       "                              3.000               10.000             \n",
       "                           mean_diff  std_diff mean_diff  std_diff   \n",
       "drifting_gratings_contrast  0.020331  0.006180  0.011038  0.002087   \n",
       "flashes                     0.056593  0.001947  0.023280  0.013036   \n",
       "gabors                      0.020683  0.000764  0.011248  0.000518   \n",
       "drifting_gratings           0.040995  0.000035  0.016981  0.002640   \n",
       "natural_movie_one_shuffled  0.041651  0.000000  0.028307  0.000000   \n",
       "natural_movie_three         0.255063  0.025988  0.164614  0.025418   \n",
       "natural_movie_one           0.354134  0.000000  0.268361  0.000000   \n",
       "static_gratings             0.188198  0.008091  0.104369  0.006266   \n",
       "\n",
       "                                    0.3                 \n",
       "                                  0.030                 \n",
       "                               mean_diff      std_diff  \n",
       "drifting_gratings_contrast   5142.181075  12210.187434  \n",
       "flashes                      6878.501593  20599.063719  \n",
       "gabors                       2348.384770   2602.262667  \n",
       "drifting_gratings           33741.726118  23422.960950  \n",
       "natural_movie_one_shuffled  33104.784151   1980.097972  \n",
       "natural_movie_three         16233.146243   8018.927869  \n",
       "natural_movie_one           13952.878647   7192.782971  \n",
       "static_gratings             22060.757016  23623.524651  \n",
       "\n",
       "[8 rows x 74 columns]"
      ]
     },
     "execution_count": 32,
     "metadata": {},
     "output_type": "execute_result"
    }
   ],
   "source": [
    "# reorder with ascending differentiation under a 'standard' condition\n",
    "diff_all = diff_all.loc[\n",
    "    diff_all.xs('mean_diff', axis=1, level=2)\\\n",
    "    .xs(0.5, axis=1, level=1)\\\n",
    "    .mean(1).sort_values().index\n",
    "]\n",
    "\n",
    "# normalize by the number of pixels to compare with cells\n",
    "diff_all = diff_all / np.sqrt(np.prod(frame_size))\n",
    "\n",
    "# normalize by the scaling factor of state_length**1.5\n",
    "diff_all = diff_all / diff_all.columns.get_level_values(1)**2\n",
    "\n",
    "diff_all"
   ]
  },
  {
   "cell_type": "markdown",
   "metadata": {
    "heading_collapsed": "true",
    "tags": []
   },
   "source": [
    "## Stimulus differentiation as a function of window and state length"
   ]
  },
  {
   "cell_type": "code",
   "execution_count": 33,
   "metadata": {
    "execution": {
     "iopub.execute_input": "2022-11-06T11:14:04.628896Z",
     "iopub.status.busy": "2022-11-06T11:14:04.627817Z",
     "iopub.status.idle": "2022-11-06T11:14:04.695472Z",
     "shell.execute_reply": "2022-11-06T11:14:04.694777Z",
     "shell.execute_reply.started": "2022-11-06T11:14:04.628768Z"
    },
    "tags": []
   },
   "outputs": [
    {
     "data": {
      "application/vnd.jupyter.widget-view+json": {
       "model_id": "383aa900385a4c949ea592a3dad6b7c2",
       "version_major": 2,
       "version_minor": 0
      },
      "text/plain": [
       "Canvas(toolbar=Toolbar(toolitems=[('Home', 'Reset original view', 'home', 'home'), ('Back', 'Back to previous …"
      ]
     },
     "metadata": {},
     "output_type": "display_data"
    }
   ],
   "source": [
    "stimulus = 'flashes'\n",
    "_s = diff_all.loc[stimulus].swaplevel(1, 2)\n",
    "f, ax = plt.subplots(1, 1, figsize=(5, 2.5), tight_layout=True)\n",
    "ax.errorbar(\n",
    "    _s[3].mean_diff.index, _s[3].mean_diff, yerr=_s[3].std_diff,\n",
    "    label='3s', fmt='-o', ms=3, lw=0.75\n",
    ")\n",
    "ax.errorbar(\n",
    "    _s[9].mean_diff.index, _s[9].mean_diff, yerr=_s[9].std_diff,\n",
    "    label='9s', fmt='-o', ms=2, lw=0.75\n",
    ")\n",
    "ax.errorbar(\n",
    "    _s[30].mean_diff.index, _s[30].mean_diff, yerr=_s[30].std_diff,\n",
    "    label='30s', fmt='-o', ms=2, lw=0.75\n",
    ")\n",
    "ax.set_xlabel('state length (s)')\n",
    "ax.set_ylabel('differentiation')\n",
    "ax.legend(fontsize=8, title='window length', title_fontsize=9)\n",
    "ax.set_title(stimulus)\n",
    "ax.set_xscale('log');"
   ]
  },
  {
   "cell_type": "code",
   "execution_count": 34,
   "metadata": {
    "execution": {
     "iopub.execute_input": "2022-11-06T11:14:08.818143Z",
     "iopub.status.busy": "2022-11-06T11:14:08.817072Z",
     "iopub.status.idle": "2022-11-06T11:14:09.047519Z",
     "shell.execute_reply": "2022-11-06T11:14:09.047002Z",
     "shell.execute_reply.started": "2022-11-06T11:14:08.818018Z"
    },
    "tags": []
   },
   "outputs": [
    {
     "data": {
      "application/vnd.jupyter.widget-view+json": {
       "model_id": "3774c0413ecd42dd86aa4c6a7f1d090c",
       "version_major": 2,
       "version_minor": 0
      },
      "text/plain": [
       "Canvas(toolbar=Toolbar(toolitems=[('Home', 'Reset original view', 'home', 'home'), ('Back', 'Back to previous …"
      ]
     },
     "metadata": {},
     "output_type": "display_data"
    }
   ],
   "source": [
    "window_length = 30\n",
    "f, ax = plt.subplots(1, 1, figsize=(6, 2.5), tight_layout=True)\n",
    "for stimulus in filenames.keys():\n",
    "    _s = diff_all.loc[stimulus].swaplevel(1, 2)\n",
    "    ax.errorbar(\n",
    "        _s[window_length].mean_diff.index,\n",
    "        _s[window_length].mean_diff,\n",
    "        yerr=_s[window_length].std_diff,\n",
    "        label=stimulus, c=stim_colors[stimulus]\n",
    "    )\n",
    "ax.set_xlabel('state length (s)')\n",
    "ax.set_ylabel('differentiation')\n",
    "ax.legend(fontsize=8, title='stimulus', title_fontsize=8, loc=(1.01, 0))\n",
    "ax.set_title(f'{window_length}s window length')\n",
    "ax.set_yscale('log', nonpositive='mask')\n",
    "ax.set_xscale('log');"
   ]
  },
  {
   "cell_type": "markdown",
   "metadata": {
    "heading_collapsed": "true",
    "tags": []
   },
   "source": [
    "## Differentiation for different stimuli"
   ]
  },
  {
   "cell_type": "code",
   "execution_count": 35,
   "metadata": {
    "execution": {
     "iopub.execute_input": "2022-11-06T11:14:14.261040Z",
     "iopub.status.busy": "2022-11-06T11:14:14.260544Z",
     "iopub.status.idle": "2022-11-06T11:14:14.345053Z",
     "shell.execute_reply": "2022-11-06T11:14:14.344500Z",
     "shell.execute_reply.started": "2022-11-06T11:14:14.260984Z"
    },
    "tags": []
   },
   "outputs": [
    {
     "data": {
      "application/vnd.jupyter.widget-view+json": {
       "model_id": "1eaa0440b77e4858a4a271b0ecbd48f8",
       "version_major": 2,
       "version_minor": 0
      },
      "text/plain": [
       "Canvas(toolbar=Toolbar(toolitems=[('Home', 'Reset original view', 'home', 'home'), ('Back', 'Back to previous …"
      ]
     },
     "metadata": {},
     "output_type": "display_data"
    }
   ],
   "source": [
    "state_length = 0.005\n",
    "f, ax = plt.subplots(1, 1, figsize=(6, 3), tight_layout=True)\n",
    "for win_length in [3, 9, 30]:\n",
    "    if state_length < win_length:\n",
    "        ax.bar(\n",
    "            np.arange(len(diff_all.index))-0.2+0.2*[3, 9, 30].index(win_length),\n",
    "            diff_all[win_length][state_length]['mean_diff'],\n",
    "            yerr=diff_all[win_length][state_length]['std_diff'],\n",
    "            width=0.2, label=f'{win_length}s'\n",
    "        )\n",
    "ax.set_xticks(range(len(diff_all.index)))\n",
    "ax.set_xticklabels([s.replace('_', '\\n') for s in diff_all.index])\n",
    "ax.legend(fontsize=7, title='window length', title_fontsize=9)\n",
    "ax.set_title(f'{state_length}s state length')\n",
    "ax.set_ylabel('differentiation');"
   ]
  },
  {
   "cell_type": "markdown",
   "metadata": {
    "heading_collapsed": "true",
    "tags": []
   },
   "source": [
    "# Differentiation vs state length panels"
   ]
  },
  {
   "cell_type": "code",
   "execution_count": 36,
   "metadata": {
    "execution": {
     "iopub.execute_input": "2022-11-06T11:14:22.886922Z",
     "iopub.status.busy": "2022-11-06T11:14:22.885863Z",
     "iopub.status.idle": "2022-11-06T11:14:22.988023Z",
     "shell.execute_reply": "2022-11-06T11:14:22.987237Z",
     "shell.execute_reply.started": "2022-11-06T11:14:22.886797Z"
    },
    "tags": []
   },
   "outputs": [
    {
     "data": {
      "application/vnd.jupyter.widget-view+json": {
       "model_id": "876bf651e9a64a0c91ea94c46a1408ad",
       "version_major": 2,
       "version_minor": 0
      },
      "text/plain": [
       "Canvas(toolbar=Toolbar(toolitems=[('Home', 'Reset original view', 'home', 'home'), ('Back', 'Back to previous …"
      ]
     },
     "metadata": {},
     "output_type": "display_data"
    },
    {
     "ename": "NameError",
     "evalue": "name 'autocorr_times' is not defined",
     "output_type": "error",
     "traceback": [
      "\u001b[0;31m---------------------------------------------------------------------------\u001b[0m",
      "\u001b[0;31mNameError\u001b[0m                                 Traceback (most recent call last)",
      "\u001b[0;32m<ipython-input-36-376e477b6fd2>\u001b[0m in \u001b[0;36m<module>\u001b[0;34m\u001b[0m\n\u001b[1;32m      8\u001b[0m \u001b[0maxes\u001b[0m\u001b[0;34m.\u001b[0m\u001b[0mappend\u001b[0m\u001b[0;34m(\u001b[0m\u001b[0mf\u001b[0m\u001b[0;34m.\u001b[0m\u001b[0madd_subplot\u001b[0m\u001b[0;34m(\u001b[0m\u001b[0mgs\u001b[0m\u001b[0;34m[\u001b[0m\u001b[0;36m1\u001b[0m\u001b[0;34m,\u001b[0m \u001b[0;36m2\u001b[0m\u001b[0;34m]\u001b[0m\u001b[0;34m,\u001b[0m \u001b[0msharex\u001b[0m\u001b[0;34m=\u001b[0m\u001b[0maxes\u001b[0m\u001b[0;34m[\u001b[0m\u001b[0;36m0\u001b[0m\u001b[0;34m]\u001b[0m\u001b[0;34m)\u001b[0m\u001b[0;34m)\u001b[0m\u001b[0;34m\u001b[0m\u001b[0;34m\u001b[0m\u001b[0m\n\u001b[1;32m      9\u001b[0m \u001b[0;34m\u001b[0m\u001b[0m\n\u001b[0;32m---> 10\u001b[0;31m \u001b[0mautocorr_times\u001b[0m \u001b[0;34m=\u001b[0m \u001b[0mautocorr_times\u001b[0m\u001b[0;34m[\u001b[0m\u001b[0mautocorr_times\u001b[0m\u001b[0;34m.\u001b[0m\u001b[0mmean\u001b[0m\u001b[0;34m(\u001b[0m\u001b[0;34m)\u001b[0m\u001b[0;34m.\u001b[0m\u001b[0msort_values\u001b[0m\u001b[0;34m(\u001b[0m\u001b[0;34m)\u001b[0m\u001b[0;34m.\u001b[0m\u001b[0mindex\u001b[0m\u001b[0;34m]\u001b[0m\u001b[0;34m\u001b[0m\u001b[0;34m\u001b[0m\u001b[0m\n\u001b[0m\u001b[1;32m     11\u001b[0m sns.boxplot(\n\u001b[1;32m     12\u001b[0m     \u001b[0mdata\u001b[0m\u001b[0;34m=\u001b[0m\u001b[0mautocorr_times\u001b[0m\u001b[0;34m,\u001b[0m \u001b[0max\u001b[0m\u001b[0;34m=\u001b[0m\u001b[0max_ac\u001b[0m\u001b[0;34m,\u001b[0m\u001b[0;34m\u001b[0m\u001b[0;34m\u001b[0m\u001b[0m\n",
      "\u001b[0;31mNameError\u001b[0m: name 'autocorr_times' is not defined"
     ]
    }
   ],
   "source": [
    "f = plt.figure(figsize=(5, 3), )\n",
    "gs = plt.GridSpec(2, 3, figure=f, hspace=0.9, wspace=0.2, height_ratios=[1, 0.8])\n",
    "# gs.update(left=0.15, right=0.95, top=0.965, bottom=0.1)\n",
    "ax_ac = f.add_subplot(gs[0, :])\n",
    "axes = []\n",
    "axes.append(f.add_subplot(gs[1, 0]))\n",
    "axes.append(f.add_subplot(gs[1, 1], sharex=axes[0]))\n",
    "axes.append(f.add_subplot(gs[1, 2], sharex=axes[0]))\n",
    "\n",
    "autocorr_times = autocorr_times[autocorr_times.mean().sort_values().index]\n",
    "sns.boxplot(\n",
    "    data=autocorr_times, ax=ax_ac,\n",
    "    linewidth=0.5, showfliers=False, color=cm.Greys(0.4, 0.4)\n",
    ")\n",
    "ax_ac.set_xticklabels(\n",
    "    [x.get_text().replace('_', '\\n') for x in ax_ac.get_xticklabels()],\n",
    "    fontsize=7\n",
    ")\n",
    "ax_ac.set_ylabel('characteristic\\ntimescale (s)', fontsize=7.8)\n",
    "ax_ac.set_yticks([0, 0.5, 1, 1.5])\n",
    "ax_ac.tick_params(axis='both', labelsize=7)\n",
    "\n",
    "example_stimuli = [\n",
    "    'natural_movie_one_shuffled',\n",
    "    'static_gratings', 'flashes'\n",
    "]\n",
    "xcoords = [0.07, 0.55, 0.815]\n",
    "ycoords = [-0.6, -0.4, -0.3]\n",
    "\n",
    "for i, (ax, stim) in enumerate(zip(axes, example_stimuli)):\n",
    "    _d = diff_all.loc[stim].groupby(level=[1, 2]).mean().unstack()\n",
    "    _d.mean_diff.plot(ax=ax, yerr=_d.std_diff, lw=0.75)\n",
    "    if i==0:\n",
    "        ax.set_ylabel('stimulus\\ndifferentiation', fontsize=8)\n",
    "    ax.axvline(autocorr_times[stim].mean(), c='grey', lw=0.6)\n",
    "    ax.set_xscale('log')\n",
    "    ax.set_yscale('log', nonpositive='mask')\n",
    "    ax.tick_params(axis='both', labelsize=7, pad=0.5)\n",
    "    ax.set_ylim(0.01, 1)\n",
    "    ax.set_xticks([0.01, 0.1, 1, 10])\n",
    "    sns.despine(ax=ax)\n",
    "    if i!=0:\n",
    "        ax.set_yticks([])\n",
    "    patch = patches.ConnectionPatch(\n",
    "        xyA=(xcoords[i], ycoords[i]),\n",
    "        xyB=(0.4, 1),\n",
    "        coordsA=\"axes fraction\",\n",
    "        coordsB=\"axes fraction\",\n",
    "        axesA=ax_ac,\n",
    "        axesB=ax,\n",
    "        arrowstyle=\"->\",\n",
    "        clip_on=False,\n",
    "        color=cm.Greys(0.6, 0.9)\n",
    "    )\n",
    "    ax_ac.add_artist(patch)\n",
    "    \n",
    "axes[1].set_xlabel('time (s)', fontsize=8, labelpad=2)\n",
    "f.align_ylabels()\n",
    "\n",
    "f.savefig('fig_timescales_stim_ac.pdf')"
   ]
  },
  {
   "cell_type": "code",
   "execution_count": 35,
   "metadata": {
    "execution": {
     "iopub.execute_input": "2021-11-29T08:33:13.998328Z",
     "iopub.status.busy": "2021-11-29T08:33:13.997234Z",
     "iopub.status.idle": "2021-11-29T08:33:14.193849Z",
     "shell.execute_reply": "2021-11-29T08:33:14.193353Z",
     "shell.execute_reply.started": "2021-11-29T08:33:13.998186Z"
    },
    "tags": []
   },
   "outputs": [],
   "source": [
    "f.savefig('fig_timescales_stim_ac.pdf')"
   ]
  },
  {
   "cell_type": "markdown",
   "metadata": {
    "heading_collapsed": "true",
    "tags": [],
    "toc-hr-collapsed": true,
    "toc-nb-collapsed": true
   },
   "source": [
    "# Generate required movies"
   ]
  },
  {
   "cell_type": "markdown",
   "metadata": {
    "execution": {
     "iopub.execute_input": "2021-01-27T21:08:05.545103Z",
     "iopub.status.busy": "2021-01-27T21:08:05.544782Z",
     "iopub.status.idle": "2021-01-27T21:08:05.560362Z",
     "shell.execute_reply": "2021-01-27T21:08:05.559894Z",
     "shell.execute_reply.started": "2021-01-27T21:08:05.545075Z"
    }
   },
   "source": [
    "## Gabors"
   ]
  },
  {
   "cell_type": "code",
   "execution_count": 14,
   "metadata": {
    "execution": {
     "iopub.execute_input": "2021-11-27T08:35:40.885238Z",
     "iopub.status.busy": "2021-11-27T08:35:40.883754Z",
     "iopub.status.idle": "2021-11-27T08:35:40.948943Z",
     "shell.execute_reply": "2021-11-27T08:35:40.948344Z",
     "shell.execute_reply.started": "2021-11-27T08:35:40.885109Z"
    },
    "tags": []
   },
   "outputs": [
    {
     "data": {
      "text/html": [
       "<div>\n",
       "<style scoped>\n",
       "    .dataframe tbody tr th:only-of-type {\n",
       "        vertical-align: middle;\n",
       "    }\n",
       "\n",
       "    .dataframe tbody tr th {\n",
       "        vertical-align: top;\n",
       "    }\n",
       "\n",
       "    .dataframe thead th {\n",
       "        text-align: right;\n",
       "    }\n",
       "</style>\n",
       "<table border=\"1\" class=\"dataframe\">\n",
       "  <thead>\n",
       "    <tr style=\"text-align: right;\">\n",
       "      <th></th>\n",
       "      <th>contrast</th>\n",
       "      <th>orientation</th>\n",
       "      <th>pos_x</th>\n",
       "      <th>pos_y</th>\n",
       "      <th>spatial_frequency</th>\n",
       "      <th>temporal_frequency</th>\n",
       "    </tr>\n",
       "  </thead>\n",
       "  <tbody>\n",
       "    <tr>\n",
       "      <th>0</th>\n",
       "      <td>0.8</td>\n",
       "      <td>45.0</td>\n",
       "      <td>40.0</td>\n",
       "      <td>10.0</td>\n",
       "      <td>0.08</td>\n",
       "      <td>4.0</td>\n",
       "    </tr>\n",
       "    <tr>\n",
       "      <th>1</th>\n",
       "      <td>0.8</td>\n",
       "      <td>0.0</td>\n",
       "      <td>40.0</td>\n",
       "      <td>-40.0</td>\n",
       "      <td>0.08</td>\n",
       "      <td>4.0</td>\n",
       "    </tr>\n",
       "    <tr>\n",
       "      <th>2</th>\n",
       "      <td>0.8</td>\n",
       "      <td>90.0</td>\n",
       "      <td>-20.0</td>\n",
       "      <td>0.0</td>\n",
       "      <td>0.08</td>\n",
       "      <td>4.0</td>\n",
       "    </tr>\n",
       "    <tr>\n",
       "      <th>3</th>\n",
       "      <td>0.8</td>\n",
       "      <td>0.0</td>\n",
       "      <td>30.0</td>\n",
       "      <td>-40.0</td>\n",
       "      <td>0.08</td>\n",
       "      <td>4.0</td>\n",
       "    </tr>\n",
       "    <tr>\n",
       "      <th>4</th>\n",
       "      <td>0.8</td>\n",
       "      <td>45.0</td>\n",
       "      <td>10.0</td>\n",
       "      <td>30.0</td>\n",
       "      <td>0.08</td>\n",
       "      <td>4.0</td>\n",
       "    </tr>\n",
       "    <tr>\n",
       "      <th>...</th>\n",
       "      <td>...</td>\n",
       "      <td>...</td>\n",
       "      <td>...</td>\n",
       "      <td>...</td>\n",
       "      <td>...</td>\n",
       "      <td>...</td>\n",
       "    </tr>\n",
       "    <tr>\n",
       "      <th>238</th>\n",
       "      <td>0.8</td>\n",
       "      <td>90.0</td>\n",
       "      <td>0.0</td>\n",
       "      <td>0.0</td>\n",
       "      <td>0.08</td>\n",
       "      <td>4.0</td>\n",
       "    </tr>\n",
       "    <tr>\n",
       "      <th>239</th>\n",
       "      <td>0.8</td>\n",
       "      <td>90.0</td>\n",
       "      <td>20.0</td>\n",
       "      <td>40.0</td>\n",
       "      <td>0.08</td>\n",
       "      <td>4.0</td>\n",
       "    </tr>\n",
       "    <tr>\n",
       "      <th>240</th>\n",
       "      <td>0.8</td>\n",
       "      <td>45.0</td>\n",
       "      <td>30.0</td>\n",
       "      <td>40.0</td>\n",
       "      <td>0.08</td>\n",
       "      <td>4.0</td>\n",
       "    </tr>\n",
       "    <tr>\n",
       "      <th>241</th>\n",
       "      <td>0.8</td>\n",
       "      <td>45.0</td>\n",
       "      <td>30.0</td>\n",
       "      <td>0.0</td>\n",
       "      <td>0.08</td>\n",
       "      <td>4.0</td>\n",
       "    </tr>\n",
       "    <tr>\n",
       "      <th>242</th>\n",
       "      <td>0.8</td>\n",
       "      <td>90.0</td>\n",
       "      <td>40.0</td>\n",
       "      <td>0.0</td>\n",
       "      <td>0.08</td>\n",
       "      <td>4.0</td>\n",
       "    </tr>\n",
       "  </tbody>\n",
       "</table>\n",
       "<p>243 rows × 6 columns</p>\n",
       "</div>"
      ],
      "text/plain": [
       "     contrast  orientation  pos_x  pos_y  spatial_frequency  \\\n",
       "0         0.8         45.0   40.0   10.0               0.08   \n",
       "1         0.8          0.0   40.0  -40.0               0.08   \n",
       "2         0.8         90.0  -20.0    0.0               0.08   \n",
       "3         0.8          0.0   30.0  -40.0               0.08   \n",
       "4         0.8         45.0   10.0   30.0               0.08   \n",
       "..        ...          ...    ...    ...                ...   \n",
       "238       0.8         90.0    0.0    0.0               0.08   \n",
       "239       0.8         90.0   20.0   40.0               0.08   \n",
       "240       0.8         45.0   30.0   40.0               0.08   \n",
       "241       0.8         45.0   30.0    0.0               0.08   \n",
       "242       0.8         90.0   40.0    0.0               0.08   \n",
       "\n",
       "     temporal_frequency  \n",
       "0                   4.0  \n",
       "1                   4.0  \n",
       "2                   4.0  \n",
       "3                   4.0  \n",
       "4                   4.0  \n",
       "..                  ...  \n",
       "238                 4.0  \n",
       "239                 4.0  \n",
       "240                 4.0  \n",
       "241                 4.0  \n",
       "242                 4.0  \n",
       "\n",
       "[243 rows x 6 columns]"
      ]
     },
     "execution_count": 14,
     "metadata": {},
     "output_type": "execute_result"
    }
   ],
   "source": [
    "params = pd.read_csv(path.join(stimulus_directory, 'gabors', 'index.csv'))\n",
    "params"
   ]
  },
  {
   "cell_type": "code",
   "execution_count": 42,
   "metadata": {
    "execution": {
     "iopub.execute_input": "2021-10-21T05:18:16.302039Z",
     "iopub.status.busy": "2021-10-21T05:18:16.301415Z",
     "iopub.status.idle": "2021-10-21T05:18:16.325379Z",
     "shell.execute_reply": "2021-10-21T05:18:16.324697Z",
     "shell.execute_reply.started": "2021-10-21T05:18:16.301981Z"
    },
    "tags": []
   },
   "outputs": [],
   "source": [
    "# load pre-generated gabor frames (192x130 pixels)\n",
    "def gen_gabor_frame(idx):\n",
    "    return np.load(path.join(stimulus_directory, 'gabors', f'{idx}.npy'))[0]\n",
    "\n",
    "def gen_gabor_clip(t_length_s=90):\n",
    "    conditions = np.random.randint(0, len(params), t_length_s*4) # each condition is for 1/4 seconds\n",
    "    frames = np.zeros((t_length_s*frame_rate, *frame_size))\n",
    "    for t in tqdm(range(t_length_s*frame_rate)):\n",
    "        i = int(t/frame_rate*4)\n",
    "        frames[t] = gen_gabor_frame(conditions[i])\n",
    "    return frames"
   ]
  },
  {
   "cell_type": "code",
   "execution_count": 43,
   "metadata": {
    "execution": {
     "iopub.execute_input": "2021-10-21T05:18:18.892191Z",
     "iopub.status.busy": "2021-10-21T05:18:18.891920Z",
     "iopub.status.idle": "2021-10-21T05:18:18.912059Z",
     "shell.execute_reply": "2021-10-21T05:18:18.911387Z",
     "shell.execute_reply.started": "2021-10-21T05:18:18.892162Z"
    },
    "tags": []
   },
   "outputs": [
    {
     "data": {
      "text/html": [
       "<video src=\"/allen/programs/braintv/workgroups/tiny-blue-dot/differentiation/refactor/stimuli/stim_gabors_90.mp4\" controls  width=\"384\"  height=\"260\">\n",
       "      Your browser does not support the <code>video</code> element.\n",
       "    </video>"
      ],
      "text/plain": [
       "<IPython.core.display.Video object>"
      ]
     },
     "metadata": {},
     "output_type": "display_data"
    }
   ],
   "source": [
    "T = 90\n",
    "try:\n",
    "    display(Video(path.join(stimulus_directory, f'stim_gabors_{T}.mp4'), width=frame_size[1]*2, height=frame_size[0]*2))\n",
    "except:\n",
    "    clip = gen_gabor_clip(T)\n",
    "    np.save(path.join(stimulus_directory, f'stim_gabors_{T}.npy'), clip, allow_pickle=False)\n",
    "    with capture_output():\n",
    "        imageio.mimwrite(path.join(stimulus_directory, f'stim_gabors_{T}.mp4'), clip.astype('uint8'), fps=frame_rate)\n",
    "    display(Video(path.join(stimulus_directory, f'stim_gabors_{T}.mp4'), width=frame_size[1]*2, height=frame_size[0]*2))"
   ]
  },
  {
   "cell_type": "markdown",
   "metadata": {},
   "source": [
    "## Drifting gratings"
   ]
  },
  {
   "cell_type": "code",
   "execution_count": 44,
   "metadata": {
    "execution": {
     "iopub.execute_input": "2021-10-21T05:18:44.490474Z",
     "iopub.status.busy": "2021-10-21T05:18:44.490078Z",
     "iopub.status.idle": "2021-10-21T05:18:44.562472Z",
     "shell.execute_reply": "2021-10-21T05:18:44.561912Z",
     "shell.execute_reply.started": "2021-10-21T05:18:44.490437Z"
    },
    "tags": []
   },
   "outputs": [
    {
     "data": {
      "text/html": [
       "<div>\n",
       "<style scoped>\n",
       "    .dataframe tbody tr th:only-of-type {\n",
       "        vertical-align: middle;\n",
       "    }\n",
       "\n",
       "    .dataframe tbody tr th {\n",
       "        vertical-align: top;\n",
       "    }\n",
       "\n",
       "    .dataframe thead th {\n",
       "        text-align: right;\n",
       "    }\n",
       "</style>\n",
       "<table border=\"1\" class=\"dataframe\">\n",
       "  <thead>\n",
       "    <tr style=\"text-align: right;\">\n",
       "      <th></th>\n",
       "      <th>contrast</th>\n",
       "      <th>orientation</th>\n",
       "      <th>spatial_frequency</th>\n",
       "      <th>temporal_frequency</th>\n",
       "    </tr>\n",
       "  </thead>\n",
       "  <tbody>\n",
       "    <tr>\n",
       "      <th>0</th>\n",
       "      <td>0.8</td>\n",
       "      <td>315.0</td>\n",
       "      <td>0.04</td>\n",
       "      <td>15.0</td>\n",
       "    </tr>\n",
       "    <tr>\n",
       "      <th>1</th>\n",
       "      <td>0.8</td>\n",
       "      <td>135.0</td>\n",
       "      <td>0.04</td>\n",
       "      <td>4.0</td>\n",
       "    </tr>\n",
       "    <tr>\n",
       "      <th>2</th>\n",
       "      <td>0.8</td>\n",
       "      <td>225.0</td>\n",
       "      <td>0.04</td>\n",
       "      <td>1.0</td>\n",
       "    </tr>\n",
       "    <tr>\n",
       "      <th>3</th>\n",
       "      <td>0.8</td>\n",
       "      <td>180.0</td>\n",
       "      <td>0.04</td>\n",
       "      <td>8.0</td>\n",
       "    </tr>\n",
       "    <tr>\n",
       "      <th>4</th>\n",
       "      <td>0.8</td>\n",
       "      <td>0.0</td>\n",
       "      <td>0.04</td>\n",
       "      <td>8.0</td>\n",
       "    </tr>\n",
       "  </tbody>\n",
       "</table>\n",
       "</div>"
      ],
      "text/plain": [
       "   contrast  orientation  spatial_frequency  temporal_frequency\n",
       "0       0.8        315.0               0.04                15.0\n",
       "1       0.8        135.0               0.04                 4.0\n",
       "2       0.8        225.0               0.04                 1.0\n",
       "3       0.8        180.0               0.04                 8.0\n",
       "4       0.8          0.0               0.04                 8.0"
      ]
     },
     "metadata": {},
     "output_type": "display_data"
    },
    {
     "data": {
      "text/html": [
       "<div>\n",
       "<style scoped>\n",
       "    .dataframe tbody tr th:only-of-type {\n",
       "        vertical-align: middle;\n",
       "    }\n",
       "\n",
       "    .dataframe tbody tr th {\n",
       "        vertical-align: top;\n",
       "    }\n",
       "\n",
       "    .dataframe thead th {\n",
       "        text-align: right;\n",
       "    }\n",
       "</style>\n",
       "<table border=\"1\" class=\"dataframe\">\n",
       "  <thead>\n",
       "    <tr style=\"text-align: right;\">\n",
       "      <th></th>\n",
       "      <th>contrast</th>\n",
       "      <th>orientation</th>\n",
       "      <th>spatial_frequency</th>\n",
       "      <th>temporal_frequency</th>\n",
       "    </tr>\n",
       "  </thead>\n",
       "  <tbody>\n",
       "    <tr>\n",
       "      <th>0</th>\n",
       "      <td>1.00</td>\n",
       "      <td>0.0</td>\n",
       "      <td>0.04</td>\n",
       "      <td>2.0</td>\n",
       "    </tr>\n",
       "    <tr>\n",
       "      <th>1</th>\n",
       "      <td>0.60</td>\n",
       "      <td>90.0</td>\n",
       "      <td>0.04</td>\n",
       "      <td>2.0</td>\n",
       "    </tr>\n",
       "    <tr>\n",
       "      <th>2</th>\n",
       "      <td>0.60</td>\n",
       "      <td>135.0</td>\n",
       "      <td>0.04</td>\n",
       "      <td>2.0</td>\n",
       "    </tr>\n",
       "    <tr>\n",
       "      <th>3</th>\n",
       "      <td>1.00</td>\n",
       "      <td>45.0</td>\n",
       "      <td>0.04</td>\n",
       "      <td>2.0</td>\n",
       "    </tr>\n",
       "    <tr>\n",
       "      <th>4</th>\n",
       "      <td>0.01</td>\n",
       "      <td>45.0</td>\n",
       "      <td>0.04</td>\n",
       "      <td>2.0</td>\n",
       "    </tr>\n",
       "  </tbody>\n",
       "</table>\n",
       "</div>"
      ],
      "text/plain": [
       "   contrast  orientation  spatial_frequency  temporal_frequency\n",
       "0      1.00          0.0               0.04                 2.0\n",
       "1      0.60         90.0               0.04                 2.0\n",
       "2      0.60        135.0               0.04                 2.0\n",
       "3      1.00         45.0               0.04                 2.0\n",
       "4      0.01         45.0               0.04                 2.0"
      ]
     },
     "metadata": {},
     "output_type": "display_data"
    }
   ],
   "source": [
    "params = pd.read_csv(path.join(stimulus_directory, 'drifting_gratings', 'index.csv'))\n",
    "params_dgc = pd.read_csv(path.join(stimulus_directory, 'contrast_response', 'index.csv'))\n",
    "display(params.head())\n",
    "display(params_dgc.head())"
   ]
  },
  {
   "cell_type": "code",
   "execution_count": 45,
   "metadata": {
    "execution": {
     "iopub.execute_input": "2021-10-21T05:18:45.486638Z",
     "iopub.status.busy": "2021-10-21T05:18:45.486353Z",
     "iopub.status.idle": "2021-10-21T05:18:45.509528Z",
     "shell.execute_reply": "2021-10-21T05:18:45.508947Z",
     "shell.execute_reply.started": "2021-10-21T05:18:45.486604Z"
    },
    "tags": []
   },
   "outputs": [],
   "source": [
    "# generate a drifting grating cliplet for a single parameter set\n",
    "# drifting gratings contrast has a flash time of 250ms and regular dg has 2s\n",
    "def gen_dg_cliplet(idx, stim='dg'):\n",
    "    if stim=='dg':\n",
    "        flash_time=2000\n",
    "        clip_time=3000\n",
    "    elif stim=='dgc':\n",
    "        flash_time=250\n",
    "        clip_time=1000\n",
    "    frames = np.zeros((int(clip_time/1000*frame_rate), *frame_size))+127\n",
    "    if stim=='dg':\n",
    "        contrast, orientation, s_freq, t_freq = params.loc[idx]\n",
    "    elif stim=='dgc':\n",
    "        contrast, orientation, s_freq, t_freq = params_dgc.loc[idx]\n",
    "    s_freq = s_freq*s_freq_scale\n",
    "    theta = orientation/180*np.pi\n",
    "    for i in range(int(flash_time/1000*frame_rate)): # 2s worth of drifting gratings\n",
    "        phase = 2*np.pi*t_freq*i/frame_rate\n",
    "        for x in range(len(frames[i])):\n",
    "            for y in range(len(frames[i][x])):\n",
    "                sin_profile = np.cos(\n",
    "                    phase+(y*np.cos(theta)-x*np.sin(theta))*s_freq\n",
    "                )\n",
    "                try:\n",
    "                    frames[i][x][y] = 127+int(127*contrast*sin_profile)\n",
    "                except Exception:\n",
    "                    print('Error occurred with drifting grating', params if stim=='dg' else params_dgc)\n",
    "                    frames[i][x][y] = 127\n",
    "    return frames\n",
    "\n",
    "def gen_dg_clip(t_length_s=90, stim='dg'):\n",
    "    if stim=='dg':\n",
    "        flash_time=2000\n",
    "        clip_time=3000\n",
    "    elif stim=='dgc':\n",
    "        flash_time=250\n",
    "        clip_time=1000\n",
    "    if stim=='dg':\n",
    "        conditions = np.random.randint(0, len(params), int(t_length_s/(clip_time/1000)))\n",
    "    elif stim=='dgc':\n",
    "        conditions = np.random.randint(0, len(params_dgc), int(t_length_s/(clip_time/1000)))\n",
    "    frames = np.zeros((t_length_s*frame_rate, *frame_size))+127\n",
    "    for i, c in enumerate(tqdm(range(len(conditions)), desc=stim)):\n",
    "        t = int(c*frame_rate*clip_time/1000)\n",
    "        frames[t:t+int(clip_time/1000*frame_rate)] = gen_dg_cliplet(conditions[i], stim=stim)\n",
    "    return frames"
   ]
  },
  {
   "cell_type": "code",
   "execution_count": 46,
   "metadata": {
    "execution": {
     "iopub.execute_input": "2021-10-21T05:18:46.537403Z",
     "iopub.status.busy": "2021-10-21T05:18:46.537130Z",
     "iopub.status.idle": "2021-10-21T05:18:46.552716Z",
     "shell.execute_reply": "2021-10-21T05:18:46.552145Z",
     "shell.execute_reply.started": "2021-10-21T05:18:46.537368Z"
    },
    "tags": []
   },
   "outputs": [],
   "source": [
    "# # Test generation of a single grating clip\n",
    "# cliplet = gen_dg_cliplet(2, stim='dgc')\n",
    "# with capture_output():\n",
    "#     imageio.mimwrite('stim_tmp.mp4', cliplet.astype('uint8'), fps=frame_rate)\n",
    "# display(Video('stim_tmp.mp4', width=frame_size[1], height=frame_size[0]))"
   ]
  },
  {
   "cell_type": "code",
   "execution_count": 47,
   "metadata": {
    "execution": {
     "iopub.execute_input": "2021-10-21T05:18:46.764497Z",
     "iopub.status.busy": "2021-10-21T05:18:46.764241Z",
     "iopub.status.idle": "2021-10-21T05:18:46.785349Z",
     "shell.execute_reply": "2021-10-21T05:18:46.784798Z",
     "shell.execute_reply.started": "2021-10-21T05:18:46.764465Z"
    },
    "tags": []
   },
   "outputs": [
    {
     "data": {
      "text/html": [
       "<video src=\"/allen/programs/braintv/workgroups/tiny-blue-dot/differentiation/refactor/stimuli/stim_dgc_90.mp4\" controls  width=\"384\"  height=\"260\">\n",
       "      Your browser does not support the <code>video</code> element.\n",
       "    </video>"
      ],
      "text/plain": [
       "<IPython.core.display.Video object>"
      ]
     },
     "metadata": {},
     "output_type": "display_data"
    },
    {
     "data": {
      "text/html": [
       "<video src=\"/allen/programs/braintv/workgroups/tiny-blue-dot/differentiation/refactor/stimuli/stim_dg_90.mp4\" controls  width=\"384\"  height=\"260\">\n",
       "      Your browser does not support the <code>video</code> element.\n",
       "    </video>"
      ],
      "text/plain": [
       "<IPython.core.display.Video object>"
      ]
     },
     "metadata": {},
     "output_type": "display_data"
    }
   ],
   "source": [
    "T = 90\n",
    "for stim in ['dgc', 'dg']:\n",
    "    try:\n",
    "        display(Video(path.join(stimulus_directory, f'stim_{stim}_{T}.mp4'), width=frame_size[1]*2, height=frame_size[0]*2))\n",
    "    except:\n",
    "        clip = gen_dg_clip(T, stim=stim)\n",
    "        np.save(path.join(stimulus_directory, f'stim_{stim}_{T}.npy'), clip, allow_pickle=False)\n",
    "        with capture_output():\n",
    "            imageio.mimwrite(path.join(stimulus_directory, f'stim_{stim}_{T}.mp4'), clip, fps=frame_rate)\n",
    "        display(Video(path.join(stimulus_directory, f'stim_{stim}_{T}.mp4'), width=frame_size[1]*2, height=frame_size[0]*2))"
   ]
  },
  {
   "cell_type": "markdown",
   "metadata": {},
   "source": [
    "## Static gratings"
   ]
  },
  {
   "cell_type": "code",
   "execution_count": 48,
   "metadata": {
    "execution": {
     "iopub.execute_input": "2021-10-21T05:18:55.130258Z",
     "iopub.status.busy": "2021-10-21T05:18:55.129996Z",
     "iopub.status.idle": "2021-10-21T05:18:55.171910Z",
     "shell.execute_reply": "2021-10-21T05:18:55.170804Z",
     "shell.execute_reply.started": "2021-10-21T05:18:55.130229Z"
    },
    "tags": []
   },
   "outputs": [
    {
     "data": {
      "text/html": [
       "<div>\n",
       "<style scoped>\n",
       "    .dataframe tbody tr th:only-of-type {\n",
       "        vertical-align: middle;\n",
       "    }\n",
       "\n",
       "    .dataframe tbody tr th {\n",
       "        vertical-align: top;\n",
       "    }\n",
       "\n",
       "    .dataframe thead th {\n",
       "        text-align: right;\n",
       "    }\n",
       "</style>\n",
       "<table border=\"1\" class=\"dataframe\">\n",
       "  <thead>\n",
       "    <tr style=\"text-align: right;\">\n",
       "      <th></th>\n",
       "      <th>contrast</th>\n",
       "      <th>orientation</th>\n",
       "      <th>spatial_frequency</th>\n",
       "      <th>phase</th>\n",
       "    </tr>\n",
       "  </thead>\n",
       "  <tbody>\n",
       "    <tr>\n",
       "      <th>0</th>\n",
       "      <td>0.8</td>\n",
       "      <td>120.0</td>\n",
       "      <td>0.02</td>\n",
       "      <td>0.00</td>\n",
       "    </tr>\n",
       "    <tr>\n",
       "      <th>1</th>\n",
       "      <td>0.8</td>\n",
       "      <td>120.0</td>\n",
       "      <td>0.32</td>\n",
       "      <td>0.75</td>\n",
       "    </tr>\n",
       "    <tr>\n",
       "      <th>2</th>\n",
       "      <td>0.8</td>\n",
       "      <td>30.0</td>\n",
       "      <td>0.04</td>\n",
       "      <td>0.00</td>\n",
       "    </tr>\n",
       "    <tr>\n",
       "      <th>3</th>\n",
       "      <td>0.8</td>\n",
       "      <td>60.0</td>\n",
       "      <td>0.32</td>\n",
       "      <td>0.75</td>\n",
       "    </tr>\n",
       "    <tr>\n",
       "      <th>4</th>\n",
       "      <td>0.8</td>\n",
       "      <td>30.0</td>\n",
       "      <td>0.16</td>\n",
       "      <td>0.75</td>\n",
       "    </tr>\n",
       "    <tr>\n",
       "      <th>...</th>\n",
       "      <td>...</td>\n",
       "      <td>...</td>\n",
       "      <td>...</td>\n",
       "      <td>...</td>\n",
       "    </tr>\n",
       "    <tr>\n",
       "      <th>116</th>\n",
       "      <td>0.8</td>\n",
       "      <td>90.0</td>\n",
       "      <td>0.08</td>\n",
       "      <td>0.50</td>\n",
       "    </tr>\n",
       "    <tr>\n",
       "      <th>117</th>\n",
       "      <td>0.8</td>\n",
       "      <td>0.0</td>\n",
       "      <td>0.08</td>\n",
       "      <td>0.25</td>\n",
       "    </tr>\n",
       "    <tr>\n",
       "      <th>118</th>\n",
       "      <td>0.8</td>\n",
       "      <td>30.0</td>\n",
       "      <td>0.02</td>\n",
       "      <td>0.00</td>\n",
       "    </tr>\n",
       "    <tr>\n",
       "      <th>119</th>\n",
       "      <td>0.8</td>\n",
       "      <td>120.0</td>\n",
       "      <td>0.16</td>\n",
       "      <td>0.50</td>\n",
       "    </tr>\n",
       "    <tr>\n",
       "      <th>120</th>\n",
       "      <td>0.8</td>\n",
       "      <td>90.0</td>\n",
       "      <td>0.16</td>\n",
       "      <td>0.75</td>\n",
       "    </tr>\n",
       "  </tbody>\n",
       "</table>\n",
       "<p>121 rows × 4 columns</p>\n",
       "</div>"
      ],
      "text/plain": [
       "     contrast  orientation  spatial_frequency  phase\n",
       "0         0.8        120.0               0.02   0.00\n",
       "1         0.8        120.0               0.32   0.75\n",
       "2         0.8         30.0               0.04   0.00\n",
       "3         0.8         60.0               0.32   0.75\n",
       "4         0.8         30.0               0.16   0.75\n",
       "..        ...          ...                ...    ...\n",
       "116       0.8         90.0               0.08   0.50\n",
       "117       0.8          0.0               0.08   0.25\n",
       "118       0.8         30.0               0.02   0.00\n",
       "119       0.8        120.0               0.16   0.50\n",
       "120       0.8         90.0               0.16   0.75\n",
       "\n",
       "[121 rows x 4 columns]"
      ]
     },
     "execution_count": 48,
     "metadata": {},
     "output_type": "execute_result"
    }
   ],
   "source": [
    "params = pd.read_csv(path.join(stimulus_directory, 'static_gratings', 'index.csv'))\n",
    "params"
   ]
  },
  {
   "cell_type": "code",
   "execution_count": 49,
   "metadata": {
    "execution": {
     "iopub.execute_input": "2021-10-21T05:18:55.797609Z",
     "iopub.status.busy": "2021-10-21T05:18:55.797355Z",
     "iopub.status.idle": "2021-10-21T05:18:55.816287Z",
     "shell.execute_reply": "2021-10-21T05:18:55.815657Z",
     "shell.execute_reply.started": "2021-10-21T05:18:55.797579Z"
    },
    "tags": []
   },
   "outputs": [],
   "source": [
    "# load pre-generated gabor frames (192x130 pixels)\n",
    "def gen_sg_frame(idx):\n",
    "    return np.load(path.join(stimulus_directory, 'static_gratings', f'{idx}.npy'))[0]\n",
    "\n",
    "def gen_sg_clip(t_length_s=90):\n",
    "    conditions = np.random.randint(0, len(params), t_length_s*4) # each condition is for 1/4 seconds\n",
    "    frames = np.zeros((t_length_s*frame_rate, *frame_size))\n",
    "    for t in tqdm(range(t_length_s*frame_rate)):\n",
    "        i = int(t/frame_rate*4)\n",
    "        frames[t] = gen_sg_frame(conditions[i])\n",
    "    return frames"
   ]
  },
  {
   "cell_type": "code",
   "execution_count": 50,
   "metadata": {
    "execution": {
     "iopub.execute_input": "2021-10-21T05:18:56.471198Z",
     "iopub.status.busy": "2021-10-21T05:18:56.470942Z",
     "iopub.status.idle": "2021-10-21T05:18:56.492104Z",
     "shell.execute_reply": "2021-10-21T05:18:56.491209Z",
     "shell.execute_reply.started": "2021-10-21T05:18:56.471169Z"
    },
    "tags": []
   },
   "outputs": [
    {
     "data": {
      "text/html": [
       "<video src=\"/allen/programs/braintv/workgroups/tiny-blue-dot/differentiation/refactor/stimuli/stim_sg_90.mp4\" controls  width=\"384\"  height=\"260\">\n",
       "      Your browser does not support the <code>video</code> element.\n",
       "    </video>"
      ],
      "text/plain": [
       "<IPython.core.display.Video object>"
      ]
     },
     "metadata": {},
     "output_type": "display_data"
    }
   ],
   "source": [
    "T = 90\n",
    "try:\n",
    "    display(Video(path.join(stimulus_directory, f'stim_sg_{T}.mp4'), width=frame_size[1]*2, height=frame_size[0]*2))\n",
    "except:\n",
    "    clip = gen_sg_clip(T)\n",
    "    np.save(path.join(stimulus_directory, f'stim_sg_{T}.npy'), clip, allow_pickle=False)\n",
    "    with capture_output():\n",
    "        imageio.mimwrite(path.join(stimulus_directory, f'stim_sg_{T}.mp4'), clip.astype('uint8'), fps=frame_rate)\n",
    "    display(Video(path.join(stimulus_directory, f'stim_sg_{T}.mp4'), width=frame_size[1]*2, height=frame_size[0]*2))"
   ]
  },
  {
   "cell_type": "markdown",
   "metadata": {},
   "source": [
    "## Flashes\n",
    "250ms display followed by 1750ms grey screen"
   ]
  },
  {
   "cell_type": "code",
   "execution_count": 51,
   "metadata": {
    "execution": {
     "iopub.execute_input": "2021-10-21T05:19:00.663542Z",
     "iopub.status.busy": "2021-10-21T05:19:00.663272Z",
     "iopub.status.idle": "2021-10-21T05:19:00.705484Z",
     "shell.execute_reply": "2021-10-21T05:19:00.704737Z",
     "shell.execute_reply.started": "2021-10-21T05:19:00.663514Z"
    },
    "tags": []
   },
   "outputs": [
    {
     "data": {
      "text/html": [
       "<div>\n",
       "<style scoped>\n",
       "    .dataframe tbody tr th:only-of-type {\n",
       "        vertical-align: middle;\n",
       "    }\n",
       "\n",
       "    .dataframe tbody tr th {\n",
       "        vertical-align: top;\n",
       "    }\n",
       "\n",
       "    .dataframe thead th {\n",
       "        text-align: right;\n",
       "    }\n",
       "</style>\n",
       "<table border=\"1\" class=\"dataframe\">\n",
       "  <thead>\n",
       "    <tr style=\"text-align: right;\">\n",
       "      <th></th>\n",
       "      <th>color</th>\n",
       "      <th>contrast</th>\n",
       "    </tr>\n",
       "  </thead>\n",
       "  <tbody>\n",
       "    <tr>\n",
       "      <th>0</th>\n",
       "      <td>1.0</td>\n",
       "      <td>0.8</td>\n",
       "    </tr>\n",
       "    <tr>\n",
       "      <th>1</th>\n",
       "      <td>-1.0</td>\n",
       "      <td>0.8</td>\n",
       "    </tr>\n",
       "  </tbody>\n",
       "</table>\n",
       "</div>"
      ],
      "text/plain": [
       "   color  contrast\n",
       "0    1.0       0.8\n",
       "1   -1.0       0.8"
      ]
     },
     "execution_count": 51,
     "metadata": {},
     "output_type": "execute_result"
    }
   ],
   "source": [
    "params = pd.read_csv(path.join(stimulus_directory, 'flashes', 'index.csv'))\n",
    "params"
   ]
  },
  {
   "cell_type": "code",
   "execution_count": 52,
   "metadata": {
    "execution": {
     "iopub.execute_input": "2021-10-21T05:19:01.320645Z",
     "iopub.status.busy": "2021-10-21T05:19:01.320390Z",
     "iopub.status.idle": "2021-10-21T05:19:01.339377Z",
     "shell.execute_reply": "2021-10-21T05:19:01.338724Z",
     "shell.execute_reply.started": "2021-10-21T05:19:01.320616Z"
    },
    "tags": []
   },
   "outputs": [],
   "source": [
    "# load pre-generated gabor frames (192x130 pixels)\n",
    "\n",
    "def gen_flashes_clip(t_length_s=90):\n",
    "    conditions = np.random.randint(0, 2, int(t_length_s/2))\n",
    "    frames = np.zeros((t_length_s*frame_rate, *frame_size))+127\n",
    "    for i, c in enumerate(conditions):\n",
    "        frames[i*2*frame_rate:i*2*frame_rate+int(0.25*frame_rate)] = int(127 * (1 + (c-0.5)*2*0.8))\n",
    "    return frames"
   ]
  },
  {
   "cell_type": "code",
   "execution_count": 53,
   "metadata": {
    "execution": {
     "iopub.execute_input": "2021-10-21T05:19:02.096055Z",
     "iopub.status.busy": "2021-10-21T05:19:02.095796Z",
     "iopub.status.idle": "2021-10-21T05:19:02.116771Z",
     "shell.execute_reply": "2021-10-21T05:19:02.115994Z",
     "shell.execute_reply.started": "2021-10-21T05:19:02.096026Z"
    },
    "tags": []
   },
   "outputs": [
    {
     "data": {
      "text/html": [
       "<video src=\"/allen/programs/braintv/workgroups/tiny-blue-dot/differentiation/refactor/stimuli/stim_flash_90.mp4\" controls  width=\"384\"  height=\"260\">\n",
       "      Your browser does not support the <code>video</code> element.\n",
       "    </video>"
      ],
      "text/plain": [
       "<IPython.core.display.Video object>"
      ]
     },
     "metadata": {},
     "output_type": "display_data"
    }
   ],
   "source": [
    "T = 90\n",
    "try:\n",
    "    display(Video(path.join(stimulus_directory, f'stim_flash_{T}.mp4'), width=frame_size[1]*2, height=frame_size[0]*2))\n",
    "except:\n",
    "    clip = gen_flashes_clip(T)\n",
    "    np.save(path.join(stimulus_directory, f'stim_flash_{T}.npy'), clip, allow_pickle=False)\n",
    "    with capture_output():\n",
    "        imageio.mimwrite(path.join(stimulus_directory, f'stim_flash_{T}.mp4'), clip.astype('uint8'), fps=frame_rate)\n",
    "    display(Video(path.join(stimulus_directory, f'stim_flash_{T}.mp4'), width=frame_size[1]*2, height=frame_size[0]*2))"
   ]
  },
  {
   "cell_type": "markdown",
   "metadata": {},
   "source": [
    "## Movies"
   ]
  },
  {
   "cell_type": "code",
   "execution_count": 54,
   "metadata": {
    "execution": {
     "iopub.execute_input": "2021-10-21T05:19:05.014201Z",
     "iopub.status.busy": "2021-10-21T05:19:05.013928Z",
     "iopub.status.idle": "2021-10-21T05:19:05.037831Z",
     "shell.execute_reply": "2021-10-21T05:19:05.037114Z",
     "shell.execute_reply.started": "2021-10-21T05:19:05.014172Z"
    },
    "tags": []
   },
   "outputs": [],
   "source": [
    "# downsample in space and upsample in time\n",
    "\n",
    "def process_movie(movie_name, shuffle=False):\n",
    "    try:\n",
    "        display(Video(path.join(stimulus_directory, f'stim_{movie_name}{\"_shuffled\" if shuffle else \"\"}.mp4'), width=frame_size[1]*2, height=frame_size[0]*2))\n",
    "        return\n",
    "    except Exception as e:\n",
    "        print(e)\n",
    "    movie_path = path.join(stimulus_directory, 'touch_of_evil', f'{movie_name}.npy')\n",
    "    movie = np.load(movie_path)\n",
    "    if shuffle:\n",
    "        np.random.shuffle(movie)\n",
    "    # crop movie\n",
    "    orig_fs = movie.shape[1:]\n",
    "    x_factor = int(orig_fs[1]/frame_size[1])\n",
    "    y_factor = int(orig_fs[0]/frame_size[0])\n",
    "    x_crop = int((orig_fs[1] - x_factor*frame_size[1])/2)\n",
    "    y_crop = int((orig_fs[0] - y_factor*frame_size[0])/2)\n",
    "    cropped_movie = movie[:, y_crop:-y_crop, x_crop:-x_crop]\n",
    "\n",
    "    # block average\n",
    "    block_averaged_movie = cropped_movie.reshape(\n",
    "        cropped_movie.shape[0],\n",
    "        cropped_movie.shape[1],\n",
    "        int(cropped_movie.shape[2]/x_factor),\n",
    "        x_factor\n",
    "    ).mean(axis=-1).transpose(0, 2, 1).reshape(\n",
    "        cropped_movie.shape[0],\n",
    "        192,\n",
    "        int(cropped_movie.shape[1]/y_factor),\n",
    "        y_factor\n",
    "    ).mean(axis=-1).transpose(0, 2, 1)\n",
    "\n",
    "    f, (ax1, ax2) = plt.subplots(1, 2, figsize=(8, 3), tight_layout=True)\n",
    "    ax1.imshow(movie[0], cmap=cm.Greys_r)\n",
    "    ax2.imshow(block_averaged_movie[0], cmap=cm.Greys_r)\n",
    "    ax1.set_title('original')\n",
    "    ax2.set_title('downsampled')\n",
    "    for ax in [ax1, ax2]:\n",
    "        ax.axis('off')\n",
    "\n",
    "    upsampled_movie = resize(block_averaged_movie, (block_averaged_movie.shape[0]/30*frame_rate, *block_averaged_movie.shape[1:]))\n",
    "    np.save(path.join(stimulus_directory, f'stim_{movie_name}{\"_shuffled\" if shuffle else \"\"}.npy'), upsampled_movie, allow_pickle=False)\n",
    "    with capture_output():\n",
    "        imageio.mimwrite(path.join(stimulus_directory, f'stim_{movie_name}{\"_shuffled\" if shuffle else \"\"}.mp4'), upsampled_movie.astype('uint8'), fps=frame_rate)\n",
    "    display(Video(path.join(stimulus_directory, f'stim_{movie_name}{\"_shuffled\" if shuffle else \"\"}.mp4'), width=frame_size[1]*2, height=frame_size[0]*2))"
   ]
  },
  {
   "cell_type": "code",
   "execution_count": 55,
   "metadata": {
    "execution": {
     "iopub.execute_input": "2021-10-21T05:19:07.159612Z",
     "iopub.status.busy": "2021-10-21T05:19:07.159339Z",
     "iopub.status.idle": "2021-10-21T05:21:27.465653Z",
     "shell.execute_reply": "2021-10-21T05:21:27.464788Z",
     "shell.execute_reply.started": "2021-10-21T05:19:07.159582Z"
    },
    "tags": []
   },
   "outputs": [
    {
     "name": "stdout",
     "output_type": "stream",
     "text": [
      "name 'x' is not defined\n"
     ]
    },
    {
     "data": {
      "application/vnd.jupyter.widget-view+json": {
       "model_id": "4524a89d841b42bea419d381d80b61c7",
       "version_major": 2,
       "version_minor": 0
      },
      "text/plain": [
       "Canvas(toolbar=Toolbar(toolitems=[('Home', 'Reset original view', 'home', 'home'), ('Back', 'Back to previous …"
      ]
     },
     "metadata": {},
     "output_type": "display_data"
    },
    {
     "data": {
      "text/html": [
       "<video src=\"/allen/programs/braintv/workgroups/tiny-blue-dot/differentiation/refactor/stimuli/stim_natural_movie_one.mp4\" controls  width=\"384\"  height=\"260\">\n",
       "      Your browser does not support the <code>video</code> element.\n",
       "    </video>"
      ],
      "text/plain": [
       "<IPython.core.display.Video object>"
      ]
     },
     "metadata": {},
     "output_type": "display_data"
    },
    {
     "name": "stdout",
     "output_type": "stream",
     "text": [
      "name 'x' is not defined\n"
     ]
    },
    {
     "data": {
      "application/vnd.jupyter.widget-view+json": {
       "model_id": "d97e2fe36f824221a2bc241f449fec3c",
       "version_major": 2,
       "version_minor": 0
      },
      "text/plain": [
       "Canvas(toolbar=Toolbar(toolitems=[('Home', 'Reset original view', 'home', 'home'), ('Back', 'Back to previous …"
      ]
     },
     "metadata": {},
     "output_type": "display_data"
    },
    {
     "data": {
      "text/html": [
       "<video src=\"/allen/programs/braintv/workgroups/tiny-blue-dot/differentiation/refactor/stimuli/stim_natural_movie_one_shuffled.mp4\" controls  width=\"384\"  height=\"260\">\n",
       "      Your browser does not support the <code>video</code> element.\n",
       "    </video>"
      ],
      "text/plain": [
       "<IPython.core.display.Video object>"
      ]
     },
     "metadata": {},
     "output_type": "display_data"
    },
    {
     "name": "stdout",
     "output_type": "stream",
     "text": [
      "name 'x' is not defined\n"
     ]
    },
    {
     "name": "stderr",
     "output_type": "stream",
     "text": [
      "/home/saurabh.gandhi/Projects/.env_difflib/lib/python3.6/site-packages/ipykernel_launcher.py:35: RuntimeWarning: More than 20 figures have been opened. Figures created through the pyplot interface (`matplotlib.pyplot.figure`) are retained until explicitly closed and may consume too much memory. (To control this warning, see the rcParam `figure.max_open_warning`).\n"
     ]
    },
    {
     "data": {
      "application/vnd.jupyter.widget-view+json": {
       "model_id": "3b98a9b6f9b74a2c9507fb3b730d2162",
       "version_major": 2,
       "version_minor": 0
      },
      "text/plain": [
       "Canvas(toolbar=Toolbar(toolitems=[('Home', 'Reset original view', 'home', 'home'), ('Back', 'Back to previous …"
      ]
     },
     "metadata": {},
     "output_type": "display_data"
    },
    {
     "data": {
      "text/html": [
       "<video src=\"/allen/programs/braintv/workgroups/tiny-blue-dot/differentiation/refactor/stimuli/stim_natural_movie_three.mp4\" controls  width=\"384\"  height=\"260\">\n",
       "      Your browser does not support the <code>video</code> element.\n",
       "    </video>"
      ],
      "text/plain": [
       "<IPython.core.display.Video object>"
      ]
     },
     "metadata": {},
     "output_type": "display_data"
    }
   ],
   "source": [
    "process_movie('natural_movie_one')\n",
    "process_movie('natural_movie_one', shuffle=True)\n",
    "process_movie('natural_movie_three')"
   ]
  },
  {
   "cell_type": "markdown",
   "metadata": {
    "toc-hr-collapsed": true,
    "toc-nb-collapsed": true
   },
   "source": [
    "## Natural scenes\n",
    "We do not have the scenes data yet"
   ]
  },
  {
   "cell_type": "markdown",
   "metadata": {
    "toc-hr-collapsed": true,
    "toc-nb-collapsed": true
   },
   "source": [
    "## Dot motion\n",
    "Not implemented"
   ]
  },
  {
   "cell_type": "code",
   "execution_count": null,
   "metadata": {},
   "outputs": [],
   "source": []
  }
 ],
 "metadata": {
  "kernelspec": {
   "display_name": "Differentiation",
   "language": "python",
   "name": "differentiation"
  },
  "language_info": {
   "codemirror_mode": {
    "name": "ipython",
    "version": 3
   },
   "file_extension": ".py",
   "mimetype": "text/x-python",
   "name": "python",
   "nbconvert_exporter": "python",
   "pygments_lexer": "ipython3",
   "version": "3.6.8"
  },
  "toc-autonumbering": true,
  "widgets": {
   "application/vnd.jupyter.widget-state+json": {
    "state": {
     "002f1bd31ef54f258f56cb81ae6e80e2": {
      "model_module": "@jupyter-widgets/base",
      "model_module_version": "1.2.0",
      "model_name": "LayoutModel",
      "state": {}
     },
     "010548216f2449cdac4e269157088986": {
      "model_module": "jupyter-matplotlib",
      "model_module_version": "^0.9.0",
      "model_name": "ToolbarModel",
      "state": {
       "layout": "IPY_MODEL_aa1b37d9c713487bacd932f95cebc931",
       "toolitems": [
        [
         "Home",
         "Reset original view",
         "home",
         "home"
        ],
        [
         "Back",
         "Back to previous view",
         "arrow-left",
         "back"
        ],
        [
         "Forward",
         "Forward to next view",
         "arrow-right",
         "forward"
        ],
        [
         "Pan",
         "Left button pans, Right button zooms\nx/y fixes axis, CTRL fixes aspect",
         "arrows",
         "pan"
        ],
        [
         "Zoom",
         "Zoom to rectangle\nx/y fixes axis, CTRL fixes aspect",
         "square-o",
         "zoom"
        ],
        [
         "Download",
         "Download plot",
         "floppy-o",
         "save_figure"
        ]
       ]
      }
     },
     "07688db3dff348b8995c23b3a9f15c1d": {
      "model_module": "jupyter-matplotlib",
      "model_module_version": "^0.9.0",
      "model_name": "MPLCanvasModel",
      "state": {
       "_cursor": "default",
       "_figure_label": "Figure 15",
       "_height": 300,
       "_width": 300,
       "header_visible": false,
       "layout": "IPY_MODEL_09a5a8e7c908446f96c8fd8b282eb1b5",
       "toolbar": "IPY_MODEL_5dd5a7d4872a4b8294b66156758dc7c7",
       "toolbar_position": "left"
      }
     },
     "09a5a8e7c908446f96c8fd8b282eb1b5": {
      "model_module": "@jupyter-widgets/base",
      "model_module_version": "1.2.0",
      "model_name": "LayoutModel",
      "state": {}
     },
     "0a7f7a7bb61e43debdd2e2a0b579d03c": {
      "model_module": "@jupyter-widgets/base",
      "model_module_version": "1.2.0",
      "model_name": "LayoutModel",
      "state": {}
     },
     "0a9912d628334734a6730a3d68dc2ffd": {
      "model_module": "jupyter-matplotlib",
      "model_module_version": "^0.9.0",
      "model_name": "ToolbarModel",
      "state": {
       "layout": "IPY_MODEL_0a7f7a7bb61e43debdd2e2a0b579d03c",
       "toolitems": [
        [
         "Home",
         "Reset original view",
         "home",
         "home"
        ],
        [
         "Back",
         "Back to previous view",
         "arrow-left",
         "back"
        ],
        [
         "Forward",
         "Forward to next view",
         "arrow-right",
         "forward"
        ],
        [
         "Pan",
         "Left button pans, Right button zooms\nx/y fixes axis, CTRL fixes aspect",
         "arrows",
         "pan"
        ],
        [
         "Zoom",
         "Zoom to rectangle\nx/y fixes axis, CTRL fixes aspect",
         "square-o",
         "zoom"
        ],
        [
         "Download",
         "Download plot",
         "floppy-o",
         "save_figure"
        ]
       ]
      }
     },
     "0e041425873241198b8b251d9aa0ad75": {
      "model_module": "@jupyter-widgets/base",
      "model_module_version": "1.2.0",
      "model_name": "LayoutModel",
      "state": {}
     },
     "115583d6d6924f07a462c8f2196eee0b": {
      "model_module": "jupyter-matplotlib",
      "model_module_version": "^0.9.0",
      "model_name": "ToolbarModel",
      "state": {
       "layout": "IPY_MODEL_163a735e14af46289a114e233b491a92",
       "toolitems": [
        [
         "Home",
         "Reset original view",
         "home",
         "home"
        ],
        [
         "Back",
         "Back to previous view",
         "arrow-left",
         "back"
        ],
        [
         "Forward",
         "Forward to next view",
         "arrow-right",
         "forward"
        ],
        [
         "Pan",
         "Left button pans, Right button zooms\nx/y fixes axis, CTRL fixes aspect",
         "arrows",
         "pan"
        ],
        [
         "Zoom",
         "Zoom to rectangle\nx/y fixes axis, CTRL fixes aspect",
         "square-o",
         "zoom"
        ],
        [
         "Download",
         "Download plot",
         "floppy-o",
         "save_figure"
        ]
       ]
      }
     },
     "12a0ad7925bc459b9164366cd8c7cb6e": {
      "model_module": "jupyter-matplotlib",
      "model_module_version": "^0.9.0",
      "model_name": "ToolbarModel",
      "state": {
       "layout": "IPY_MODEL_efd3240c1ceb449e91908b4eb0570a79",
       "toolitems": [
        [
         "Home",
         "Reset original view",
         "home",
         "home"
        ],
        [
         "Back",
         "Back to previous view",
         "arrow-left",
         "back"
        ],
        [
         "Forward",
         "Forward to next view",
         "arrow-right",
         "forward"
        ],
        [
         "Pan",
         "Left button pans, Right button zooms\nx/y fixes axis, CTRL fixes aspect",
         "arrows",
         "pan"
        ],
        [
         "Zoom",
         "Zoom to rectangle\nx/y fixes axis, CTRL fixes aspect",
         "square-o",
         "zoom"
        ],
        [
         "Download",
         "Download plot",
         "floppy-o",
         "save_figure"
        ]
       ]
      }
     },
     "1302db79ebb54c2a95e47cbc9c740ab9": {
      "model_module": "@jupyter-widgets/base",
      "model_module_version": "1.2.0",
      "model_name": "LayoutModel",
      "state": {}
     },
     "132bda8bddb04aefb6315ac58c34aaa6": {
      "model_module": "jupyter-matplotlib",
      "model_module_version": "^0.9.0",
      "model_name": "MPLCanvasModel",
      "state": {
       "_cursor": "default",
       "_figure_label": "Figure 3",
       "_height": 400,
       "_width": 400,
       "header_visible": false,
       "layout": "IPY_MODEL_95f53718f6e2454a858bb646c5ef81a9",
       "toolbar": "IPY_MODEL_7a4d95ad34604de181aca7a975d48065",
       "toolbar_position": "left"
      }
     },
     "163a735e14af46289a114e233b491a92": {
      "model_module": "@jupyter-widgets/base",
      "model_module_version": "1.2.0",
      "model_name": "LayoutModel",
      "state": {}
     },
     "1a8fa7f7a9a844bb81d352f688629ff1": {
      "model_module": "jupyter-matplotlib",
      "model_module_version": "^0.9.0",
      "model_name": "MPLCanvasModel",
      "state": {
       "_cursor": "default",
       "_figure_label": "Figure 14",
       "_height": 300,
       "_width": 300,
       "header_visible": false,
       "layout": "IPY_MODEL_5e3ea2fb1372457ab43ecad463a485a8",
       "toolbar": "IPY_MODEL_c5254bd244d043efadf922e33aa37178",
       "toolbar_position": "left"
      }
     },
     "1b336ff707004e92a319a47c3d8631a0": {
      "model_module": "@jupyter-widgets/base",
      "model_module_version": "1.2.0",
      "model_name": "LayoutModel",
      "state": {}
     },
     "1d7687bd178f48b5a8a0b3d269b50f70": {
      "model_module": "jupyter-matplotlib",
      "model_module_version": "^0.9.0",
      "model_name": "ToolbarModel",
      "state": {
       "layout": "IPY_MODEL_c34c08ad4688493aa067b6492d05cb62",
       "toolitems": [
        [
         "Home",
         "Reset original view",
         "home",
         "home"
        ],
        [
         "Back",
         "Back to previous view",
         "arrow-left",
         "back"
        ],
        [
         "Forward",
         "Forward to next view",
         "arrow-right",
         "forward"
        ],
        [
         "Pan",
         "Left button pans, Right button zooms\nx/y fixes axis, CTRL fixes aspect",
         "arrows",
         "pan"
        ],
        [
         "Zoom",
         "Zoom to rectangle\nx/y fixes axis, CTRL fixes aspect",
         "square-o",
         "zoom"
        ],
        [
         "Download",
         "Download plot",
         "floppy-o",
         "save_figure"
        ]
       ]
      }
     },
     "1eaa0440b77e4858a4a271b0ecbd48f8": {
      "model_module": "jupyter-matplotlib",
      "model_module_version": "^0.9.0",
      "model_name": "MPLCanvasModel",
      "state": {
       "_cursor": "default",
       "_figure_label": "Figure 25",
       "_height": 300,
       "_width": 600,
       "header_visible": false,
       "layout": "IPY_MODEL_4052ea3ecdd74bb7ad87d4653cc8d693",
       "toolbar": "IPY_MODEL_ac07a85bc8cb4c6b849448a021ca7108",
       "toolbar_position": "left"
      }
     },
     "1fbb62ace26e4cb89d411ea3e89b1b98": {
      "model_module": "jupyter-matplotlib",
      "model_module_version": "^0.9.0",
      "model_name": "MPLCanvasModel",
      "state": {
       "_cursor": "default",
       "_figure_label": "Figure 9",
       "_height": 300,
       "_width": 500,
       "header_visible": false,
       "layout": "IPY_MODEL_a400d0c465ea4faea48a794a5762c2f7",
       "toolbar": "IPY_MODEL_12a0ad7925bc459b9164366cd8c7cb6e",
       "toolbar_position": "left"
      }
     },
     "21f058dc450b4dce9a694cb43d9c98cf": {
      "model_module": "jupyter-matplotlib",
      "model_module_version": "^0.9.0",
      "model_name": "MPLCanvasModel",
      "state": {
       "_cursor": "default",
       "_figure_label": "Figure 16",
       "_height": 400,
       "_width": 400,
       "header_visible": false,
       "layout": "IPY_MODEL_537be56a13e342508f48577a7a2256cd",
       "toolbar": "IPY_MODEL_fad06970788a4beba404970bea026c94",
       "toolbar_position": "left"
      }
     },
     "23cfb3c044e24126be6507516d02b341": {
      "model_module": "@jupyter-widgets/base",
      "model_module_version": "1.2.0",
      "model_name": "LayoutModel",
      "state": {}
     },
     "24dcd2d213134afc8c72695a2717777e": {
      "model_module": "@jupyter-widgets/base",
      "model_module_version": "1.2.0",
      "model_name": "LayoutModel",
      "state": {}
     },
     "290ee68edc98479fa4fd52766609b4ea": {
      "model_module": "jupyter-matplotlib",
      "model_module_version": "^0.9.0",
      "model_name": "ToolbarModel",
      "state": {
       "layout": "IPY_MODEL_99a3f706774c42ceb2fcfeae0dfe40e6",
       "toolitems": [
        [
         "Home",
         "Reset original view",
         "home",
         "home"
        ],
        [
         "Back",
         "Back to previous view",
         "arrow-left",
         "back"
        ],
        [
         "Forward",
         "Forward to next view",
         "arrow-right",
         "forward"
        ],
        [
         "Pan",
         "Left button pans, Right button zooms\nx/y fixes axis, CTRL fixes aspect",
         "arrows",
         "pan"
        ],
        [
         "Zoom",
         "Zoom to rectangle\nx/y fixes axis, CTRL fixes aspect",
         "square-o",
         "zoom"
        ],
        [
         "Download",
         "Download plot",
         "floppy-o",
         "save_figure"
        ]
       ]
      }
     },
     "2a14552439f34ff996792495e09aceed": {
      "model_module": "@jupyter-widgets/base",
      "model_module_version": "1.2.0",
      "model_name": "LayoutModel",
      "state": {}
     },
     "2b3d2e79eebf416e9b2695c3b09c9bd0": {
      "model_module": "@jupyter-widgets/base",
      "model_module_version": "1.2.0",
      "model_name": "LayoutModel",
      "state": {}
     },
     "2bdc682437704c93acb16e139f1fa868": {
      "model_module": "@jupyter-widgets/base",
      "model_module_version": "1.2.0",
      "model_name": "LayoutModel",
      "state": {}
     },
     "316e3ddc358845ee9ef1d0ab3802d374": {
      "model_module": "jupyter-matplotlib",
      "model_module_version": "^0.9.0",
      "model_name": "ToolbarModel",
      "state": {
       "layout": "IPY_MODEL_ce3324a16c274984b4ad178957fc3f31",
       "toolitems": [
        [
         "Home",
         "Reset original view",
         "home",
         "home"
        ],
        [
         "Back",
         "Back to previous view",
         "arrow-left",
         "back"
        ],
        [
         "Forward",
         "Forward to next view",
         "arrow-right",
         "forward"
        ],
        [
         "Pan",
         "Left button pans, Right button zooms\nx/y fixes axis, CTRL fixes aspect",
         "arrows",
         "pan"
        ],
        [
         "Zoom",
         "Zoom to rectangle\nx/y fixes axis, CTRL fixes aspect",
         "square-o",
         "zoom"
        ],
        [
         "Download",
         "Download plot",
         "floppy-o",
         "save_figure"
        ]
       ]
      }
     },
     "31a3d5e4220246df9b5e214d16c26cf3": {
      "model_module": "@jupyter-widgets/base",
      "model_module_version": "1.2.0",
      "model_name": "LayoutModel",
      "state": {}
     },
     "35e0380815c741caa74eea8f3e707c20": {
      "model_module": "@jupyter-widgets/base",
      "model_module_version": "1.2.0",
      "model_name": "LayoutModel",
      "state": {}
     },
     "35fb780233144334bca0168ed3d2396d": {
      "model_module": "@jupyter-widgets/base",
      "model_module_version": "1.2.0",
      "model_name": "LayoutModel",
      "state": {}
     },
     "37349d907b474c91a0189da8ca6a2c84": {
      "model_module": "jupyter-matplotlib",
      "model_module_version": "^0.9.0",
      "model_name": "MPLCanvasModel",
      "state": {
       "_cursor": "default",
       "_figure_label": "Figure 12",
       "_height": 400,
       "_width": 400,
       "header_visible": false,
       "layout": "IPY_MODEL_fc4379c9988e4c888a7a5dd37027c5cc",
       "toolbar": "IPY_MODEL_3a9941f498ed4681950136e05d580c2f",
       "toolbar_position": "left"
      }
     },
     "375f5da00c064f4daf8b5f120da6537d": {
      "model_module": "@jupyter-widgets/base",
      "model_module_version": "1.2.0",
      "model_name": "LayoutModel",
      "state": {}
     },
     "3774c0413ecd42dd86aa4c6a7f1d090c": {
      "model_module": "jupyter-matplotlib",
      "model_module_version": "^0.9.0",
      "model_name": "MPLCanvasModel",
      "state": {
       "_cursor": "default",
       "_figure_label": "Figure 24",
       "_height": 250,
       "_width": 600,
       "header_visible": false,
       "layout": "IPY_MODEL_c2a58eaeda1b418680d6d82e23199e11",
       "toolbar": "IPY_MODEL_316e3ddc358845ee9ef1d0ab3802d374",
       "toolbar_position": "left"
      }
     },
     "383aa900385a4c949ea592a3dad6b7c2": {
      "model_module": "jupyter-matplotlib",
      "model_module_version": "^0.9.0",
      "model_name": "MPLCanvasModel",
      "state": {
       "_cursor": "default",
       "_figure_label": "Figure 23",
       "_height": 250,
       "_width": 500,
       "header_visible": false,
       "layout": "IPY_MODEL_d589c5a080784bc79382afc08a84d35b",
       "toolbar": "IPY_MODEL_5114f2ccd82e4bbba1b1aa565bb53694",
       "toolbar_position": "left"
      }
     },
     "39d0849c04854fcd8ce64cab8fb53453": {
      "model_module": "jupyter-matplotlib",
      "model_module_version": "^0.9.0",
      "model_name": "MPLCanvasModel",
      "state": {
       "_cursor": "default",
       "_figure_label": "Figure 11",
       "_height": 400,
       "_width": 400,
       "header_visible": false,
       "layout": "IPY_MODEL_39d168b1f3d14c23844feb2374f80fc1",
       "toolbar": "IPY_MODEL_c36b0b6a95a7452db37c772bb2838770",
       "toolbar_position": "left"
      }
     },
     "39d168b1f3d14c23844feb2374f80fc1": {
      "model_module": "@jupyter-widgets/base",
      "model_module_version": "1.2.0",
      "model_name": "LayoutModel",
      "state": {}
     },
     "3a9941f498ed4681950136e05d580c2f": {
      "model_module": "jupyter-matplotlib",
      "model_module_version": "^0.9.0",
      "model_name": "ToolbarModel",
      "state": {
       "layout": "IPY_MODEL_1302db79ebb54c2a95e47cbc9c740ab9",
       "toolitems": [
        [
         "Home",
         "Reset original view",
         "home",
         "home"
        ],
        [
         "Back",
         "Back to previous view",
         "arrow-left",
         "back"
        ],
        [
         "Forward",
         "Forward to next view",
         "arrow-right",
         "forward"
        ],
        [
         "Pan",
         "Left button pans, Right button zooms\nx/y fixes axis, CTRL fixes aspect",
         "arrows",
         "pan"
        ],
        [
         "Zoom",
         "Zoom to rectangle\nx/y fixes axis, CTRL fixes aspect",
         "square-o",
         "zoom"
        ],
        [
         "Download",
         "Download plot",
         "floppy-o",
         "save_figure"
        ]
       ]
      }
     },
     "4052ea3ecdd74bb7ad87d4653cc8d693": {
      "model_module": "@jupyter-widgets/base",
      "model_module_version": "1.2.0",
      "model_name": "LayoutModel",
      "state": {}
     },
     "45983c88260644fc84bdb9ae9f14af0b": {
      "model_module": "@jupyter-widgets/base",
      "model_module_version": "1.2.0",
      "model_name": "LayoutModel",
      "state": {}
     },
     "469aac2bd7bf4f1eb8000ac1f897748c": {
      "model_module": "jupyter-matplotlib",
      "model_module_version": "^0.9.0",
      "model_name": "ToolbarModel",
      "state": {
       "layout": "IPY_MODEL_cce9111d0c4342f4b06f790ea864b7ca",
       "toolitems": [
        [
         "Home",
         "Reset original view",
         "home",
         "home"
        ],
        [
         "Back",
         "Back to previous view",
         "arrow-left",
         "back"
        ],
        [
         "Forward",
         "Forward to next view",
         "arrow-right",
         "forward"
        ],
        [
         "Pan",
         "Left button pans, Right button zooms\nx/y fixes axis, CTRL fixes aspect",
         "arrows",
         "pan"
        ],
        [
         "Zoom",
         "Zoom to rectangle\nx/y fixes axis, CTRL fixes aspect",
         "square-o",
         "zoom"
        ],
        [
         "Download",
         "Download plot",
         "floppy-o",
         "save_figure"
        ]
       ]
      }
     },
     "4a5e7690d8254e6aba78be78c04e438b": {
      "model_module": "jupyter-matplotlib",
      "model_module_version": "^0.9.0",
      "model_name": "MPLCanvasModel",
      "state": {
       "_cursor": "default",
       "_figure_label": "Figure 18",
       "_height": 300,
       "_width": 300,
       "header_visible": false,
       "layout": "IPY_MODEL_70d291ed361e4820875a709e16d11802",
       "toolbar": "IPY_MODEL_a58d3e70a9a7463e97b5318e2cea5644",
       "toolbar_position": "left"
      }
     },
     "4f526444ff9a44cd9d4a31c473d2c618": {
      "model_module": "@jupyter-widgets/base",
      "model_module_version": "1.2.0",
      "model_name": "LayoutModel",
      "state": {}
     },
     "4ffbf05303e144a796623398c0b0090b": {
      "model_module": "@jupyter-widgets/base",
      "model_module_version": "1.2.0",
      "model_name": "LayoutModel",
      "state": {}
     },
     "5114f2ccd82e4bbba1b1aa565bb53694": {
      "model_module": "jupyter-matplotlib",
      "model_module_version": "^0.9.0",
      "model_name": "ToolbarModel",
      "state": {
       "layout": "IPY_MODEL_7d175124a65845d2906aa7716b0f56ed",
       "toolitems": [
        [
         "Home",
         "Reset original view",
         "home",
         "home"
        ],
        [
         "Back",
         "Back to previous view",
         "arrow-left",
         "back"
        ],
        [
         "Forward",
         "Forward to next view",
         "arrow-right",
         "forward"
        ],
        [
         "Pan",
         "Left button pans, Right button zooms\nx/y fixes axis, CTRL fixes aspect",
         "arrows",
         "pan"
        ],
        [
         "Zoom",
         "Zoom to rectangle\nx/y fixes axis, CTRL fixes aspect",
         "square-o",
         "zoom"
        ],
        [
         "Download",
         "Download plot",
         "floppy-o",
         "save_figure"
        ]
       ]
      }
     },
     "5260fa0f13bf4a858b7f43efb5062b11": {
      "model_module": "jupyter-matplotlib",
      "model_module_version": "^0.9.0",
      "model_name": "ToolbarModel",
      "state": {
       "layout": "IPY_MODEL_9ce85fa8c67648f1a054c4d53b9dec9d",
       "toolitems": [
        [
         "Home",
         "Reset original view",
         "home",
         "home"
        ],
        [
         "Back",
         "Back to previous view",
         "arrow-left",
         "back"
        ],
        [
         "Forward",
         "Forward to next view",
         "arrow-right",
         "forward"
        ],
        [
         "Pan",
         "Left button pans, Right button zooms\nx/y fixes axis, CTRL fixes aspect",
         "arrows",
         "pan"
        ],
        [
         "Zoom",
         "Zoom to rectangle\nx/y fixes axis, CTRL fixes aspect",
         "square-o",
         "zoom"
        ],
        [
         "Download",
         "Download plot",
         "floppy-o",
         "save_figure"
        ]
       ]
      }
     },
     "537be56a13e342508f48577a7a2256cd": {
      "model_module": "@jupyter-widgets/base",
      "model_module_version": "1.2.0",
      "model_name": "LayoutModel",
      "state": {}
     },
     "55b929a9a8d240f5aad15bd342f14818": {
      "model_module": "@jupyter-widgets/base",
      "model_module_version": "1.2.0",
      "model_name": "LayoutModel",
      "state": {}
     },
     "59d7f25047f843959c31ae3f1b15535c": {
      "model_module": "@jupyter-widgets/base",
      "model_module_version": "1.2.0",
      "model_name": "LayoutModel",
      "state": {}
     },
     "5b14fde08845403ba4649c1fade00afd": {
      "model_module": "@jupyter-widgets/base",
      "model_module_version": "1.2.0",
      "model_name": "LayoutModel",
      "state": {}
     },
     "5b2bef0322ef496d8d852d8bc5edebb8": {
      "model_module": "@jupyter-widgets/base",
      "model_module_version": "1.2.0",
      "model_name": "LayoutModel",
      "state": {}
     },
     "5bd7dc18bc3648c0b9f665165ffa8608": {
      "model_module": "@jupyter-widgets/base",
      "model_module_version": "1.2.0",
      "model_name": "LayoutModel",
      "state": {}
     },
     "5d9576592a6d421090394aab670c7cc9": {
      "model_module": "jupyter-matplotlib",
      "model_module_version": "^0.9.0",
      "model_name": "MPLCanvasModel",
      "state": {
       "_cursor": "default",
       "_figure_label": "Figure 17",
       "_height": 300,
       "_width": 300,
       "header_visible": false,
       "layout": "IPY_MODEL_35fb780233144334bca0168ed3d2396d",
       "toolbar": "IPY_MODEL_1d7687bd178f48b5a8a0b3d269b50f70",
       "toolbar_position": "left"
      }
     },
     "5dd5a7d4872a4b8294b66156758dc7c7": {
      "model_module": "jupyter-matplotlib",
      "model_module_version": "^0.9.0",
      "model_name": "ToolbarModel",
      "state": {
       "layout": "IPY_MODEL_7f5cb6fe734346db86ed834c68789bad",
       "toolitems": [
        [
         "Home",
         "Reset original view",
         "home",
         "home"
        ],
        [
         "Back",
         "Back to previous view",
         "arrow-left",
         "back"
        ],
        [
         "Forward",
         "Forward to next view",
         "arrow-right",
         "forward"
        ],
        [
         "Pan",
         "Left button pans, Right button zooms\nx/y fixes axis, CTRL fixes aspect",
         "arrows",
         "pan"
        ],
        [
         "Zoom",
         "Zoom to rectangle\nx/y fixes axis, CTRL fixes aspect",
         "square-o",
         "zoom"
        ],
        [
         "Download",
         "Download plot",
         "floppy-o",
         "save_figure"
        ]
       ]
      }
     },
     "5e3ea2fb1372457ab43ecad463a485a8": {
      "model_module": "@jupyter-widgets/base",
      "model_module_version": "1.2.0",
      "model_name": "LayoutModel",
      "state": {}
     },
     "66347184ab4a40c3b88d49d344467c19": {
      "model_module": "jupyter-matplotlib",
      "model_module_version": "^0.9.0",
      "model_name": "MPLCanvasModel",
      "state": {
       "_cursor": "default",
       "_figure_label": "Figure 20",
       "_height": 300,
       "_width": 300,
       "header_visible": false,
       "layout": "IPY_MODEL_a976e54a2a424d6b803f3f37511f5f41",
       "toolbar": "IPY_MODEL_115583d6d6924f07a462c8f2196eee0b",
       "toolbar_position": "left"
      }
     },
     "6a5df3f004c64b429694311c9041f176": {
      "model_module": "jupyter-matplotlib",
      "model_module_version": "^0.9.0",
      "model_name": "MPLCanvasModel",
      "state": {
       "_cursor": "default",
       "_figure_label": "Figure 4",
       "_height": 400,
       "_width": 400,
       "header_visible": false,
       "layout": "IPY_MODEL_23cfb3c044e24126be6507516d02b341",
       "toolbar": "IPY_MODEL_96d5df352dda4fb5a54ab7af01e6d080",
       "toolbar_position": "left"
      }
     },
     "6b00c2c8fd8444b199768e0260cb3102": {
      "model_module": "@jupyter-widgets/base",
      "model_module_version": "1.2.0",
      "model_name": "LayoutModel",
      "state": {}
     },
     "6d1f5c1c6a114d85b93b384adbe839b0": {
      "model_module": "@jupyter-widgets/base",
      "model_module_version": "1.2.0",
      "model_name": "LayoutModel",
      "state": {}
     },
     "6de803e844bf40fe99711a81d8740340": {
      "model_module": "@jupyter-widgets/base",
      "model_module_version": "1.2.0",
      "model_name": "LayoutModel",
      "state": {}
     },
     "6f0502b2ef8d4e779bffc4210caa3b9f": {
      "model_module": "@jupyter-widgets/base",
      "model_module_version": "1.2.0",
      "model_name": "LayoutModel",
      "state": {}
     },
     "70d291ed361e4820875a709e16d11802": {
      "model_module": "@jupyter-widgets/base",
      "model_module_version": "1.2.0",
      "model_name": "LayoutModel",
      "state": {}
     },
     "7344ffd5712f4731b96e72d7d238ba89": {
      "model_module": "jupyter-matplotlib",
      "model_module_version": "^0.9.0",
      "model_name": "ToolbarModel",
      "state": {
       "layout": "IPY_MODEL_2bdc682437704c93acb16e139f1fa868",
       "toolitems": [
        [
         "Home",
         "Reset original view",
         "home",
         "home"
        ],
        [
         "Back",
         "Back to previous view",
         "arrow-left",
         "back"
        ],
        [
         "Forward",
         "Forward to next view",
         "arrow-right",
         "forward"
        ],
        [
         "Pan",
         "Left button pans, Right button zooms\nx/y fixes axis, CTRL fixes aspect",
         "arrows",
         "pan"
        ],
        [
         "Zoom",
         "Zoom to rectangle\nx/y fixes axis, CTRL fixes aspect",
         "square-o",
         "zoom"
        ],
        [
         "Download",
         "Download plot",
         "floppy-o",
         "save_figure"
        ]
       ]
      }
     },
     "73a51270a31648c3b9bd2e96ba7dedcf": {
      "model_module": "@jupyter-widgets/base",
      "model_module_version": "1.2.0",
      "model_name": "LayoutModel",
      "state": {}
     },
     "74deb6777ffb463499ff1235629fe686": {
      "model_module": "@jupyter-widgets/base",
      "model_module_version": "1.2.0",
      "model_name": "LayoutModel",
      "state": {}
     },
     "75923c2cf0f4472da27eb97d22fdcc5d": {
      "model_module": "@jupyter-widgets/base",
      "model_module_version": "1.2.0",
      "model_name": "LayoutModel",
      "state": {}
     },
     "782c6517bb8a4d83876e6466ff883e87": {
      "model_module": "jupyter-matplotlib",
      "model_module_version": "^0.9.0",
      "model_name": "MPLCanvasModel",
      "state": {
       "_cursor": "default",
       "_figure_label": "Figure 2",
       "_height": 400,
       "_width": 400,
       "header_visible": false,
       "layout": "IPY_MODEL_96c41cc362ed447cacde9523d4735ed8",
       "toolbar": "IPY_MODEL_0a9912d628334734a6730a3d68dc2ffd",
       "toolbar_position": "left"
      }
     },
     "7a4d95ad34604de181aca7a975d48065": {
      "model_module": "jupyter-matplotlib",
      "model_module_version": "^0.9.0",
      "model_name": "ToolbarModel",
      "state": {
       "layout": "IPY_MODEL_e7035a9b582140359efe399815d4483c",
       "toolitems": [
        [
         "Home",
         "Reset original view",
         "home",
         "home"
        ],
        [
         "Back",
         "Back to previous view",
         "arrow-left",
         "back"
        ],
        [
         "Forward",
         "Forward to next view",
         "arrow-right",
         "forward"
        ],
        [
         "Pan",
         "Left button pans, Right button zooms\nx/y fixes axis, CTRL fixes aspect",
         "arrows",
         "pan"
        ],
        [
         "Zoom",
         "Zoom to rectangle\nx/y fixes axis, CTRL fixes aspect",
         "square-o",
         "zoom"
        ],
        [
         "Download",
         "Download plot",
         "floppy-o",
         "save_figure"
        ]
       ]
      }
     },
     "7d175124a65845d2906aa7716b0f56ed": {
      "model_module": "@jupyter-widgets/base",
      "model_module_version": "1.2.0",
      "model_name": "LayoutModel",
      "state": {}
     },
     "7e5e99b4467642c3abd4354e54eb8b85": {
      "model_module": "jupyter-matplotlib",
      "model_module_version": "^0.9.0",
      "model_name": "ToolbarModel",
      "state": {
       "_current_action": "zoom",
       "layout": "IPY_MODEL_d7bc1ce882d049adbf005bf10fc201cd",
       "toolitems": [
        [
         "Home",
         "Reset original view",
         "home",
         "home"
        ],
        [
         "Back",
         "Back to previous view",
         "arrow-left",
         "back"
        ],
        [
         "Forward",
         "Forward to next view",
         "arrow-right",
         "forward"
        ],
        [
         "Pan",
         "Left button pans, Right button zooms\nx/y fixes axis, CTRL fixes aspect",
         "arrows",
         "pan"
        ],
        [
         "Zoom",
         "Zoom to rectangle\nx/y fixes axis, CTRL fixes aspect",
         "square-o",
         "zoom"
        ],
        [
         "Download",
         "Download plot",
         "floppy-o",
         "save_figure"
        ]
       ]
      }
     },
     "7e958620970440da9f25f986e316db0e": {
      "model_module": "@jupyter-widgets/base",
      "model_module_version": "1.2.0",
      "model_name": "LayoutModel",
      "state": {}
     },
     "7f33f84b1ef146ba9a4d5f503749a15e": {
      "model_module": "@jupyter-widgets/base",
      "model_module_version": "1.2.0",
      "model_name": "LayoutModel",
      "state": {}
     },
     "7f5cb6fe734346db86ed834c68789bad": {
      "model_module": "@jupyter-widgets/base",
      "model_module_version": "1.2.0",
      "model_name": "LayoutModel",
      "state": {}
     },
     "7f897f2c26dd4af1b63e5c899b0ef7d8": {
      "model_module": "jupyter-matplotlib",
      "model_module_version": "^0.9.0",
      "model_name": "MPLCanvasModel",
      "state": {
       "_cursor": "default",
       "_figure_label": "Figure 22",
       "_height": 300,
       "_width": 300,
       "header_visible": false,
       "layout": "IPY_MODEL_9f5aaad853b54ce18cae37c784234dcf",
       "toolbar": "IPY_MODEL_7344ffd5712f4731b96e72d7d238ba89",
       "toolbar_position": "left"
      }
     },
     "7fd647eb478b4e739541c203597469d7": {
      "model_module": "@jupyter-widgets/base",
      "model_module_version": "1.2.0",
      "model_name": "LayoutModel",
      "state": {}
     },
     "8264b47880f243378a7a10ee6d469dde": {
      "model_module": "@jupyter-widgets/base",
      "model_module_version": "1.2.0",
      "model_name": "LayoutModel",
      "state": {}
     },
     "868fc8e158cf4629a5a6e76ddbcb77eb": {
      "model_module": "@jupyter-widgets/base",
      "model_module_version": "1.2.0",
      "model_name": "LayoutModel",
      "state": {}
     },
     "876bf651e9a64a0c91ea94c46a1408ad": {
      "model_module": "jupyter-matplotlib",
      "model_module_version": "^0.9.0",
      "model_name": "MPLCanvasModel",
      "state": {
       "_cursor": "default",
       "_figure_label": "Figure 26",
       "_height": 300,
       "_width": 500,
       "header_visible": false,
       "layout": "IPY_MODEL_4ffbf05303e144a796623398c0b0090b",
       "toolbar": "IPY_MODEL_b5525843f3464f74aca3d07635346dc3",
       "toolbar_position": "left"
      }
     },
     "8877f2961e0c4368967ba5783a3e04e1": {
      "model_module": "@jupyter-widgets/base",
      "model_module_version": "1.2.0",
      "model_name": "LayoutModel",
      "state": {}
     },
     "8926a057b98c420e953dbb45c46bb253": {
      "model_module": "jupyter-matplotlib",
      "model_module_version": "^0.9.0",
      "model_name": "MPLCanvasModel",
      "state": {
       "_cursor": "default",
       "_figure_label": "Figure 5",
       "_height": 400,
       "_message": "zoom rect",
       "_rubberband_y": 400,
       "_width": 400,
       "header_visible": false,
       "layout": "IPY_MODEL_89a2f7528b124a8b8abd60f6a38c8682",
       "toolbar": "IPY_MODEL_c574c5aa21fc4eb1998234be3e4f0236",
       "toolbar_position": "left"
      }
     },
     "89a2f7528b124a8b8abd60f6a38c8682": {
      "model_module": "@jupyter-widgets/base",
      "model_module_version": "1.2.0",
      "model_name": "LayoutModel",
      "state": {}
     },
     "8a31e92d21654999be973abca8b68342": {
      "model_module": "@jupyter-widgets/base",
      "model_module_version": "1.2.0",
      "model_name": "LayoutModel",
      "state": {}
     },
     "8bac9b535307477a96c4434fbab5a177": {
      "model_module": "jupyter-matplotlib",
      "model_module_version": "^0.9.0",
      "model_name": "MPLCanvasModel",
      "state": {
       "_cursor": "default",
       "_figure_label": "Figure 8",
       "_height": 400,
       "_width": 400,
       "header_visible": false,
       "layout": "IPY_MODEL_74deb6777ffb463499ff1235629fe686",
       "toolbar": "IPY_MODEL_469aac2bd7bf4f1eb8000ac1f897748c",
       "toolbar_position": "left"
      }
     },
     "8f57443ee5cf4fd29bfd43e3df534d94": {
      "model_module": "@jupyter-widgets/base",
      "model_module_version": "1.2.0",
      "model_name": "LayoutModel",
      "state": {}
     },
     "95f53718f6e2454a858bb646c5ef81a9": {
      "model_module": "@jupyter-widgets/base",
      "model_module_version": "1.2.0",
      "model_name": "LayoutModel",
      "state": {}
     },
     "96c41cc362ed447cacde9523d4735ed8": {
      "model_module": "@jupyter-widgets/base",
      "model_module_version": "1.2.0",
      "model_name": "LayoutModel",
      "state": {}
     },
     "96d5df352dda4fb5a54ab7af01e6d080": {
      "model_module": "jupyter-matplotlib",
      "model_module_version": "^0.9.0",
      "model_name": "ToolbarModel",
      "state": {
       "layout": "IPY_MODEL_59d7f25047f843959c31ae3f1b15535c",
       "toolitems": [
        [
         "Home",
         "Reset original view",
         "home",
         "home"
        ],
        [
         "Back",
         "Back to previous view",
         "arrow-left",
         "back"
        ],
        [
         "Forward",
         "Forward to next view",
         "arrow-right",
         "forward"
        ],
        [
         "Pan",
         "Left button pans, Right button zooms\nx/y fixes axis, CTRL fixes aspect",
         "arrows",
         "pan"
        ],
        [
         "Zoom",
         "Zoom to rectangle\nx/y fixes axis, CTRL fixes aspect",
         "square-o",
         "zoom"
        ],
        [
         "Download",
         "Download plot",
         "floppy-o",
         "save_figure"
        ]
       ]
      }
     },
     "96e84266436748f5bccf1a7771a9d0a1": {
      "model_module": "@jupyter-widgets/base",
      "model_module_version": "1.2.0",
      "model_name": "LayoutModel",
      "state": {}
     },
     "989f80115ac6417cb4277f65a71a22a2": {
      "model_module": "jupyter-matplotlib",
      "model_module_version": "^0.9.0",
      "model_name": "MPLCanvasModel",
      "state": {
       "_cursor": "default",
       "_figure_label": "Figure 1",
       "_height": 300,
       "_width": 400,
       "header_visible": false,
       "layout": "IPY_MODEL_b45c48fdf43949e5b90bc3e3e23fb9ae",
       "toolbar": "IPY_MODEL_a1f72640965a41dd91e047d693e5cae7",
       "toolbar_position": "left"
      }
     },
     "994e8c0762d14b8281024ab719fdf414": {
      "model_module": "jupyter-matplotlib",
      "model_module_version": "^0.9.0",
      "model_name": "ToolbarModel",
      "state": {
       "layout": "IPY_MODEL_d5c29362d78b42a99fcacd3f7f44d2ca",
       "toolitems": [
        [
         "Home",
         "Reset original view",
         "home",
         "home"
        ],
        [
         "Back",
         "Back to previous view",
         "arrow-left",
         "back"
        ],
        [
         "Forward",
         "Forward to next view",
         "arrow-right",
         "forward"
        ],
        [
         "Pan",
         "Left button pans, Right button zooms\nx/y fixes axis, CTRL fixes aspect",
         "arrows",
         "pan"
        ],
        [
         "Zoom",
         "Zoom to rectangle\nx/y fixes axis, CTRL fixes aspect",
         "square-o",
         "zoom"
        ],
        [
         "Download",
         "Download plot",
         "floppy-o",
         "save_figure"
        ]
       ]
      }
     },
     "99a3f706774c42ceb2fcfeae0dfe40e6": {
      "model_module": "@jupyter-widgets/base",
      "model_module_version": "1.2.0",
      "model_name": "LayoutModel",
      "state": {}
     },
     "9ab5a32062c54801931f4bee61bfc0df": {
      "model_module": "@jupyter-widgets/base",
      "model_module_version": "1.2.0",
      "model_name": "LayoutModel",
      "state": {}
     },
     "9c9c5cf42f9a4da6918119922fe6c232": {
      "model_module": "@jupyter-widgets/base",
      "model_module_version": "1.2.0",
      "model_name": "LayoutModel",
      "state": {}
     },
     "9ce85fa8c67648f1a054c4d53b9dec9d": {
      "model_module": "@jupyter-widgets/base",
      "model_module_version": "1.2.0",
      "model_name": "LayoutModel",
      "state": {}
     },
     "9f5aaad853b54ce18cae37c784234dcf": {
      "model_module": "@jupyter-widgets/base",
      "model_module_version": "1.2.0",
      "model_name": "LayoutModel",
      "state": {}
     },
     "a056ee7eaede41e9a379fc2f19bd616b": {
      "model_module": "@jupyter-widgets/base",
      "model_module_version": "1.2.0",
      "model_name": "LayoutModel",
      "state": {}
     },
     "a1d5db20151f48d0a8470524bfd91f31": {
      "model_module": "@jupyter-widgets/base",
      "model_module_version": "1.2.0",
      "model_name": "LayoutModel",
      "state": {}
     },
     "a1f72640965a41dd91e047d693e5cae7": {
      "model_module": "jupyter-matplotlib",
      "model_module_version": "^0.9.0",
      "model_name": "ToolbarModel",
      "state": {
       "layout": "IPY_MODEL_2b3d2e79eebf416e9b2695c3b09c9bd0",
       "toolitems": [
        [
         "Home",
         "Reset original view",
         "home",
         "home"
        ],
        [
         "Back",
         "Back to previous view",
         "arrow-left",
         "back"
        ],
        [
         "Forward",
         "Forward to next view",
         "arrow-right",
         "forward"
        ],
        [
         "Pan",
         "Left button pans, Right button zooms\nx/y fixes axis, CTRL fixes aspect",
         "arrows",
         "pan"
        ],
        [
         "Zoom",
         "Zoom to rectangle\nx/y fixes axis, CTRL fixes aspect",
         "square-o",
         "zoom"
        ],
        [
         "Download",
         "Download plot",
         "floppy-o",
         "save_figure"
        ]
       ]
      }
     },
     "a2ea2daa4947414f985bced88fd549de": {
      "model_module": "@jupyter-widgets/base",
      "model_module_version": "1.2.0",
      "model_name": "LayoutModel",
      "state": {}
     },
     "a369a3cc7e5343ff8aed49d4e898c909": {
      "model_module": "@jupyter-widgets/base",
      "model_module_version": "1.2.0",
      "model_name": "LayoutModel",
      "state": {}
     },
     "a400d0c465ea4faea48a794a5762c2f7": {
      "model_module": "@jupyter-widgets/base",
      "model_module_version": "1.2.0",
      "model_name": "LayoutModel",
      "state": {}
     },
     "a514c8c9d3194e08b3209d1f45c8fef9": {
      "model_module": "@jupyter-widgets/base",
      "model_module_version": "1.2.0",
      "model_name": "LayoutModel",
      "state": {}
     },
     "a58d3e70a9a7463e97b5318e2cea5644": {
      "model_module": "jupyter-matplotlib",
      "model_module_version": "^0.9.0",
      "model_name": "ToolbarModel",
      "state": {
       "layout": "IPY_MODEL_c8fcea14269744dd8fce6d047e8cacaa",
       "toolitems": [
        [
         "Home",
         "Reset original view",
         "home",
         "home"
        ],
        [
         "Back",
         "Back to previous view",
         "arrow-left",
         "back"
        ],
        [
         "Forward",
         "Forward to next view",
         "arrow-right",
         "forward"
        ],
        [
         "Pan",
         "Left button pans, Right button zooms\nx/y fixes axis, CTRL fixes aspect",
         "arrows",
         "pan"
        ],
        [
         "Zoom",
         "Zoom to rectangle\nx/y fixes axis, CTRL fixes aspect",
         "square-o",
         "zoom"
        ],
        [
         "Download",
         "Download plot",
         "floppy-o",
         "save_figure"
        ]
       ]
      }
     },
     "a976e54a2a424d6b803f3f37511f5f41": {
      "model_module": "@jupyter-widgets/base",
      "model_module_version": "1.2.0",
      "model_name": "LayoutModel",
      "state": {}
     },
     "aa1b37d9c713487bacd932f95cebc931": {
      "model_module": "@jupyter-widgets/base",
      "model_module_version": "1.2.0",
      "model_name": "LayoutModel",
      "state": {}
     },
     "ac07a85bc8cb4c6b849448a021ca7108": {
      "model_module": "jupyter-matplotlib",
      "model_module_version": "^0.9.0",
      "model_name": "ToolbarModel",
      "state": {
       "layout": "IPY_MODEL_f40db56f9b164c6084565bb8ef698e3a",
       "toolitems": [
        [
         "Home",
         "Reset original view",
         "home",
         "home"
        ],
        [
         "Back",
         "Back to previous view",
         "arrow-left",
         "back"
        ],
        [
         "Forward",
         "Forward to next view",
         "arrow-right",
         "forward"
        ],
        [
         "Pan",
         "Left button pans, Right button zooms\nx/y fixes axis, CTRL fixes aspect",
         "arrows",
         "pan"
        ],
        [
         "Zoom",
         "Zoom to rectangle\nx/y fixes axis, CTRL fixes aspect",
         "square-o",
         "zoom"
        ],
        [
         "Download",
         "Download plot",
         "floppy-o",
         "save_figure"
        ]
       ]
      }
     },
     "adca9d24749d481bb4e3d22307d2e92b": {
      "model_module": "jupyter-matplotlib",
      "model_module_version": "^0.9.0",
      "model_name": "MPLCanvasModel",
      "state": {
       "_cursor": "default",
       "_figure_label": "Figure 13",
       "_height": 300,
       "_message": "x=7.96131      y=0.588697",
       "_width": 300,
       "header_visible": false,
       "layout": "IPY_MODEL_7f33f84b1ef146ba9a4d5f503749a15e",
       "toolbar": "IPY_MODEL_290ee68edc98479fa4fd52766609b4ea",
       "toolbar_position": "left"
      }
     },
     "b211f5549ac3457db685bfba1c1bfed6": {
      "model_module": "@jupyter-widgets/base",
      "model_module_version": "1.2.0",
      "model_name": "LayoutModel",
      "state": {}
     },
     "b45c48fdf43949e5b90bc3e3e23fb9ae": {
      "model_module": "@jupyter-widgets/base",
      "model_module_version": "1.2.0",
      "model_name": "LayoutModel",
      "state": {}
     },
     "b5525843f3464f74aca3d07635346dc3": {
      "model_module": "jupyter-matplotlib",
      "model_module_version": "^0.9.0",
      "model_name": "ToolbarModel",
      "state": {
       "layout": "IPY_MODEL_5b2bef0322ef496d8d852d8bc5edebb8",
       "toolitems": [
        [
         "Home",
         "Reset original view",
         "home",
         "home"
        ],
        [
         "Back",
         "Back to previous view",
         "arrow-left",
         "back"
        ],
        [
         "Forward",
         "Forward to next view",
         "arrow-right",
         "forward"
        ],
        [
         "Pan",
         "Left button pans, Right button zooms\nx/y fixes axis, CTRL fixes aspect",
         "arrows",
         "pan"
        ],
        [
         "Zoom",
         "Zoom to rectangle\nx/y fixes axis, CTRL fixes aspect",
         "square-o",
         "zoom"
        ],
        [
         "Download",
         "Download plot",
         "floppy-o",
         "save_figure"
        ]
       ]
      }
     },
     "b5b22f9f578c4320b2c713560d02c853": {
      "model_module": "@jupyter-widgets/base",
      "model_module_version": "1.2.0",
      "model_name": "LayoutModel",
      "state": {}
     },
     "b5f28af15eb64968907f2161590cd991": {
      "model_module": "jupyter-matplotlib",
      "model_module_version": "^0.9.0",
      "model_name": "MPLCanvasModel",
      "state": {
       "_cursor": "default",
       "_figure_label": "Figure 21",
       "_height": 300,
       "_width": 300,
       "header_visible": false,
       "layout": "IPY_MODEL_c4adab8490d14c0bb8f0aada1e3bffca",
       "toolbar": "IPY_MODEL_010548216f2449cdac4e269157088986",
       "toolbar_position": "left"
      }
     },
     "c26d092dc4034e828018c5ee6624805b": {
      "model_module": "@jupyter-widgets/base",
      "model_module_version": "1.2.0",
      "model_name": "LayoutModel",
      "state": {}
     },
     "c2a58eaeda1b418680d6d82e23199e11": {
      "model_module": "@jupyter-widgets/base",
      "model_module_version": "1.2.0",
      "model_name": "LayoutModel",
      "state": {}
     },
     "c346f6516d3e4c8caa8ae35391ed3524": {
      "model_module": "@jupyter-widgets/base",
      "model_module_version": "1.2.0",
      "model_name": "LayoutModel",
      "state": {}
     },
     "c34c08ad4688493aa067b6492d05cb62": {
      "model_module": "@jupyter-widgets/base",
      "model_module_version": "1.2.0",
      "model_name": "LayoutModel",
      "state": {}
     },
     "c36b0b6a95a7452db37c772bb2838770": {
      "model_module": "jupyter-matplotlib",
      "model_module_version": "^0.9.0",
      "model_name": "ToolbarModel",
      "state": {
       "layout": "IPY_MODEL_45983c88260644fc84bdb9ae9f14af0b",
       "toolitems": [
        [
         "Home",
         "Reset original view",
         "home",
         "home"
        ],
        [
         "Back",
         "Back to previous view",
         "arrow-left",
         "back"
        ],
        [
         "Forward",
         "Forward to next view",
         "arrow-right",
         "forward"
        ],
        [
         "Pan",
         "Left button pans, Right button zooms\nx/y fixes axis, CTRL fixes aspect",
         "arrows",
         "pan"
        ],
        [
         "Zoom",
         "Zoom to rectangle\nx/y fixes axis, CTRL fixes aspect",
         "square-o",
         "zoom"
        ],
        [
         "Download",
         "Download plot",
         "floppy-o",
         "save_figure"
        ]
       ]
      }
     },
     "c407d9023a3e47f2bcb9a11746a07bf2": {
      "model_module": "jupyter-matplotlib",
      "model_module_version": "^0.9.0",
      "model_name": "MPLCanvasModel",
      "state": {
       "_cursor": "default",
       "_figure_label": "Figure 7",
       "_height": 300,
       "_message": "zoom rect",
       "_rubberband_y": 300,
       "_width": 300,
       "header_visible": false,
       "layout": "IPY_MODEL_6d1f5c1c6a114d85b93b384adbe839b0",
       "toolbar": "IPY_MODEL_7e5e99b4467642c3abd4354e54eb8b85",
       "toolbar_position": "left"
      }
     },
     "c4adab8490d14c0bb8f0aada1e3bffca": {
      "model_module": "@jupyter-widgets/base",
      "model_module_version": "1.2.0",
      "model_name": "LayoutModel",
      "state": {}
     },
     "c5254bd244d043efadf922e33aa37178": {
      "model_module": "jupyter-matplotlib",
      "model_module_version": "^0.9.0",
      "model_name": "ToolbarModel",
      "state": {
       "layout": "IPY_MODEL_a514c8c9d3194e08b3209d1f45c8fef9",
       "toolitems": [
        [
         "Home",
         "Reset original view",
         "home",
         "home"
        ],
        [
         "Back",
         "Back to previous view",
         "arrow-left",
         "back"
        ],
        [
         "Forward",
         "Forward to next view",
         "arrow-right",
         "forward"
        ],
        [
         "Pan",
         "Left button pans, Right button zooms\nx/y fixes axis, CTRL fixes aspect",
         "arrows",
         "pan"
        ],
        [
         "Zoom",
         "Zoom to rectangle\nx/y fixes axis, CTRL fixes aspect",
         "square-o",
         "zoom"
        ],
        [
         "Download",
         "Download plot",
         "floppy-o",
         "save_figure"
        ]
       ]
      }
     },
     "c574c5aa21fc4eb1998234be3e4f0236": {
      "model_module": "jupyter-matplotlib",
      "model_module_version": "^0.9.0",
      "model_name": "ToolbarModel",
      "state": {
       "_current_action": "zoom",
       "layout": "IPY_MODEL_868fc8e158cf4629a5a6e76ddbcb77eb",
       "toolitems": [
        [
         "Home",
         "Reset original view",
         "home",
         "home"
        ],
        [
         "Back",
         "Back to previous view",
         "arrow-left",
         "back"
        ],
        [
         "Forward",
         "Forward to next view",
         "arrow-right",
         "forward"
        ],
        [
         "Pan",
         "Left button pans, Right button zooms\nx/y fixes axis, CTRL fixes aspect",
         "arrows",
         "pan"
        ],
        [
         "Zoom",
         "Zoom to rectangle\nx/y fixes axis, CTRL fixes aspect",
         "square-o",
         "zoom"
        ],
        [
         "Download",
         "Download plot",
         "floppy-o",
         "save_figure"
        ]
       ]
      }
     },
     "c748695b2f964c6192abe7bf3909e601": {
      "model_module": "@jupyter-widgets/base",
      "model_module_version": "1.2.0",
      "model_name": "LayoutModel",
      "state": {}
     },
     "c8fcea14269744dd8fce6d047e8cacaa": {
      "model_module": "@jupyter-widgets/base",
      "model_module_version": "1.2.0",
      "model_name": "LayoutModel",
      "state": {}
     },
     "cce9111d0c4342f4b06f790ea864b7ca": {
      "model_module": "@jupyter-widgets/base",
      "model_module_version": "1.2.0",
      "model_name": "LayoutModel",
      "state": {}
     },
     "ce3324a16c274984b4ad178957fc3f31": {
      "model_module": "@jupyter-widgets/base",
      "model_module_version": "1.2.0",
      "model_name": "LayoutModel",
      "state": {}
     },
     "ce4ec75f578e496b90f10462772370bc": {
      "model_module": "@jupyter-widgets/base",
      "model_module_version": "1.2.0",
      "model_name": "LayoutModel",
      "state": {}
     },
     "d01c8c4fb4484a7c88ef6dbce26f9dfb": {
      "model_module": "@jupyter-widgets/base",
      "model_module_version": "1.2.0",
      "model_name": "LayoutModel",
      "state": {}
     },
     "d2bf5b1c29cb4a99a93035118c828589": {
      "model_module": "@jupyter-widgets/base",
      "model_module_version": "1.2.0",
      "model_name": "LayoutModel",
      "state": {}
     },
     "d55d30bb4e6f4c9bb96f852050585023": {
      "model_module": "@jupyter-widgets/base",
      "model_module_version": "1.2.0",
      "model_name": "LayoutModel",
      "state": {}
     },
     "d589c5a080784bc79382afc08a84d35b": {
      "model_module": "@jupyter-widgets/base",
      "model_module_version": "1.2.0",
      "model_name": "LayoutModel",
      "state": {}
     },
     "d5c29362d78b42a99fcacd3f7f44d2ca": {
      "model_module": "@jupyter-widgets/base",
      "model_module_version": "1.2.0",
      "model_name": "LayoutModel",
      "state": {}
     },
     "d7bc1ce882d049adbf005bf10fc201cd": {
      "model_module": "@jupyter-widgets/base",
      "model_module_version": "1.2.0",
      "model_name": "LayoutModel",
      "state": {}
     },
     "d7bebb924d784e21b6971fbc992fc27c": {
      "model_module": "jupyter-matplotlib",
      "model_module_version": "^0.9.0",
      "model_name": "ToolbarModel",
      "state": {
       "_current_action": "zoom",
       "layout": "IPY_MODEL_a1d5db20151f48d0a8470524bfd91f31",
       "toolitems": [
        [
         "Home",
         "Reset original view",
         "home",
         "home"
        ],
        [
         "Back",
         "Back to previous view",
         "arrow-left",
         "back"
        ],
        [
         "Forward",
         "Forward to next view",
         "arrow-right",
         "forward"
        ],
        [
         "Pan",
         "Left button pans, Right button zooms\nx/y fixes axis, CTRL fixes aspect",
         "arrows",
         "pan"
        ],
        [
         "Zoom",
         "Zoom to rectangle\nx/y fixes axis, CTRL fixes aspect",
         "square-o",
         "zoom"
        ],
        [
         "Download",
         "Download plot",
         "floppy-o",
         "save_figure"
        ]
       ]
      }
     },
     "d84ee09b919848b4a9a806e76fc3bc34": {
      "model_module": "@jupyter-widgets/base",
      "model_module_version": "1.2.0",
      "model_name": "LayoutModel",
      "state": {}
     },
     "d89a17d3683b495caa52362389948b11": {
      "model_module": "jupyter-matplotlib",
      "model_module_version": "^0.9.0",
      "model_name": "MPLCanvasModel",
      "state": {
       "_cursor": "default",
       "_figure_label": "Figure 10",
       "_height": 400,
       "_width": 400,
       "header_visible": false,
       "layout": "IPY_MODEL_31a3d5e4220246df9b5e214d16c26cf3",
       "toolbar": "IPY_MODEL_994e8c0762d14b8281024ab719fdf414",
       "toolbar_position": "left"
      }
     },
     "e32db783f62f42a3990032ad58d1fef0": {
      "model_module": "jupyter-matplotlib",
      "model_module_version": "^0.9.0",
      "model_name": "MPLCanvasModel",
      "state": {
       "_cursor": "default",
       "_figure_label": "Figure 6",
       "_height": 400,
       "_message": "zoom rect",
       "_rubberband_y": 400,
       "_width": 400,
       "header_visible": false,
       "layout": "IPY_MODEL_5b14fde08845403ba4649c1fade00afd",
       "toolbar": "IPY_MODEL_d7bebb924d784e21b6971fbc992fc27c",
       "toolbar_position": "left"
      }
     },
     "e7035a9b582140359efe399815d4483c": {
      "model_module": "@jupyter-widgets/base",
      "model_module_version": "1.2.0",
      "model_name": "LayoutModel",
      "state": {}
     },
     "efd3240c1ceb449e91908b4eb0570a79": {
      "model_module": "@jupyter-widgets/base",
      "model_module_version": "1.2.0",
      "model_name": "LayoutModel",
      "state": {}
     },
     "f354618555c64dc7872ea029145ebb21": {
      "model_module": "@jupyter-widgets/base",
      "model_module_version": "1.2.0",
      "model_name": "LayoutModel",
      "state": {}
     },
     "f3837eb74de34aed9e068eed07e16b3d": {
      "model_module": "jupyter-matplotlib",
      "model_module_version": "^0.9.0",
      "model_name": "MPLCanvasModel",
      "state": {
       "_cursor": "default",
       "_figure_label": "Figure 19",
       "_height": 300,
       "_width": 300,
       "header_visible": false,
       "layout": "IPY_MODEL_a369a3cc7e5343ff8aed49d4e898c909",
       "toolbar": "IPY_MODEL_5260fa0f13bf4a858b7f43efb5062b11",
       "toolbar_position": "left"
      }
     },
     "f40db56f9b164c6084565bb8ef698e3a": {
      "model_module": "@jupyter-widgets/base",
      "model_module_version": "1.2.0",
      "model_name": "LayoutModel",
      "state": {}
     },
     "fad06970788a4beba404970bea026c94": {
      "model_module": "jupyter-matplotlib",
      "model_module_version": "^0.9.0",
      "model_name": "ToolbarModel",
      "state": {
       "layout": "IPY_MODEL_b211f5549ac3457db685bfba1c1bfed6",
       "toolitems": [
        [
         "Home",
         "Reset original view",
         "home",
         "home"
        ],
        [
         "Back",
         "Back to previous view",
         "arrow-left",
         "back"
        ],
        [
         "Forward",
         "Forward to next view",
         "arrow-right",
         "forward"
        ],
        [
         "Pan",
         "Left button pans, Right button zooms\nx/y fixes axis, CTRL fixes aspect",
         "arrows",
         "pan"
        ],
        [
         "Zoom",
         "Zoom to rectangle\nx/y fixes axis, CTRL fixes aspect",
         "square-o",
         "zoom"
        ],
        [
         "Download",
         "Download plot",
         "floppy-o",
         "save_figure"
        ]
       ]
      }
     },
     "fc4379c9988e4c888a7a5dd37027c5cc": {
      "model_module": "@jupyter-widgets/base",
      "model_module_version": "1.2.0",
      "model_name": "LayoutModel",
      "state": {}
     }
    },
    "version_major": 2,
    "version_minor": 0
   }
  }
 },
 "nbformat": 4,
 "nbformat_minor": 4
}
