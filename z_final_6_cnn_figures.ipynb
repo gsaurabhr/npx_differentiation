{
 "cells": [
  {
   "cell_type": "code",
   "execution_count": 1,
   "metadata": {
    "execution": {
     "iopub.execute_input": "2021-12-10T11:47:10.059930Z",
     "iopub.status.busy": "2021-12-10T11:47:10.058851Z",
     "iopub.status.idle": "2021-12-10T11:47:10.831358Z",
     "shell.execute_reply": "2021-12-10T11:47:10.830653Z",
     "shell.execute_reply.started": "2021-12-10T11:47:10.059807Z"
    },
    "tags": []
   },
   "outputs": [],
   "source": [
    "%load_ext autoreload\n",
    "%autoreload 2\n",
    "%matplotlib widget\n",
    "\n",
    "from os import path\n",
    "from glob import glob\n",
    "import pickle\n",
    "\n",
    "import numpy as np\n",
    "import pandas as pd\n",
    "import scipy as sp\n",
    "import seaborn as sns\n",
    "import matplotlib as mpl\n",
    "import matplotlib.pyplot as plt\n",
    "from matplotlib import cm\n",
    "from IPython.display import display\n",
    "from IPython.utils.capture import capture_output\n",
    "from tqdm.auto import tqdm\n",
    "with capture_output():\n",
    "    tqdm.pandas()\n",
    "import h5py\n",
    "\n",
    "from ipympl.backend_nbagg import Canvas\n",
    "Canvas.header_visible.default_value = False"
   ]
  },
  {
   "cell_type": "code",
   "execution_count": 2,
   "metadata": {
    "execution": {
     "iopub.execute_input": "2021-12-10T11:47:10.832637Z",
     "iopub.status.busy": "2021-12-10T11:47:10.832415Z",
     "iopub.status.idle": "2021-12-10T11:47:10.851882Z",
     "shell.execute_reply": "2021-12-10T11:47:10.851214Z",
     "shell.execute_reply.started": "2021-12-10T11:47:10.832611Z"
    },
    "tags": []
   },
   "outputs": [],
   "source": [
    "stimulus_categories = {\n",
    "    'stim_dg_90' : 'complex',\n",
    "    'stim_dgc_90' : 'simple',\n",
    "    'stim_flash_90' : 'simple',\n",
    "    'stim_gabors_90' : 'simple',\n",
    "    'stim_natural_movie_one_shuffled' : 'shuffled',\n",
    "    'natural_movies' : 'natural',\n",
    "    'stim_natural_movie_one' : 'natural',\n",
    "    'stim_natural_movie_three' : 'natural',\n",
    "    'spontaneous' : 'spontaneous',\n",
    "    'stim_sg_90' : 'complex'\n",
    "}\n",
    "\n",
    "stim_cat_colors = {\n",
    "    'spontaneous' : cm.Greys(0.8, 0.8),\n",
    "    'simple' : cm.Reds(0.8, 0.8),\n",
    "    'complex' : cm.Blues(0.8, 0.8),\n",
    "    'natural' : cm.Greens(0.8, 0.8),\n",
    "    'shuffled' : cm.Purples(0.4, 0.8)\n",
    "    \n",
    "}\n",
    "\n",
    "stim_cat_colors_bg = {\n",
    "    'spontaneous' : cm.Greys(0.5, 0.5),\n",
    "    'simple' : cm.Reds(0.5, 0.5),\n",
    "    'complex' : cm.Blues(0.5, 0.5),\n",
    "    'natural' : cm.Greens(0.5, 0.5),\n",
    "    'shuffled' : cm.Purples(0.4, 0.5)\n",
    "    \n",
    "}"
   ]
  },
  {
   "cell_type": "code",
   "execution_count": 3,
   "metadata": {
    "execution": {
     "iopub.execute_input": "2021-12-10T11:47:11.068607Z",
     "iopub.status.busy": "2021-12-10T11:47:11.067665Z",
     "iopub.status.idle": "2021-12-10T11:47:11.488358Z",
     "shell.execute_reply": "2021-12-10T11:47:11.487733Z",
     "shell.execute_reply.started": "2021-12-10T11:47:11.068498Z"
    },
    "tags": []
   },
   "outputs": [],
   "source": [
    "cnn_models = {\n",
    "    'VGG16' : '../tiny-blue-dot/differentiation/refactor/CNNs/vgg16_diffn.pkl',\n",
    "    'ResNet50' : '../tiny-blue-dot/differentiation/refactor/CNNs/resnet_diffn.pkl',\n",
    "    'InceptionV3' : '../tiny-blue-dot/differentiation/refactor/CNNs/inception_diffn.pkl'\n",
    "}\n",
    "\n",
    "differentiation = {\n",
    "    k : pd.read_pickle(cnn_models[k]) for k in cnn_models.keys()\n",
    "}\n",
    "\n",
    "# differentiation = {\n",
    "#     k : d / d.columns.get_level_values(1).map(np.sqrt) for k, d in differentiation.items()\n",
    "# }\n",
    "\n",
    "ylims = {'VGG16': (3291.9816826375727, 4367909.777423014),\n",
    " 'ResNet50': (253.73407405560303, 72457426.7240913),\n",
    " 'InceptionV3': (684.8871165012145, 10736165.239076167)}\n",
    "\n",
    "xlims = {'VGG16': (0.5244677678629754, 20.435278098806037),\n",
    " 'ResNet50': (0.49113097065560307, 17.424850357749584),\n",
    " 'InceptionV3': (0.5543381394014095, 13.442327018738055)}"
   ]
  },
  {
   "cell_type": "code",
   "execution_count": 4,
   "metadata": {
    "execution": {
     "iopub.execute_input": "2021-12-10T11:47:11.549417Z",
     "iopub.status.busy": "2021-12-10T11:47:11.548895Z",
     "iopub.status.idle": "2021-12-10T11:47:11.590577Z",
     "shell.execute_reply": "2021-12-10T11:47:11.589581Z",
     "shell.execute_reply.started": "2021-12-10T11:47:11.549357Z"
    },
    "tags": []
   },
   "outputs": [
    {
     "data": {
      "text/plain": [
       "{'figure.facecolor': 'white',\n",
       " 'axes.labelcolor': '.15',\n",
       " 'xtick.direction': 'out',\n",
       " 'ytick.direction': 'out',\n",
       " 'xtick.color': '.15',\n",
       " 'ytick.color': '.15',\n",
       " 'axes.axisbelow': True,\n",
       " 'grid.linestyle': '-',\n",
       " 'text.color': '.15',\n",
       " 'font.family': ['sans-serif'],\n",
       " 'font.sans-serif': ['Arial',\n",
       "  'DejaVu Sans',\n",
       "  'Liberation Sans',\n",
       "  'Bitstream Vera Sans',\n",
       "  'sans-serif'],\n",
       " 'lines.solid_capstyle': 'round',\n",
       " 'patch.edgecolor': 'w',\n",
       " 'patch.force_edgecolor': True,\n",
       " 'image.cmap': 'rocket',\n",
       " 'xtick.top': False,\n",
       " 'ytick.right': False,\n",
       " 'axes.grid': True,\n",
       " 'axes.facecolor': 'white',\n",
       " 'axes.edgecolor': '.8',\n",
       " 'grid.color': '.8',\n",
       " 'axes.spines.left': True,\n",
       " 'axes.spines.bottom': True,\n",
       " 'axes.spines.right': True,\n",
       " 'axes.spines.top': True,\n",
       " 'xtick.bottom': False,\n",
       " 'ytick.left': False}"
      ]
     },
     "execution_count": 4,
     "metadata": {},
     "output_type": "execute_result"
    }
   ],
   "source": [
    "sns.axes_style('whitegrid')"
   ]
  },
  {
   "cell_type": "code",
   "execution_count": 5,
   "metadata": {
    "execution": {
     "iopub.execute_input": "2021-12-10T11:47:12.500246Z",
     "iopub.status.busy": "2021-12-10T11:47:12.498945Z",
     "iopub.status.idle": "2021-12-10T11:47:14.959297Z",
     "shell.execute_reply": "2021-12-10T11:47:14.958734Z",
     "shell.execute_reply.started": "2021-12-10T11:47:12.500133Z"
    },
    "tags": []
   },
   "outputs": [
    {
     "data": {
      "application/vnd.jupyter.widget-view+json": {
       "model_id": "b0a68e86f43b48ce96526cddb76e8c7a",
       "version_major": 2,
       "version_minor": 0
      },
      "text/plain": [
       "Canvas(toolbar=Toolbar(toolitems=[('Home', 'Reset original view', 'home', 'home'), ('Back', 'Back to previous …"
      ]
     },
     "metadata": {},
     "output_type": "display_data"
    }
   ],
   "source": [
    "win, sta = 3, 0.1\n",
    "\n",
    "with sns.axes_style('whitegrid', rc={'axes.grid': False}):\n",
    "    f, axes = plt.subplots(3, 1, figsize=(8, 5), tight_layout=True)\n",
    "\n",
    "for ax, (k, diffn) in zip(axes, differentiation.items()):\n",
    "    _df = diffn[win][sta].melt().dropna()\n",
    "    _df = _df[_df.value>1]\n",
    "    _df['stimulus_categories'] = _df.stimulus.map(stimulus_categories)\n",
    "#     _df.head()\n",
    "\n",
    "    flierprops = dict(markerfacecolor=cm.Greys(0.5, 0.5), markeredgecolor='none')\n",
    "\n",
    "    sns.boxplot(\n",
    "        x='layer', y='value', hue='stimulus_categories', data=_df,\n",
    "        ax=ax, fliersize=0.2, linewidth=0.2, whis=1.5,\n",
    "        palette=stim_cat_colors_bg, width=0.8,\n",
    "        flierprops=flierprops, showfliers=False\n",
    "    )\n",
    "    ax.set_xlim(xlims[k])\n",
    "    ax.set_ylim(ylims[k])\n",
    "    ax.legend().set_visible(False)\n",
    "    ax.set_ylabel(f'{k}\\ndifferentiation')\n",
    "    ax.set_yscale('log')\n",
    "    ax.set_xlabel('')\n",
    "    ax.set_xticks([])\n",
    "    sns.despine(ax=ax)\n",
    "ax.set_xlabel('CNN layer hierarchy')\n",
    "axes[0].legend(ncol=4, fontsize=8, frameon=False);\n",
    "f.savefig('fig_cnn_differentiation.pdf')"
   ]
  },
  {
   "cell_type": "code",
   "execution_count": 6,
   "metadata": {
    "execution": {
     "iopub.execute_input": "2021-12-10T11:47:29.537844Z",
     "iopub.status.busy": "2021-12-10T11:47:29.536767Z",
     "iopub.status.idle": "2021-12-10T11:47:29.559683Z",
     "shell.execute_reply": "2021-12-10T11:47:29.558889Z",
     "shell.execute_reply.started": "2021-12-10T11:47:29.537719Z"
    },
    "tags": []
   },
   "outputs": [
    {
     "data": {
      "text/plain": [
       "{'VGG16': (3291.9816826375727, 4367909.777423014),\n",
       " 'ResNet50': (253.73407405560303, 72457426.7240913),\n",
       " 'InceptionV3': (684.8871165012145, 10736165.239076167)}"
      ]
     },
     "execution_count": 6,
     "metadata": {},
     "output_type": "execute_result"
    }
   ],
   "source": [
    "ylims = {}\n",
    "for ax, k in zip(axes, differentiation.keys()):\n",
    "    ylims[k] = ax.get_ylim()\n",
    "ylims"
   ]
  },
  {
   "cell_type": "code",
   "execution_count": 7,
   "metadata": {
    "execution": {
     "iopub.execute_input": "2021-12-10T11:47:29.702626Z",
     "iopub.status.busy": "2021-12-10T11:47:29.701315Z",
     "iopub.status.idle": "2021-12-10T11:47:29.747712Z",
     "shell.execute_reply": "2021-12-10T11:47:29.746795Z",
     "shell.execute_reply.started": "2021-12-10T11:47:29.702512Z"
    },
    "tags": []
   },
   "outputs": [
    {
     "data": {
      "text/plain": [
       "{'VGG16': (0.5244677678629754, 20.435278098806037),\n",
       " 'ResNet50': (0.49113097065560307, 17.424850357749584),\n",
       " 'InceptionV3': (0.5543381394014095, 13.442327018738055)}"
      ]
     },
     "execution_count": 7,
     "metadata": {},
     "output_type": "execute_result"
    }
   ],
   "source": [
    "xlims = {}\n",
    "for ax, k in zip(axes, differentiation.keys()):\n",
    "    xlims[k] = ax.get_xlim()\n",
    "xlims"
   ]
  },
  {
   "cell_type": "markdown",
   "metadata": {},
   "source": [
    "# Statistical tests for trends"
   ]
  },
  {
   "cell_type": "code",
   "execution_count": 34,
   "metadata": {
    "execution": {
     "iopub.execute_input": "2021-12-10T12:13:36.928195Z",
     "iopub.status.busy": "2021-12-10T12:13:36.927119Z",
     "iopub.status.idle": "2021-12-10T12:13:37.009972Z",
     "shell.execute_reply": "2021-12-10T12:13:37.009346Z",
     "shell.execute_reply.started": "2021-12-10T12:13:36.928050Z"
    },
    "tags": []
   },
   "outputs": [
    {
     "data": {
      "text/html": [
       "<div>\n",
       "<style scoped>\n",
       "    .dataframe tbody tr th:only-of-type {\n",
       "        vertical-align: middle;\n",
       "    }\n",
       "\n",
       "    .dataframe tbody tr th {\n",
       "        vertical-align: top;\n",
       "    }\n",
       "\n",
       "    .dataframe thead th {\n",
       "        text-align: right;\n",
       "    }\n",
       "</style>\n",
       "<table border=\"1\" class=\"dataframe\">\n",
       "  <thead>\n",
       "    <tr style=\"text-align: right;\">\n",
       "      <th></th>\n",
       "      <th></th>\n",
       "      <th>correlation</th>\n",
       "      <th>p-value</th>\n",
       "    </tr>\n",
       "    <tr>\n",
       "      <th></th>\n",
       "      <th>stimulus</th>\n",
       "      <th></th>\n",
       "      <th></th>\n",
       "    </tr>\n",
       "  </thead>\n",
       "  <tbody>\n",
       "    <tr>\n",
       "      <th rowspan=\"4\" valign=\"top\">VGG16 (up to 16)</th>\n",
       "      <th>complex</th>\n",
       "      <td>0.447336</td>\n",
       "      <td>2.043038e-48</td>\n",
       "    </tr>\n",
       "    <tr>\n",
       "      <th>natural</th>\n",
       "      <td>0.422617</td>\n",
       "      <td>5.353827e-36</td>\n",
       "    </tr>\n",
       "    <tr>\n",
       "      <th>shuffled</th>\n",
       "      <td>0.604647</td>\n",
       "      <td>2.527264e-17</td>\n",
       "    </tr>\n",
       "    <tr>\n",
       "      <th>simple</th>\n",
       "      <td>0.252380</td>\n",
       "      <td>2.319659e-22</td>\n",
       "    </tr>\n",
       "    <tr>\n",
       "      <th rowspan=\"4\" valign=\"top\">ResNet50 (up to 11)</th>\n",
       "      <th>complex</th>\n",
       "      <td>0.082606</td>\n",
       "      <td>3.385512e-02</td>\n",
       "    </tr>\n",
       "    <tr>\n",
       "      <th>natural</th>\n",
       "      <td>0.671780</td>\n",
       "      <td>1.925059e-73</td>\n",
       "    </tr>\n",
       "    <tr>\n",
       "      <th>shuffled</th>\n",
       "      <td>0.725309</td>\n",
       "      <td>3.225824e-19</td>\n",
       "    </tr>\n",
       "    <tr>\n",
       "      <th>simple</th>\n",
       "      <td>0.122419</td>\n",
       "      <td>1.127009e-04</td>\n",
       "    </tr>\n",
       "    <tr>\n",
       "      <th rowspan=\"4\" valign=\"top\">InceptionV3 (up to 10)</th>\n",
       "      <th>complex</th>\n",
       "      <td>0.486563</td>\n",
       "      <td>5.526303e-37</td>\n",
       "    </tr>\n",
       "    <tr>\n",
       "      <th>natural</th>\n",
       "      <td>0.486991</td>\n",
       "      <td>3.878880e-31</td>\n",
       "    </tr>\n",
       "    <tr>\n",
       "      <th>shuffled</th>\n",
       "      <td>0.601209</td>\n",
       "      <td>3.743691e-11</td>\n",
       "    </tr>\n",
       "    <tr>\n",
       "      <th>simple</th>\n",
       "      <td>0.517061</td>\n",
       "      <td>1.117878e-62</td>\n",
       "    </tr>\n",
       "  </tbody>\n",
       "</table>\n",
       "</div>"
      ],
      "text/plain": [
       "                                 correlation       p-value\n",
       "                       stimulus                           \n",
       "VGG16 (up to 16)       complex      0.447336  2.043038e-48\n",
       "                       natural      0.422617  5.353827e-36\n",
       "                       shuffled     0.604647  2.527264e-17\n",
       "                       simple       0.252380  2.319659e-22\n",
       "ResNet50 (up to 11)    complex      0.082606  3.385512e-02\n",
       "                       natural      0.671780  1.925059e-73\n",
       "                       shuffled     0.725309  3.225824e-19\n",
       "                       simple       0.122419  1.127009e-04\n",
       "InceptionV3 (up to 10) complex      0.486563  5.526303e-37\n",
       "                       natural      0.486991  3.878880e-31\n",
       "                       shuffled     0.601209  3.743691e-11\n",
       "                       simple       0.517061  1.117878e-62"
      ]
     },
     "execution_count": 34,
     "metadata": {},
     "output_type": "execute_result"
    }
   ],
   "source": [
    "elb = {\n",
    "    'VGG16' : 16,\n",
    "    'ResNet50' : 11,\n",
    "    'InceptionV3' : 10\n",
    "}\n",
    "corrs = {}\n",
    "for k, diffn in differentiation.items():\n",
    "    df = diffn[win][sta].stack(0).swaplevel().sort_index()\n",
    "    df.index = df.index.get_level_values('stimulus').map(stimulus_categories)\n",
    "    df = df.sort_index()\n",
    "    corrs[f'{k} (up to {elb[k]})'] = df.groupby('stimulus').apply(\n",
    "        lambda d: pd.Series(sp.stats.pearsonr(\n",
    "            *d[range(elb[k])].reset_index(drop=True)\n",
    "            .unstack().reset_index('layer').values.T\n",
    "        ), index=['correlation', 'p-value'])\n",
    "    )\n",
    "pd.concat(corrs)"
   ]
  },
  {
   "cell_type": "code",
   "execution_count": 49,
   "metadata": {
    "execution": {
     "iopub.execute_input": "2021-12-10T12:17:57.904087Z",
     "iopub.status.busy": "2021-12-10T12:17:57.903143Z",
     "iopub.status.idle": "2021-12-10T12:17:57.986665Z",
     "shell.execute_reply": "2021-12-10T12:17:57.986137Z",
     "shell.execute_reply.started": "2021-12-10T12:17:57.903977Z"
    },
    "tags": []
   },
   "outputs": [
    {
     "data": {
      "text/html": [
       "<div>\n",
       "<style scoped>\n",
       "    .dataframe tbody tr th:only-of-type {\n",
       "        vertical-align: middle;\n",
       "    }\n",
       "\n",
       "    .dataframe tbody tr th {\n",
       "        vertical-align: top;\n",
       "    }\n",
       "\n",
       "    .dataframe thead th {\n",
       "        text-align: right;\n",
       "    }\n",
       "</style>\n",
       "<table border=\"1\" class=\"dataframe\">\n",
       "  <thead>\n",
       "    <tr style=\"text-align: right;\">\n",
       "      <th></th>\n",
       "      <th></th>\n",
       "      <th>correlation</th>\n",
       "      <th>p-value</th>\n",
       "    </tr>\n",
       "    <tr>\n",
       "      <th></th>\n",
       "      <th>stimulus</th>\n",
       "      <th></th>\n",
       "      <th></th>\n",
       "    </tr>\n",
       "  </thead>\n",
       "  <tbody>\n",
       "    <tr>\n",
       "      <th rowspan=\"4\" valign=\"top\">VGG16 (16 onwards)</th>\n",
       "      <th>complex</th>\n",
       "      <td>0.323536</td>\n",
       "      <td>2.982855e-07</td>\n",
       "    </tr>\n",
       "    <tr>\n",
       "      <th>natural</th>\n",
       "      <td>-0.011031</td>\n",
       "      <td>8.767979e-01</td>\n",
       "    </tr>\n",
       "    <tr>\n",
       "      <th>shuffled</th>\n",
       "      <td>0.107171</td>\n",
       "      <td>5.104004e-01</td>\n",
       "    </tr>\n",
       "    <tr>\n",
       "      <th>simple</th>\n",
       "      <td>0.021042</td>\n",
       "      <td>6.907103e-01</td>\n",
       "    </tr>\n",
       "    <tr>\n",
       "      <th rowspan=\"4\" valign=\"top\">ResNet50 (11 onwards)</th>\n",
       "      <th>complex</th>\n",
       "      <td>-0.465983</td>\n",
       "      <td>8.346108e-21</td>\n",
       "    </tr>\n",
       "    <tr>\n",
       "      <th>natural</th>\n",
       "      <td>-0.677327</td>\n",
       "      <td>1.275326e-41</td>\n",
       "    </tr>\n",
       "    <tr>\n",
       "      <th>shuffled</th>\n",
       "      <td>-0.839657</td>\n",
       "      <td>5.189094e-17</td>\n",
       "    </tr>\n",
       "    <tr>\n",
       "      <th>simple</th>\n",
       "      <td>-0.596337</td>\n",
       "      <td>2.623994e-53</td>\n",
       "    </tr>\n",
       "    <tr>\n",
       "      <th rowspan=\"4\" valign=\"top\">InceptionV3 (10 onwards)</th>\n",
       "      <th>complex</th>\n",
       "      <td>-0.674080</td>\n",
       "      <td>3.369051e-25</td>\n",
       "    </tr>\n",
       "    <tr>\n",
       "      <th>natural</th>\n",
       "      <td>-0.752189</td>\n",
       "      <td>1.341123e-28</td>\n",
       "    </tr>\n",
       "    <tr>\n",
       "      <th>shuffled</th>\n",
       "      <td>-0.944722</td>\n",
       "      <td>4.336741e-15</td>\n",
       "    </tr>\n",
       "    <tr>\n",
       "      <th>simple</th>\n",
       "      <td>-0.333435</td>\n",
       "      <td>1.965870e-08</td>\n",
       "    </tr>\n",
       "  </tbody>\n",
       "</table>\n",
       "</div>"
      ],
      "text/plain": [
       "                                   correlation       p-value\n",
       "                         stimulus                           \n",
       "VGG16 (16 onwards)       complex      0.323536  2.982855e-07\n",
       "                         natural     -0.011031  8.767979e-01\n",
       "                         shuffled     0.107171  5.104004e-01\n",
       "                         simple       0.021042  6.907103e-01\n",
       "ResNet50 (11 onwards)    complex     -0.465983  8.346108e-21\n",
       "                         natural     -0.677327  1.275326e-41\n",
       "                         shuffled    -0.839657  5.189094e-17\n",
       "                         simple      -0.596337  2.623994e-53\n",
       "InceptionV3 (10 onwards) complex     -0.674080  3.369051e-25\n",
       "                         natural     -0.752189  1.341123e-28\n",
       "                         shuffled    -0.944722  4.336741e-15\n",
       "                         simple      -0.333435  1.965870e-08"
      ]
     },
     "execution_count": 49,
     "metadata": {},
     "output_type": "execute_result"
    }
   ],
   "source": [
    "elb = {\n",
    "    'VGG16' : 16,\n",
    "    'ResNet50' : 11,\n",
    "    'InceptionV3' : 10\n",
    "}\n",
    "corrs = {}\n",
    "for k, diffn in differentiation.items():\n",
    "    df = diffn[win][sta].stack(0).swaplevel().sort_index()\n",
    "    df.index = df.index.get_level_values('stimulus').map(stimulus_categories)\n",
    "    df = df.sort_index()\n",
    "    corrs[f'{k} ({elb[k]} onwards)'] = df.groupby('stimulus').apply(\n",
    "        lambda d: pd.Series(sp.stats.pearsonr(\n",
    "            *d[range(elb[k], len(d.columns)-1)].reset_index(drop=True)\n",
    "            .unstack().reset_index('layer').values.T\n",
    "        ), index=['correlation', 'p-value'])\n",
    "    )\n",
    "pd.concat(corrs)"
   ]
  },
  {
   "cell_type": "code",
   "execution_count": null,
   "metadata": {},
   "outputs": [],
   "source": []
  }
 ],
 "metadata": {
  "kernelspec": {
   "display_name": "Differentiation",
   "language": "python",
   "name": "differentiation"
  },
  "language_info": {
   "codemirror_mode": {
    "name": "ipython",
    "version": 3
   },
   "file_extension": ".py",
   "mimetype": "text/x-python",
   "name": "python",
   "nbconvert_exporter": "python",
   "pygments_lexer": "ipython3",
   "version": "3.6.8"
  },
  "widgets": {
   "application/vnd.jupyter.widget-state+json": {
    "state": {},
    "version_major": 2,
    "version_minor": 0
   }
  }
 },
 "nbformat": 4,
 "nbformat_minor": 4
}
