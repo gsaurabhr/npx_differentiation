{
 "cells": [
  {
   "cell_type": "code",
   "execution_count": 1,
   "metadata": {
    "execution": {
     "iopub.execute_input": "2022-01-26T09:38:30.562120Z",
     "iopub.status.busy": "2022-01-26T09:38:30.561047Z",
     "iopub.status.idle": "2022-01-26T09:38:31.572880Z",
     "shell.execute_reply": "2022-01-26T09:38:31.572173Z",
     "shell.execute_reply.started": "2022-01-26T09:38:30.561997Z"
    },
    "tags": []
   },
   "outputs": [],
   "source": [
    "%load_ext autoreload\n",
    "%autoreload 2\n",
    "%matplotlib widget\n",
    "\n",
    "from os import path\n",
    "from glob import glob\n",
    "import pickle\n",
    "\n",
    "import numpy as np\n",
    "import pandas as pd\n",
    "import scipy as sp\n",
    "import seaborn as sns\n",
    "import matplotlib as mpl\n",
    "import matplotlib.pyplot as plt\n",
    "from matplotlib import cm\n",
    "from IPython.display import display\n",
    "from IPython.utils.capture import capture_output\n",
    "from tqdm.auto import tqdm\n",
    "with capture_output():\n",
    "    tqdm.pandas()\n",
    "import h5py\n",
    "\n",
    "from ipympl.backend_nbagg import Canvas\n",
    "Canvas.header_visible.default_value = False"
   ]
  },
  {
   "cell_type": "code",
   "execution_count": 2,
   "metadata": {
    "execution": {
     "iopub.execute_input": "2022-01-26T09:38:31.574237Z",
     "iopub.status.busy": "2022-01-26T09:38:31.573980Z",
     "iopub.status.idle": "2022-01-26T09:38:31.594870Z",
     "shell.execute_reply": "2022-01-26T09:38:31.594354Z",
     "shell.execute_reply.started": "2022-01-26T09:38:31.574206Z"
    },
    "tags": []
   },
   "outputs": [],
   "source": [
    "stimulus_categories = {\n",
    "    'stim_dg_90' : 'complex',\n",
    "    'stim_dgc_90' : 'simple',\n",
    "    'stim_flash_90' : 'simple',\n",
    "    'stim_gabors_90' : 'simple',\n",
    "    'stim_natural_movie_one_shuffled' : 'shuffled',\n",
    "    'natural_movies' : 'natural',\n",
    "    'stim_natural_movie_one' : 'natural',\n",
    "    'stim_natural_movie_three' : 'natural',\n",
    "    'spontaneous' : 'spontaneous',\n",
    "    'stim_sg_90' : 'complex'\n",
    "}\n",
    "\n",
    "stim_cat_colors = {\n",
    "    'spontaneous' : cm.Greys(0.8, 0.8),\n",
    "    'simple' : cm.Reds(0.8, 0.8),\n",
    "    'complex' : cm.Blues(0.8, 0.8),\n",
    "    'natural' : cm.Greens(0.8, 0.8),\n",
    "    'shuffled' : cm.Purples(0.4, 0.8)\n",
    "    \n",
    "}\n",
    "\n",
    "stim_cat_colors_bg = {\n",
    "    'spontaneous' : cm.Greys(0.5, 0.5),\n",
    "    'simple' : cm.Reds(0.5, 0.5),\n",
    "    'complex' : cm.Blues(0.5, 0.5),\n",
    "    'natural' : cm.Greens(0.5, 0.5),\n",
    "    'shuffled' : cm.Purples(0.4, 0.5)\n",
    "    \n",
    "}"
   ]
  },
  {
   "cell_type": "code",
   "execution_count": 3,
   "metadata": {
    "execution": {
     "iopub.execute_input": "2022-01-26T09:38:31.596170Z",
     "iopub.status.busy": "2022-01-26T09:38:31.595834Z",
     "iopub.status.idle": "2022-01-26T09:38:33.984102Z",
     "shell.execute_reply": "2022-01-26T09:38:33.983298Z",
     "shell.execute_reply.started": "2022-01-26T09:38:31.596066Z"
    },
    "tags": []
   },
   "outputs": [],
   "source": [
    "cnn_models = {\n",
    "    'VGG16' : '../tiny-blue-dot/differentiation/refactor/CNNs/vgg16_diffn.pkl',\n",
    "    'ResNet50' : '../tiny-blue-dot/differentiation/refactor/CNNs/resnet_diffn.pkl',\n",
    "    'InceptionV3' : '../tiny-blue-dot/differentiation/refactor/CNNs/inception_diffn.pkl'\n",
    "}\n",
    "\n",
    "differentiation = {\n",
    "    k : pd.read_pickle(cnn_models[k]) for k in cnn_models.keys()\n",
    "}\n",
    "\n",
    "# differentiation = {\n",
    "#     k : d / d.columns.get_level_values(1).map(np.sqrt) for k, d in differentiation.items()\n",
    "# }\n",
    "\n",
    "ylims = {'VGG16': (3291.9816826375727, 4367909.777423014),\n",
    " 'ResNet50': (253.73407405560303, 72457426.7240913),\n",
    " 'InceptionV3': (684.8871165012145, 10736165.239076167)}\n",
    "\n",
    "xlims = {'VGG16': (0.5244677678629754, 20.435278098806037),\n",
    " 'ResNet50': (0.49113097065560307, 17.424850357749584),\n",
    " 'InceptionV3': (0.5543381394014095, 13.442327018738055)}"
   ]
  },
  {
   "cell_type": "code",
   "execution_count": 4,
   "metadata": {
    "execution": {
     "iopub.execute_input": "2022-01-26T09:38:33.985764Z",
     "iopub.status.busy": "2022-01-26T09:38:33.985429Z",
     "iopub.status.idle": "2022-01-26T09:38:34.003884Z",
     "shell.execute_reply": "2022-01-26T09:38:34.003326Z",
     "shell.execute_reply.started": "2022-01-26T09:38:33.985724Z"
    },
    "tags": []
   },
   "outputs": [
    {
     "data": {
      "text/plain": [
       "{'figure.facecolor': 'white',\n",
       " 'axes.labelcolor': '.15',\n",
       " 'xtick.direction': 'out',\n",
       " 'ytick.direction': 'out',\n",
       " 'xtick.color': '.15',\n",
       " 'ytick.color': '.15',\n",
       " 'axes.axisbelow': True,\n",
       " 'grid.linestyle': '-',\n",
       " 'text.color': '.15',\n",
       " 'font.family': ['sans-serif'],\n",
       " 'font.sans-serif': ['Arial',\n",
       "  'DejaVu Sans',\n",
       "  'Liberation Sans',\n",
       "  'Bitstream Vera Sans',\n",
       "  'sans-serif'],\n",
       " 'lines.solid_capstyle': 'round',\n",
       " 'patch.edgecolor': 'w',\n",
       " 'patch.force_edgecolor': True,\n",
       " 'image.cmap': 'rocket',\n",
       " 'xtick.top': False,\n",
       " 'ytick.right': False,\n",
       " 'axes.grid': True,\n",
       " 'axes.facecolor': 'white',\n",
       " 'axes.edgecolor': '.8',\n",
       " 'grid.color': '.8',\n",
       " 'axes.spines.left': True,\n",
       " 'axes.spines.bottom': True,\n",
       " 'axes.spines.right': True,\n",
       " 'axes.spines.top': True,\n",
       " 'xtick.bottom': False,\n",
       " 'ytick.left': False}"
      ]
     },
     "execution_count": 4,
     "metadata": {},
     "output_type": "execute_result"
    }
   ],
   "source": [
    "sns.axes_style('whitegrid')"
   ]
  },
  {
   "cell_type": "code",
   "execution_count": 5,
   "metadata": {
    "execution": {
     "iopub.execute_input": "2022-01-26T09:38:34.005353Z",
     "iopub.status.busy": "2022-01-26T09:38:34.005047Z",
     "iopub.status.idle": "2022-01-26T09:38:36.448415Z",
     "shell.execute_reply": "2022-01-26T09:38:36.447821Z",
     "shell.execute_reply.started": "2022-01-26T09:38:34.005325Z"
    },
    "tags": []
   },
   "outputs": [
    {
     "data": {
      "application/vnd.jupyter.widget-view+json": {
       "model_id": "74bdeacf9acb41e6a32ef8af33208d58",
       "version_major": 2,
       "version_minor": 0
      },
      "text/plain": [
       "Canvas(toolbar=Toolbar(toolitems=[('Home', 'Reset original view', 'home', 'home'), ('Back', 'Back to previous …"
      ]
     },
     "metadata": {},
     "output_type": "display_data"
    }
   ],
   "source": [
    "win, sta = 3, 0.1\n",
    "\n",
    "with sns.axes_style('whitegrid', rc={'axes.grid': False}):\n",
    "    f, axes = plt.subplots(3, 1, figsize=(8, 5), tight_layout=True)\n",
    "\n",
    "for ax, (k, diffn) in zip(axes, differentiation.items()):\n",
    "    _df = diffn[win][sta].melt().dropna()\n",
    "    _df = _df[_df.value>1]\n",
    "    _df['stimulus_categories'] = _df.stimulus.map(stimulus_categories)\n",
    "#     _df.head()\n",
    "\n",
    "    flierprops = dict(markerfacecolor=cm.Greys(0.5, 0.5), markeredgecolor='none')\n",
    "\n",
    "    sns.boxplot(\n",
    "        x='layer', y='value', hue='stimulus_categories', data=_df,\n",
    "        ax=ax, fliersize=0.2, linewidth=0.2, whis=1.5,\n",
    "        palette=stim_cat_colors_bg, width=0.8,\n",
    "        flierprops=flierprops, showfliers=False\n",
    "    )\n",
    "    ax.set_xlim(xlims[k])\n",
    "    ax.set_ylim(ylims[k])\n",
    "    ax.legend().set_visible(False)\n",
    "    ax.set_ylabel(f'{k}\\ndifferentiation')\n",
    "    ax.set_yscale('log')\n",
    "    ax.set_xlabel('')\n",
    "    ax.set_xticks([])\n",
    "    sns.despine(ax=ax)\n",
    "ax.set_xlabel('CNN layer hierarchy')\n",
    "axes[0].legend(ncol=4, fontsize=8, frameon=False);\n",
    "f.savefig('fig_cnn_differentiation.pdf')"
   ]
  },
  {
   "cell_type": "code",
   "execution_count": 6,
   "metadata": {
    "execution": {
     "iopub.execute_input": "2022-01-26T09:38:36.449699Z",
     "iopub.status.busy": "2022-01-26T09:38:36.449399Z",
     "iopub.status.idle": "2022-01-26T09:38:36.466054Z",
     "shell.execute_reply": "2022-01-26T09:38:36.464916Z",
     "shell.execute_reply.started": "2022-01-26T09:38:36.449672Z"
    },
    "tags": []
   },
   "outputs": [
    {
     "data": {
      "text/plain": [
       "{'VGG16': (3291.9816826375727, 4367909.777423014),\n",
       " 'ResNet50': (253.73407405560303, 72457426.7240913),\n",
       " 'InceptionV3': (684.8871165012145, 10736165.239076167)}"
      ]
     },
     "execution_count": 6,
     "metadata": {},
     "output_type": "execute_result"
    }
   ],
   "source": [
    "ylims = {}\n",
    "for ax, k in zip(axes, differentiation.keys()):\n",
    "    ylims[k] = ax.get_ylim()\n",
    "ylims"
   ]
  },
  {
   "cell_type": "code",
   "execution_count": 7,
   "metadata": {
    "execution": {
     "iopub.execute_input": "2022-01-26T09:38:36.467264Z",
     "iopub.status.busy": "2022-01-26T09:38:36.467005Z",
     "iopub.status.idle": "2022-01-26T09:38:36.484890Z",
     "shell.execute_reply": "2022-01-26T09:38:36.484167Z",
     "shell.execute_reply.started": "2022-01-26T09:38:36.467231Z"
    },
    "tags": []
   },
   "outputs": [
    {
     "data": {
      "text/plain": [
       "{'VGG16': (0.5244677678629754, 20.435278098806037),\n",
       " 'ResNet50': (0.49113097065560307, 17.424850357749584),\n",
       " 'InceptionV3': (0.5543381394014095, 13.442327018738055)}"
      ]
     },
     "execution_count": 7,
     "metadata": {},
     "output_type": "execute_result"
    }
   ],
   "source": [
    "xlims = {}\n",
    "for ax, k in zip(axes, differentiation.keys()):\n",
    "    xlims[k] = ax.get_xlim()\n",
    "xlims"
   ]
  },
  {
   "cell_type": "markdown",
   "metadata": {},
   "source": [
    "# Statistical tests for trends"
   ]
  },
  {
   "cell_type": "code",
   "execution_count": 8,
   "metadata": {
    "execution": {
     "iopub.execute_input": "2022-01-26T09:38:52.564928Z",
     "iopub.status.busy": "2022-01-26T09:38:52.563967Z",
     "iopub.status.idle": "2022-01-26T09:38:52.582191Z",
     "shell.execute_reply": "2022-01-26T09:38:52.581609Z",
     "shell.execute_reply.started": "2022-01-26T09:38:52.564816Z"
    }
   },
   "outputs": [],
   "source": [
    "def pearsonr_ci(x,y,alpha=0.05):\n",
    "    ''' calculate Pearson correlation along with the confidence interval using scipy and numpy\n",
    "    See https://zhiyzuo.github.io/Pearson-Correlation-CI-in-Python for reference\n",
    "    Parameters\n",
    "    ----------\n",
    "    x, y : iterable object such as a list or np.array\n",
    "      Input for correlation calculation\n",
    "    alpha : float\n",
    "      Significance level. 0.05 by default\n",
    "    Returns\n",
    "    -------\n",
    "    r : float\n",
    "      Pearson's correlation coefficient\n",
    "    pval : float\n",
    "      The corresponding p value\n",
    "    lo, hi : float\n",
    "      The lower and upper bound of confidence intervals\n",
    "    '''\n",
    "\n",
    "    r, p = sp.stats.pearsonr(x,y)\n",
    "    r_z = np.arctanh(r)\n",
    "    se = 1/np.sqrt(len(x)-3)\n",
    "    z = sp.stats.norm.ppf(1-alpha/2)\n",
    "    lo_z, hi_z = r_z-z*se, r_z+z*se\n",
    "    lo, hi = np.tanh((lo_z, hi_z))\n",
    "    return dict(r=r, p=p, ci_low=lo, ci_high=hi)"
   ]
  },
  {
   "cell_type": "code",
   "execution_count": 13,
   "metadata": {
    "execution": {
     "iopub.execute_input": "2022-01-26T09:44:06.555547Z",
     "iopub.status.busy": "2022-01-26T09:44:06.555160Z",
     "iopub.status.idle": "2022-01-26T09:44:06.637180Z",
     "shell.execute_reply": "2022-01-26T09:44:06.636613Z",
     "shell.execute_reply.started": "2022-01-26T09:44:06.555515Z"
    },
    "tags": []
   },
   "outputs": [
    {
     "data": {
      "text/html": [
       "<div>\n",
       "<style scoped>\n",
       "    .dataframe tbody tr th:only-of-type {\n",
       "        vertical-align: middle;\n",
       "    }\n",
       "\n",
       "    .dataframe tbody tr th {\n",
       "        vertical-align: top;\n",
       "    }\n",
       "\n",
       "    .dataframe thead th {\n",
       "        text-align: right;\n",
       "    }\n",
       "</style>\n",
       "<table border=\"1\" class=\"dataframe\">\n",
       "  <thead>\n",
       "    <tr style=\"text-align: right;\">\n",
       "      <th></th>\n",
       "      <th></th>\n",
       "      <th>r</th>\n",
       "      <th>p</th>\n",
       "      <th>ci_low</th>\n",
       "      <th>ci_high</th>\n",
       "    </tr>\n",
       "    <tr>\n",
       "      <th></th>\n",
       "      <th>stimulus</th>\n",
       "      <th></th>\n",
       "      <th></th>\n",
       "      <th></th>\n",
       "      <th></th>\n",
       "    </tr>\n",
       "  </thead>\n",
       "  <tbody>\n",
       "    <tr>\n",
       "      <th rowspan=\"4\" valign=\"top\">VGG16 (up to 16)</th>\n",
       "      <th>complex</th>\n",
       "      <td>0.45</td>\n",
       "      <td>2.04e-48</td>\n",
       "      <td>3.95e-01</td>\n",
       "      <td>0.50</td>\n",
       "    </tr>\n",
       "    <tr>\n",
       "      <th>natural</th>\n",
       "      <td>0.42</td>\n",
       "      <td>5.35e-36</td>\n",
       "      <td>3.64e-01</td>\n",
       "      <td>0.48</td>\n",
       "    </tr>\n",
       "    <tr>\n",
       "      <th>shuffled</th>\n",
       "      <td>0.60</td>\n",
       "      <td>2.53e-17</td>\n",
       "      <td>4.96e-01</td>\n",
       "      <td>0.69</td>\n",
       "    </tr>\n",
       "    <tr>\n",
       "      <th>simple</th>\n",
       "      <td>0.25</td>\n",
       "      <td>2.32e-22</td>\n",
       "      <td>2.03e-01</td>\n",
       "      <td>0.30</td>\n",
       "    </tr>\n",
       "    <tr>\n",
       "      <th rowspan=\"4\" valign=\"top\">ResNet50 (up to 11)</th>\n",
       "      <th>complex</th>\n",
       "      <td>0.08</td>\n",
       "      <td>3.39e-02</td>\n",
       "      <td>6.33e-03</td>\n",
       "      <td>0.16</td>\n",
       "    </tr>\n",
       "    <tr>\n",
       "      <th>natural</th>\n",
       "      <td>0.67</td>\n",
       "      <td>1.93e-73</td>\n",
       "      <td>6.23e-01</td>\n",
       "      <td>0.72</td>\n",
       "    </tr>\n",
       "    <tr>\n",
       "      <th>shuffled</th>\n",
       "      <td>0.73</td>\n",
       "      <td>3.23e-19</td>\n",
       "      <td>6.23e-01</td>\n",
       "      <td>0.80</td>\n",
       "    </tr>\n",
       "    <tr>\n",
       "      <th>simple</th>\n",
       "      <td>0.12</td>\n",
       "      <td>1.13e-04</td>\n",
       "      <td>6.06e-02</td>\n",
       "      <td>0.18</td>\n",
       "    </tr>\n",
       "    <tr>\n",
       "      <th rowspan=\"4\" valign=\"top\">InceptionV3 (up to 10)</th>\n",
       "      <th>complex</th>\n",
       "      <td>0.49</td>\n",
       "      <td>5.53e-37</td>\n",
       "      <td>4.23e-01</td>\n",
       "      <td>0.55</td>\n",
       "    </tr>\n",
       "    <tr>\n",
       "      <th>natural</th>\n",
       "      <td>0.49</td>\n",
       "      <td>3.88e-31</td>\n",
       "      <td>4.17e-01</td>\n",
       "      <td>0.55</td>\n",
       "    </tr>\n",
       "    <tr>\n",
       "      <th>shuffled</th>\n",
       "      <td>0.60</td>\n",
       "      <td>3.74e-11</td>\n",
       "      <td>4.59e-01</td>\n",
       "      <td>0.71</td>\n",
       "    </tr>\n",
       "    <tr>\n",
       "      <th>simple</th>\n",
       "      <td>0.52</td>\n",
       "      <td>1.12e-62</td>\n",
       "      <td>4.68e-01</td>\n",
       "      <td>0.56</td>\n",
       "    </tr>\n",
       "  </tbody>\n",
       "</table>\n",
       "</div>"
      ],
      "text/plain": [
       "                                    r         p    ci_low  ci_high\n",
       "                       stimulus                                   \n",
       "VGG16 (up to 16)       complex   0.45  2.04e-48  3.95e-01     0.50\n",
       "                       natural   0.42  5.35e-36  3.64e-01     0.48\n",
       "                       shuffled  0.60  2.53e-17  4.96e-01     0.69\n",
       "                       simple    0.25  2.32e-22  2.03e-01     0.30\n",
       "ResNet50 (up to 11)    complex   0.08  3.39e-02  6.33e-03     0.16\n",
       "                       natural   0.67  1.93e-73  6.23e-01     0.72\n",
       "                       shuffled  0.73  3.23e-19  6.23e-01     0.80\n",
       "                       simple    0.12  1.13e-04  6.06e-02     0.18\n",
       "InceptionV3 (up to 10) complex   0.49  5.53e-37  4.23e-01     0.55\n",
       "                       natural   0.49  3.88e-31  4.17e-01     0.55\n",
       "                       shuffled  0.60  3.74e-11  4.59e-01     0.71\n",
       "                       simple    0.52  1.12e-62  4.68e-01     0.56"
      ]
     },
     "metadata": {},
     "output_type": "display_data"
    }
   ],
   "source": [
    "elb = {\n",
    "    'VGG16' : 16,\n",
    "    'ResNet50' : 11,\n",
    "    'InceptionV3' : 10\n",
    "}\n",
    "corrs = {}\n",
    "for k, diffn in differentiation.items():\n",
    "    df = diffn[win][sta].stack(0).swaplevel().sort_index()\n",
    "    df.index = df.index.get_level_values('stimulus').map(stimulus_categories)\n",
    "    df = df.sort_index()\n",
    "    corrs[f'{k} (up to {elb[k]})'] = df.groupby('stimulus').apply(\n",
    "        lambda d: pd.Series(\n",
    "            pearsonr_ci(\n",
    "                *d[range(elb[k])].reset_index(drop=True)\n",
    "                .unstack().reset_index('layer').values.T\n",
    "            )\n",
    "#             sp.stats.pearsonr(\n",
    "#                 *d[range(elb[k])].reset_index(drop=True)\n",
    "#                 .unstack().reset_index('layer').values.T\n",
    "#             ), index=['correlation', 'p-value']\n",
    "        )\n",
    "    )\n",
    "pd.set_option(\"display.precision\", 2)\n",
    "display(pd.concat(corrs))\n",
    "pd.set_option(\"display.precision\", 8)"
   ]
  },
  {
   "cell_type": "code",
   "execution_count": 14,
   "metadata": {
    "execution": {
     "iopub.execute_input": "2022-01-26T09:44:11.832486Z",
     "iopub.status.busy": "2022-01-26T09:44:11.831521Z",
     "iopub.status.idle": "2022-01-26T09:44:11.916388Z",
     "shell.execute_reply": "2022-01-26T09:44:11.915752Z",
     "shell.execute_reply.started": "2022-01-26T09:44:11.832375Z"
    },
    "tags": []
   },
   "outputs": [
    {
     "data": {
      "text/html": [
       "<div>\n",
       "<style scoped>\n",
       "    .dataframe tbody tr th:only-of-type {\n",
       "        vertical-align: middle;\n",
       "    }\n",
       "\n",
       "    .dataframe tbody tr th {\n",
       "        vertical-align: top;\n",
       "    }\n",
       "\n",
       "    .dataframe thead th {\n",
       "        text-align: right;\n",
       "    }\n",
       "</style>\n",
       "<table border=\"1\" class=\"dataframe\">\n",
       "  <thead>\n",
       "    <tr style=\"text-align: right;\">\n",
       "      <th></th>\n",
       "      <th></th>\n",
       "      <th>r</th>\n",
       "      <th>p</th>\n",
       "      <th>ci_low</th>\n",
       "      <th>ci_high</th>\n",
       "    </tr>\n",
       "    <tr>\n",
       "      <th></th>\n",
       "      <th>stimulus</th>\n",
       "      <th></th>\n",
       "      <th></th>\n",
       "      <th></th>\n",
       "      <th></th>\n",
       "    </tr>\n",
       "  </thead>\n",
       "  <tbody>\n",
       "    <tr>\n",
       "      <th rowspan=\"4\" valign=\"top\">VGG16 (16 onwards)</th>\n",
       "      <th>complex</th>\n",
       "      <td>0.32</td>\n",
       "      <td>2.98e-07</td>\n",
       "      <td>0.21</td>\n",
       "      <td>0.43</td>\n",
       "    </tr>\n",
       "    <tr>\n",
       "      <th>natural</th>\n",
       "      <td>-0.01</td>\n",
       "      <td>8.77e-01</td>\n",
       "      <td>-0.15</td>\n",
       "      <td>0.13</td>\n",
       "    </tr>\n",
       "    <tr>\n",
       "      <th>shuffled</th>\n",
       "      <td>0.11</td>\n",
       "      <td>5.10e-01</td>\n",
       "      <td>-0.21</td>\n",
       "      <td>0.41</td>\n",
       "    </tr>\n",
       "    <tr>\n",
       "      <th>simple</th>\n",
       "      <td>0.02</td>\n",
       "      <td>6.91e-01</td>\n",
       "      <td>-0.08</td>\n",
       "      <td>0.12</td>\n",
       "    </tr>\n",
       "    <tr>\n",
       "      <th rowspan=\"4\" valign=\"top\">ResNet50 (11 onwards)</th>\n",
       "      <th>complex</th>\n",
       "      <td>-0.47</td>\n",
       "      <td>8.35e-21</td>\n",
       "      <td>-0.54</td>\n",
       "      <td>-0.38</td>\n",
       "    </tr>\n",
       "    <tr>\n",
       "      <th>natural</th>\n",
       "      <td>-0.68</td>\n",
       "      <td>1.28e-41</td>\n",
       "      <td>-0.73</td>\n",
       "      <td>-0.61</td>\n",
       "    </tr>\n",
       "    <tr>\n",
       "      <th>shuffled</th>\n",
       "      <td>-0.84</td>\n",
       "      <td>5.19e-17</td>\n",
       "      <td>-0.90</td>\n",
       "      <td>-0.74</td>\n",
       "    </tr>\n",
       "    <tr>\n",
       "      <th>simple</th>\n",
       "      <td>-0.60</td>\n",
       "      <td>2.62e-53</td>\n",
       "      <td>-0.65</td>\n",
       "      <td>-0.54</td>\n",
       "    </tr>\n",
       "    <tr>\n",
       "      <th rowspan=\"4\" valign=\"top\">InceptionV3 (10 onwards)</th>\n",
       "      <th>complex</th>\n",
       "      <td>-0.67</td>\n",
       "      <td>3.37e-25</td>\n",
       "      <td>-0.75</td>\n",
       "      <td>-0.59</td>\n",
       "    </tr>\n",
       "    <tr>\n",
       "      <th>natural</th>\n",
       "      <td>-0.75</td>\n",
       "      <td>1.34e-28</td>\n",
       "      <td>-0.81</td>\n",
       "      <td>-0.67</td>\n",
       "    </tr>\n",
       "    <tr>\n",
       "      <th>shuffled</th>\n",
       "      <td>-0.94</td>\n",
       "      <td>4.34e-15</td>\n",
       "      <td>-0.97</td>\n",
       "      <td>-0.89</td>\n",
       "    </tr>\n",
       "    <tr>\n",
       "      <th>simple</th>\n",
       "      <td>-0.33</td>\n",
       "      <td>1.97e-08</td>\n",
       "      <td>-0.44</td>\n",
       "      <td>-0.22</td>\n",
       "    </tr>\n",
       "  </tbody>\n",
       "</table>\n",
       "</div>"
      ],
      "text/plain": [
       "                                      r         p  ci_low  ci_high\n",
       "                         stimulus                                 \n",
       "VGG16 (16 onwards)       complex   0.32  2.98e-07    0.21     0.43\n",
       "                         natural  -0.01  8.77e-01   -0.15     0.13\n",
       "                         shuffled  0.11  5.10e-01   -0.21     0.41\n",
       "                         simple    0.02  6.91e-01   -0.08     0.12\n",
       "ResNet50 (11 onwards)    complex  -0.47  8.35e-21   -0.54    -0.38\n",
       "                         natural  -0.68  1.28e-41   -0.73    -0.61\n",
       "                         shuffled -0.84  5.19e-17   -0.90    -0.74\n",
       "                         simple   -0.60  2.62e-53   -0.65    -0.54\n",
       "InceptionV3 (10 onwards) complex  -0.67  3.37e-25   -0.75    -0.59\n",
       "                         natural  -0.75  1.34e-28   -0.81    -0.67\n",
       "                         shuffled -0.94  4.34e-15   -0.97    -0.89\n",
       "                         simple   -0.33  1.97e-08   -0.44    -0.22"
      ]
     },
     "metadata": {},
     "output_type": "display_data"
    }
   ],
   "source": [
    "elb = {\n",
    "    'VGG16' : 16,\n",
    "    'ResNet50' : 11,\n",
    "    'InceptionV3' : 10\n",
    "}\n",
    "corrs = {}\n",
    "for k, diffn in differentiation.items():\n",
    "    df = diffn[win][sta].stack(0).swaplevel().sort_index()\n",
    "    df.index = df.index.get_level_values('stimulus').map(stimulus_categories)\n",
    "    df = df.sort_index()\n",
    "    corrs[f'{k} ({elb[k]} onwards)'] = df.groupby('stimulus').apply(\n",
    "        lambda d: pd.Series(\n",
    "            pearsonr_ci(\n",
    "                *d[range(elb[k], len(d.columns)-1)].reset_index(drop=True)\n",
    "                .unstack().reset_index('layer').values.T\n",
    "            )\n",
    "#             sp.stats.pearsonr(\n",
    "#                 *d[range(elb[k], len(d.columns)-1)].reset_index(drop=True)\n",
    "#                 .unstack().reset_index('layer').values.T\n",
    "#             ), index=['correlation', 'p-value']\n",
    "        )\n",
    "    )\n",
    "pd.set_option(\"display.precision\", 2)\n",
    "display(pd.concat(corrs))\n",
    "pd.set_option(\"display.precision\", 8)"
   ]
  },
  {
   "cell_type": "code",
   "execution_count": null,
   "metadata": {},
   "outputs": [],
   "source": []
  }
 ],
 "metadata": {
  "kernelspec": {
   "display_name": "Differentiation",
   "language": "python",
   "name": "differentiation"
  },
  "language_info": {
   "codemirror_mode": {
    "name": "ipython",
    "version": 3
   },
   "file_extension": ".py",
   "mimetype": "text/x-python",
   "name": "python",
   "nbconvert_exporter": "python",
   "pygments_lexer": "ipython3",
   "version": "3.6.8"
  },
  "widgets": {
   "application/vnd.jupyter.widget-state+json": {
    "state": {},
    "version_major": 2,
    "version_minor": 0
   }
  }
 },
 "nbformat": 4,
 "nbformat_minor": 4
}
