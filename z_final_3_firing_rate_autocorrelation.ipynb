{
 "cells": [
  {
   "cell_type": "markdown",
   "metadata": {},
   "source": [
    "In this notebook, we will compute the autocorrelation "
   ]
  },
  {
   "cell_type": "code",
   "execution_count": 1,
   "metadata": {
    "execution": {
     "iopub.execute_input": "2021-11-29T07:41:21.146966Z",
     "iopub.status.busy": "2021-11-29T07:41:21.145900Z",
     "iopub.status.idle": "2021-11-29T07:41:21.471222Z",
     "shell.execute_reply": "2021-11-29T07:41:21.470664Z",
     "shell.execute_reply.started": "2021-11-29T07:41:21.146839Z"
    },
    "tags": []
   },
   "outputs": [],
   "source": [
    "%load_ext autoreload\n",
    "%autoreload 2\n",
    "%matplotlib widget"
   ]
  },
  {
   "cell_type": "code",
   "execution_count": 2,
   "metadata": {
    "execution": {
     "iopub.execute_input": "2021-11-29T07:41:21.472558Z",
     "iopub.status.busy": "2021-11-29T07:41:21.472240Z",
     "iopub.status.idle": "2021-11-29T07:41:21.910165Z",
     "shell.execute_reply": "2021-11-29T07:41:21.909578Z",
     "shell.execute_reply.started": "2021-11-29T07:41:21.472529Z"
    },
    "tags": []
   },
   "outputs": [],
   "source": [
    "import os\n",
    "from os import path\n",
    "import itertools\n",
    "import pickle\n",
    "\n",
    "import numpy as np\n",
    "import pandas as pd\n",
    "import scipy as sp\n",
    "from scipy import signal\n",
    "from tqdm.auto import tqdm\n",
    "import matplotlib as mpl\n",
    "import matplotlib.pyplot as plt\n",
    "from matplotlib import cm\n",
    "import seaborn as sns\n",
    "from glob import glob\n",
    "from pandarallel import pandarallel\n",
    "\n",
    "from IPython.utils.capture import capture_output\n",
    "with capture_output():\n",
    "    tqdm.pandas()\n",
    "    pandarallel.initialize(nb_workers=6)\n",
    "\n",
    "from ipympl.backend_nbagg import Canvas\n",
    "Canvas.header_visible.default_value = False\n",
    "\n",
    "from differentiation import spectral_differentiation as specD"
   ]
  },
  {
   "cell_type": "code",
   "execution_count": 3,
   "metadata": {
    "execution": {
     "iopub.execute_input": "2021-11-29T07:41:21.911543Z",
     "iopub.status.busy": "2021-11-29T07:41:21.911267Z",
     "iopub.status.idle": "2021-11-29T07:41:21.937282Z",
     "shell.execute_reply": "2021-11-29T07:41:21.936731Z",
     "shell.execute_reply.started": "2021-11-29T07:41:21.911476Z"
    },
    "tags": []
   },
   "outputs": [],
   "source": [
    "region_sets = {\n",
    "    'VisCtx' : ['VISp', 'VISl', 'VISrl', 'VISal', 'VISpm', 'VISam'],\n",
    "    'HVAs' : ['VISl', 'VISrl', 'VISal', 'VISpm', 'VISam'],\n",
    "    'AllVis' : [\n",
    "        'LGd', 'LP', 'TH', 'VISp', 'VISl', 'VISrl', 'VISal', 'VISpm', 'VISam'\n",
    "    ],\n",
    "    'THx' : ['LGd', 'LP', 'TH'],\n",
    "    'hipp' : ['CA', 'CA1', 'CA2', 'CA3', 'DG', 'DG-mo', 'DG-po', 'DG-sg'],\n",
    "}\n",
    "\n",
    "stim_colors_bg = {\n",
    "    'spontaneous' : cm.Greys(0.3, 0.3),\n",
    "    'gabors' : cm.Reds(0.7, 0.3),\n",
    "    'flashes' : cm.Reds(0.3, 0.3),\n",
    "    'drifting_gratings' : cm.Blues(0.8, 0.3),\n",
    "    'drifting_gratings_contrast' : cm.Blues(0.99, 0.3),\n",
    "    'static_gratings' : cm.Blues(0.5, 0.3),\n",
    "    'natural_movie_three' : cm.Greens(0.9, 0.3),\n",
    "    'natural_movie_one' : cm.Greens(0.6, 0.3),\n",
    "    'natural_movie_one_shuffled' : cm.Purples(0.6, 0.1),\n",
    "    'Spontaneous' : cm.Greys(0.6, 0.3),\n",
    "    'Artificial (simple)' : cm.Reds(0.6, 0.3),\n",
    "    'Artificial (complex)' : cm.Blues(0.8, 0.3),\n",
    "    'Natural' : cm.Greens(0.8, 0.3),\n",
    "}\n",
    "\n",
    "data_directory = (\n",
    "    '/allen/programs/braintv/workgroups/'\n",
    "    'tiny-blue-dot/differentiation/refactor/data'\n",
    ")\n",
    "\n",
    "session_ids = [\n",
    "    path.basename(x)\n",
    "    .strip('.pkl')\n",
    "    .strip('fr_') for x in glob(\n",
    "        path.join(data_directory, 'fr_*')\n",
    "    )\n",
    "]"
   ]
  },
  {
   "cell_type": "code",
   "execution_count": 4,
   "metadata": {
    "execution": {
     "iopub.execute_input": "2021-11-29T07:41:21.938570Z",
     "iopub.status.busy": "2021-11-29T07:41:21.938349Z",
     "iopub.status.idle": "2021-11-29T07:41:21.959091Z",
     "shell.execute_reply": "2021-11-29T07:41:21.958529Z",
     "shell.execute_reply.started": "2021-11-29T07:41:21.938543Z"
    },
    "tags": []
   },
   "outputs": [],
   "source": [
    "def load_fr(session):\n",
    "    return pd.read_pickle(\n",
    "        path.join(data_directory, f'fr_{session}.pkl')\n",
    "    )\n",
    "\n",
    "def load_units(session):\n",
    "    return pd.read_pickle(\n",
    "        path.join(data_directory, f'units_{session}.pkl')\n",
    "    )\n",
    "\n",
    "def load_stimulus_table(session):\n",
    "    return pd.read_pickle(\n",
    "        path.join(data_directory, f'stimulus_{session}.pkl')\n",
    "    )\n",
    "\n",
    "def get_autocorr(arr):\n",
    "    arr = arr - arr.mean()\n",
    "    x = np.correlate(arr, arr, mode='full')\n",
    "    x = x[x.size//2:]/x.max()\n",
    "    return x\n",
    "\n",
    "def ln_exp_fit(x, t1, t2, a, c):\n",
    "    res = np.zeros(len(x))\n",
    "    res[x<c] = -a - x[x<c]/t1\n",
    "    res[x>=c] = (x-c)[x>=c]/t2 + (-a-c/t1)\n",
    "    return res\n",
    "\n",
    "def exp_fn(x, t, s):\n",
    "    return s*np.exp(-x/t)\n",
    "\n",
    "def fit_exp(sig, sr=200):\n",
    "    x = np.arange(len(sig))/sr\n",
    "    t, s = sp.optimize.curve_fit(exp_fn, x, sig)[0]\n",
    "    return t, s\n",
    "\n",
    "def fit_ac_timescale(ac, sampling_rate=200, thresh=5e-3, lim=40):\n",
    "    ac = ac[:sampling_rate*2]\n",
    "    ac2 = ac[1:lim][ac[1:lim]>thresh]\n",
    "    _x = np.linspace(0, 2, sampling_rate*2, False)[1:lim][ac[1:lim]>thresh]\n",
    "    res = sp.optimize.curve_fit(\n",
    "        ln_exp_fit, _x, np.log(ac2),\n",
    "        bounds=([0, 0.5, -10, 0.03], [1.5, 20, 10, 0.7])\n",
    "    )\n",
    "    return res"
   ]
  },
  {
   "cell_type": "code",
   "execution_count": 18,
   "metadata": {
    "execution": {
     "iopub.execute_input": "2021-11-29T07:44:57.222570Z",
     "iopub.status.busy": "2021-11-29T07:44:57.221257Z",
     "iopub.status.idle": "2021-11-29T07:44:57.249637Z",
     "shell.execute_reply": "2021-11-29T07:44:57.249094Z",
     "shell.execute_reply.started": "2021-11-29T07:44:57.222453Z"
    },
    "tags": []
   },
   "outputs": [],
   "source": [
    "def apply_ac_time_fitting(\n",
    "    c, sampling_rate=200, thresh=5e-3, lim=200, ax=None\n",
    "):\n",
    "    with capture_output():\n",
    "        try:\n",
    "            ac = get_autocorr(c)\n",
    "            ac = ac[:sampling_rate*2]\n",
    "            ac2 = ac[1:lim][ac[1:lim]>thresh]\n",
    "            _x = np.linspace(\n",
    "                0, 2, sampling_rate*2, False\n",
    "            )[1:lim][ac[1:lim]>thresh]\n",
    "            t1, t2, a, c = sp.optimize.curve_fit(\n",
    "                ln_exp_fit, _x, np.log(ac2),\n",
    "                bounds=(\n",
    "                    [0, 0.5, -10, 0.03],\n",
    "                    [1.5, 20, 10, 0.7]\n",
    "                )\n",
    "            )[0]\n",
    "            \n",
    "            if ax is not None:\n",
    "                ax.plot(_x, ac2, label='autocorrelation')\n",
    "                ax.plot(\n",
    "                    _x, np.exp(ln_exp_fit(_x, t1, t2, a, c)),\n",
    "                    label='fit'\n",
    "                )\n",
    "                ax.set_xlabel('time (s)', fontsize=9)\n",
    "                ax.set_ylabel('autocorrelation', fontsize=9)\n",
    "            \n",
    "            if (_x<c).sum() < 8:\n",
    "                return np.nan\n",
    "            return t1\n",
    "        except:\n",
    "            return np.nan\n",
    "\n",
    "# def apply_ac_time_fitting_stimulus(\n",
    "#     c, sampling_rate=200, thresh=5e-3, lim=200, ax=None\n",
    "# ):\n",
    "#     with capture_output():\n",
    "#         try:\n",
    "#             ac = get_autocorr(c)\n",
    "#             ac = ac[:sampling_rate*2]\n",
    "#             ac2 = ac[1:lim][ac[1:lim]>thresh]\n",
    "#             _x = np.linspace(\n",
    "#                 0, 10, sampling_rate*10, False\n",
    "#             )[1:lim][ac[1:lim]>thresh]\n",
    "#             t1, t2, a, c = sp.optimize.curve_fit(\n",
    "#                 ln_exp_fit, _x, ac2,\n",
    "#                 bounds=(\n",
    "#                     [0.1, 0.5, -1, 0.03],\n",
    "#                     [1.5, 20, 0, 1]\n",
    "#                 )\n",
    "#             )[0]\n",
    "            \n",
    "#             if ax is not None:\n",
    "#                 ax.plot(_x, ac2, label='autocorrelation')\n",
    "#                 ax.plot(\n",
    "#                     _x, ln_exp_fit(_x, t1, t2, a, c),\n",
    "#                     label='fit'\n",
    "#                 )\n",
    "#                 ax.set_xlabel('time (s)', fontsize=9)\n",
    "#                 ax.set_ylabel('autocorrelation', fontsize=9)\n",
    "            \n",
    "#             if (_x<c).sum() < 8:\n",
    "#                 return np.nan\n",
    "#             return -t1*a\n",
    "#         except:\n",
    "#             return np.nan"
   ]
  },
  {
   "cell_type": "markdown",
   "metadata": {},
   "source": [
    "# Apply to stimulus data"
   ]
  },
  {
   "cell_type": "code",
   "execution_count": 6,
   "metadata": {
    "execution": {
     "iopub.execute_input": "2021-11-29T07:41:29.354122Z",
     "iopub.status.busy": "2021-11-29T07:41:29.353062Z",
     "iopub.status.idle": "2021-11-29T07:41:29.371028Z",
     "shell.execute_reply": "2021-11-29T07:41:29.370513Z",
     "shell.execute_reply.started": "2021-11-29T07:41:29.353999Z"
    },
    "tags": []
   },
   "outputs": [],
   "source": [
    "stimulus_directory = (\n",
    "    '/allen/programs/braintv/workgroups/'\n",
    "    'tiny-blue-dot/differentiation/refactor/stimuli'\n",
    ")\n",
    "filenames = {\n",
    "    'flashes' : 'stim_flash_90',\n",
    "    'gabors' : 'stim_gabors_90',\n",
    "    'drifting_gratings' : 'stim_dg_90',\n",
    "    'drifting_gratings_contrast' : 'stim_dgc_90',\n",
    "    'static_gratings' : 'stim_sg_90',\n",
    "    'natural_movie_one' : 'stim_natural_movie_one',\n",
    "    'natural_movie_one_shuffled' : 'stim_natural_movie_one_shuffled',\n",
    "    'natural_movie_three' : 'stim_natural_movie_three'\n",
    "}"
   ]
  },
  {
   "cell_type": "markdown",
   "metadata": {
    "heading_collapsed": "true",
    "tags": []
   },
   "source": [
    "## Standard method - get AC(t) and fit to exponential decay"
   ]
  },
  {
   "cell_type": "code",
   "execution_count": 49,
   "metadata": {
    "execution": {
     "iopub.execute_input": "2021-11-29T07:56:18.321162Z",
     "iopub.status.busy": "2021-11-29T07:56:18.320084Z",
     "iopub.status.idle": "2021-11-29T07:56:32.917231Z",
     "shell.execute_reply": "2021-11-29T07:56:32.915621Z",
     "shell.execute_reply.started": "2021-11-29T07:56:18.321027Z"
    },
    "tags": []
   },
   "outputs": [
    {
     "data": {
      "application/vnd.jupyter.widget-view+json": {
       "model_id": "037ca09919ff42339cd9a1ca05020ed8",
       "version_major": 2,
       "version_minor": 0
      },
      "text/plain": [
       "Canvas(toolbar=Toolbar(toolitems=[('Home', 'Reset original view', 'home', 'home'), ('Back', 'Back to previous …"
      ]
     },
     "metadata": {},
     "output_type": "display_data"
    },
    {
     "data": {
      "text/plain": [
       "0.03948890658277803"
      ]
     },
     "execution_count": 49,
     "metadata": {},
     "output_type": "execute_result"
    }
   ],
   "source": [
    "stimulus = 'drifting_gratings_contrast'\n",
    "f = filenames[stimulus]\n",
    "movie_data = np.load(path.join(stimulus_directory, f'{f}.npy'), mmap_mode='r')\n",
    "movie_data = np.reshape(movie_data, (movie_data.shape[0], -1))\n",
    "movie_data = pd.DataFrame(movie_data, index=np.arange(0, len(movie_data)/200, 1/200))\n",
    "\n",
    "act = movie_data[\n",
    "    np.random.choice(movie_data.shape[1], 100, replace=False)\n",
    "].parallel_apply(\n",
    "    apply_ac_time_fitting\n",
    ")\n",
    "\n",
    "f, ax = plt.subplots(figsize=(3, 2.4), tight_layout=True)\n",
    "act.plot.hist(ax=ax, bins=50)\n",
    "act.mean()"
   ]
  },
  {
   "cell_type": "code",
   "execution_count": 50,
   "metadata": {
    "execution": {
     "iopub.execute_input": "2021-11-29T07:59:14.894897Z",
     "iopub.status.busy": "2021-11-29T07:59:14.893823Z",
     "iopub.status.idle": "2021-11-29T08:00:58.106157Z",
     "shell.execute_reply": "2021-11-29T08:00:58.104678Z",
     "shell.execute_reply.started": "2021-11-29T07:59:14.894758Z"
    }
   },
   "outputs": [
    {
     "data": {
      "application/vnd.jupyter.widget-view+json": {
       "model_id": "eaf41b679d3d4a03aec47e7b5fdfcbd5",
       "version_major": 2,
       "version_minor": 0
      },
      "text/plain": [
       "HBox(children=(IntProgress(value=0, max=8), HTML(value='')))"
      ]
     },
     "metadata": {},
     "output_type": "display_data"
    },
    {
     "name": "stdout",
     "output_type": "stream",
     "text": [
      "\n"
     ]
    }
   ],
   "source": [
    "# apply to all stimuli\n",
    "acts = {}\n",
    "for stim, f in tqdm(filenames.items()):\n",
    "    movie_data = np.load(path.join(stimulus_directory, f'{f}.npy'), mmap_mode='r')\n",
    "    movie_data = np.reshape(movie_data, (movie_data.shape[0], -1))\n",
    "    movie_data = pd.DataFrame(movie_data, index=np.arange(0, len(movie_data)/200, 1/200))\n",
    "\n",
    "    acts[stim] = movie_data[\n",
    "        np.random.choice(movie_data.shape[1], 100, replace=False)\n",
    "    ].parallel_apply(\n",
    "        apply_ac_time_fitting\n",
    "    ).reset_index(drop=True)\n",
    "acts = pd.concat(acts, axis=1)"
   ]
  },
  {
   "cell_type": "code",
   "execution_count": 68,
   "metadata": {
    "execution": {
     "iopub.execute_input": "2021-11-29T08:05:22.305020Z",
     "iopub.status.busy": "2021-11-29T08:05:22.304063Z",
     "iopub.status.idle": "2021-11-29T08:05:22.327795Z",
     "shell.execute_reply": "2021-11-29T08:05:22.327130Z",
     "shell.execute_reply.started": "2021-11-29T08:05:22.304906Z"
    },
    "tags": []
   },
   "outputs": [],
   "source": [
    "acts['flashes'] = 1\n",
    "acts['gabors'] = 0.25\n",
    "acts['static_gratings'] = 0.25\n",
    "acts['natural_movie_one_shuffled'] = 0.033"
   ]
  },
  {
   "cell_type": "code",
   "execution_count": null,
   "metadata": {
    "execution": {
     "iopub.execute_input": "2021-11-29T08:09:44.786881Z",
     "iopub.status.busy": "2021-11-29T08:09:44.785806Z"
    },
    "tags": []
   },
   "outputs": [
    {
     "data": {
      "application/vnd.jupyter.widget-view+json": {
       "model_id": "0e0d32d467d34debac2e9623eb4b27c4",
       "version_major": 2,
       "version_minor": 0
      },
      "text/plain": [
       "Canvas(toolbar=Toolbar(toolitems=[('Home', 'Reset original view', 'home', 'home'), ('Back', 'Back to previous …"
      ]
     },
     "metadata": {},
     "output_type": "display_data"
    }
   ],
   "source": [
    "f, ax = plt.subplots(figsize=(5, 1.8), tight_layout=True)\n",
    "sns.boxplot(\n",
    "    data=acts[acts.median().sort_values().index],\n",
    "    linewidth=0.5, showfliers=False, color=cm.Greys(0.4, 0.4)\n",
    ")\n",
    "ax.set_xticklabels(\n",
    "    [x.get_text().replace('_', '\\n') for x in ax.get_xticklabels()],\n",
    "    fontsize=7\n",
    ")\n",
    "ax.set_ylabel('characteristic\\ntimescale (s)', fontsize=7.8)\n",
    "# ax.set_yticks([0, 0.5, 1, 1.5])\n",
    "ax.tick_params(axis='both', labelsize=7);"
   ]
  },
  {
   "cell_type": "code",
   "execution_count": 70,
   "metadata": {
    "execution": {
     "iopub.execute_input": "2021-11-29T08:06:44.775680Z",
     "iopub.status.busy": "2021-11-29T08:06:44.774605Z",
     "iopub.status.idle": "2021-11-29T08:06:44.818412Z",
     "shell.execute_reply": "2021-11-29T08:06:44.816446Z",
     "shell.execute_reply.started": "2021-11-29T08:06:44.775550Z"
    }
   },
   "outputs": [],
   "source": [
    "acts.to_pickle(path.join(stimulus_directory, 'stimulus_autocorrelation.pkl'))"
   ]
  },
  {
   "cell_type": "markdown",
   "metadata": {
    "heading_collapsed": "true",
    "tags": []
   },
   "source": [
    "## Chunk timeseries into 2 s blocks and compute AC for each block\n",
    "We will then take the mean $AC(t)$, compute its envelope and use it to obtain a timescale.  \n",
    "As seen below, this does not reflect the important timescales in the signal.\n",
    "For example, the signal in the flashes stimulus clearly has a timescale of 0.25s and 1.75s\n",
    "on which it changes, but the autocorrelation comes out to 0.13s, which is not useful."
   ]
  },
  {
   "cell_type": "code",
   "execution_count": 39,
   "metadata": {
    "execution": {
     "iopub.execute_input": "2021-11-29T07:48:47.265280Z",
     "iopub.status.busy": "2021-11-29T07:48:47.264202Z",
     "iopub.status.idle": "2021-11-29T07:48:47.434431Z",
     "shell.execute_reply": "2021-11-29T07:48:47.433866Z",
     "shell.execute_reply.started": "2021-11-29T07:48:47.265153Z"
    },
    "tags": []
   },
   "outputs": [
    {
     "data": {
      "application/vnd.jupyter.widget-view+json": {
       "model_id": "1e29fde6715644ce865077fa596e0e73",
       "version_major": 2,
       "version_minor": 0
      },
      "text/plain": [
       "Canvas(toolbar=Toolbar(toolitems=[('Home', 'Reset original view', 'home', 'home'), ('Back', 'Back to previous …"
      ]
     },
     "metadata": {},
     "output_type": "display_data"
    },
    {
     "name": "stdout",
     "output_type": "stream",
     "text": [
      "0.7715589331084952 0.21544247863431285\n"
     ]
    }
   ],
   "source": [
    "stimulus = 'drifting_gratings_contrast'\n",
    "f = filenames[stimulus]\n",
    "movie_data = np.load(path.join(stimulus_directory, f'{f}.npy'), mmap_mode='r')\n",
    "movie_data = np.reshape(movie_data, (movie_data.shape[0], -1))\n",
    "movie_data = pd.DataFrame(movie_data, index=np.arange(0, len(movie_data)/200, 1/200))\n",
    "\n",
    "# apply act to multiple segments of the timeseries\n",
    "ts = movie_data[150].copy()\n",
    "f, (axts, ax) = plt.subplots(\n",
    "    2, 1, figsize=(5, 4), tight_layout=True,\n",
    "    gridspec_kw=dict(height_ratios=[1, 1]), sharex=True\n",
    ")\n",
    "\n",
    "# chunk into 4 s blocks\n",
    "block_size = 2\n",
    "idx = ts.index.rename('time').to_frame()\n",
    "idx['block'] = np.array(np.arange(len(ts))/200/block_size, dtype=int)\n",
    "ts.index = pd.MultiIndex.from_frame(idx)\n",
    "\n",
    "ts.groupby('block').apply(lambda s: axts.plot(np.arange(len(s))/200, s.values, alpha=0.2))\n",
    "axts.set_ylabel('signals')\n",
    "axts.set_title(stimulus)\n",
    "\n",
    "acs = ts.groupby('block').apply(lambda x: pd.Series(get_autocorr(x))).unstack(1)\n",
    "acs.columns = acs.columns / 200\n",
    "\n",
    "acs.T.plot(ax=ax, alpha=0.05, legend=False)\n",
    "acs.abs().mean().plot(ax=ax, c='k', marker='.', ms=1)\n",
    "ax.set_ylabel('autocorrelation')\n",
    "ax.set_xlabel('time (s)');\n",
    "\n",
    "_t, _s = fit_exp(acs.abs().mean())\n",
    "x = np.arange(len(acs.mean()))/200\n",
    "ax.plot(x, exp_fn(x, _t, _s), c='r')\n",
    "print(_t, _s)"
   ]
  },
  {
   "cell_type": "code",
   "execution_count": 40,
   "metadata": {
    "execution": {
     "iopub.execute_input": "2021-11-29T07:48:47.435709Z",
     "iopub.status.busy": "2021-11-29T07:48:47.435347Z",
     "iopub.status.idle": "2021-11-29T07:48:47.467579Z",
     "shell.execute_reply": "2021-11-29T07:48:47.467053Z",
     "shell.execute_reply.started": "2021-11-29T07:48:47.435681Z"
    },
    "tags": []
   },
   "outputs": [
    {
     "data": {
      "text/plain": [
       "0.01077722736320639"
      ]
     },
     "execution_count": 40,
     "metadata": {},
     "output_type": "execute_result"
    }
   ],
   "source": [
    "apply_ac_time_fitting(acs.mean())"
   ]
  },
  {
   "cell_type": "code",
   "execution_count": 12,
   "metadata": {
    "execution": {
     "iopub.execute_input": "2021-11-29T07:42:18.413895Z",
     "iopub.status.busy": "2021-11-29T07:42:18.413293Z",
     "iopub.status.idle": "2021-11-29T07:42:18.444827Z",
     "shell.execute_reply": "2021-11-29T07:42:18.444009Z",
     "shell.execute_reply.started": "2021-11-29T07:42:18.413848Z"
    },
    "tags": []
   },
   "outputs": [
    {
     "name": "stdout",
     "output_type": "stream",
     "text": [
      "(0.6723914507146633, 0.9932394224498788)\n",
      "(2.095683466983477, 0.9655789943882744)\n"
     ]
    }
   ],
   "source": [
    "# drifting_gratings_contrast abs().mean().peaks().fit_exp()\n",
    "print(fit_exp(\n",
    "    [1, 0.172, 0.125, 0.1, 0.088, 0.077, 0.095, 0.05, 0.04], sr=1\n",
    "))\n",
    "\n",
    "# flashes abs().mean().peaks().fit_exp()\n",
    "print(fit_exp(\n",
    "#     [1, 0.243, 0.051], sr=1/8\n",
    "    [1, 0.225, 0.235, 0.137, 0.195], sr=1/2\n",
    "))"
   ]
  },
  {
   "cell_type": "markdown",
   "metadata": {
    "heading_collapsed": "true",
    "tags": []
   },
   "source": [
    "## Compute the mean length of contiguous time segments where signal does not change much"
   ]
  },
  {
   "cell_type": "code",
   "execution_count": 9,
   "metadata": {
    "execution": {
     "iopub.execute_input": "2021-11-27T08:35:42.658039Z",
     "iopub.status.busy": "2021-11-27T08:35:42.656955Z",
     "iopub.status.idle": "2021-11-27T08:35:45.222043Z",
     "shell.execute_reply": "2021-11-27T08:35:45.221485Z",
     "shell.execute_reply.started": "2021-11-27T08:35:42.657907Z"
    },
    "tags": []
   },
   "outputs": [],
   "source": [
    "# compute all pairwise differences in signals and times\n",
    "_ts_dists = sp.spatial.distance.pdist(ts.to_frame().values)\n",
    "_t_dists = sp.spatial.distance.pdist(\n",
    "    ts.index.get_level_values('time').to_frame().values\n",
    ")\n",
    "_t_dists = np.array(np.round(_t_dists*1000), dtype=int)/1000"
   ]
  },
  {
   "cell_type": "code",
   "execution_count": 10,
   "metadata": {
    "execution": {
     "iopub.execute_input": "2021-11-27T08:35:45.223358Z",
     "iopub.status.busy": "2021-11-27T08:35:45.223041Z",
     "iopub.status.idle": "2021-11-27T08:35:51.535571Z",
     "shell.execute_reply": "2021-11-27T08:35:51.534967Z",
     "shell.execute_reply.started": "2021-11-27T08:35:45.223286Z"
    },
    "tags": []
   },
   "outputs": [
    {
     "name": "stdout",
     "output_type": "stream",
     "text": [
      "Mean length of contiguous segments is: 0.03+/-0.01 s\n"
     ]
    }
   ],
   "source": [
    "max_ds = 1\n",
    "win_size = 3\n",
    "\n",
    "# discretize the distance matrix\n",
    "_ts_digitized = np.digitize(_ts_dists, np.arange(0, 255, max_ds))\n",
    "# convert it into a square form\n",
    "_ts_digitized = sp.spatial.distance.squareform(_ts_digitized)\n",
    "# shift the matrix along an axis and test where it is different from original matrix\n",
    "breaks = np.roll(_ts_digitized, 1, axis=0)!=_ts_digitized\n",
    "# these are the places where the signal changes\n",
    "# restrict to win_size time above the diagonal\n",
    "breaks[np.triu_indices(breaks.shape[0], k=200*win_size)] = False\n",
    "breaks[np.tril_indices(breaks.shape[0], k=0)] = False\n",
    "# by counting the breaks we get the number of contiguous segments\n",
    "n_breaks = breaks.sum(0)\n",
    "print(\n",
    "    f'Mean length of contiguous segments is: '\n",
    "    f'{win_size/np.mean(n_breaks):.2f}+/-{n_breaks.std()*win_size/n_breaks.mean()**2:.2f} s'\n",
    ")"
   ]
  },
  {
   "cell_type": "code",
   "execution_count": 11,
   "metadata": {
    "execution": {
     "iopub.execute_input": "2021-11-27T08:35:51.537067Z",
     "iopub.status.busy": "2021-11-27T08:35:51.536766Z",
     "iopub.status.idle": "2021-11-27T08:35:53.289960Z",
     "shell.execute_reply": "2021-11-27T08:35:53.289337Z",
     "shell.execute_reply.started": "2021-11-27T08:35:51.537038Z"
    },
    "tags": []
   },
   "outputs": [
    {
     "data": {
      "application/vnd.jupyter.widget-view+json": {
       "model_id": "368efd1c0a054f0da38136837140a35d",
       "version_major": 2,
       "version_minor": 0
      },
      "text/plain": [
       "Canvas(toolbar=Toolbar(toolitems=[('Home', 'Reset original view', 'home', 'home'), ('Back', 'Back to previous …"
      ]
     },
     "metadata": {},
     "output_type": "display_data"
    }
   ],
   "source": [
    "# see the baove in action\n",
    "# right is the idx array (all time pairs within max_ds are yellow)\n",
    "# left plot is the breaks array (all edges from the bottom plot are in yellow)\n",
    "f = plt.figure(figsize=(10, 4), tight_layout=True)\n",
    "gs = plt.GridSpec(1, 3, width_ratios=[4, 4, 1.5])\n",
    "ax_sig = f.add_subplot(gs[2])\n",
    "ax_idx = f.add_subplot(gs[0], sharey=ax_sig)\n",
    "ax_breaks = f.add_subplot(gs[1], sharex=ax_idx, sharey=ax_idx)\n",
    "\n",
    "ax_breaks.imshow(\n",
    "    breaks, aspect='auto', cmap=cm.Greys,\n",
    "    extent=[0, len(ts)/200, len(ts)/200, 0]\n",
    ")\n",
    "ax_breaks.tick_params(axis='y', labelleft=False)\n",
    "ax_breaks.set_title('break locations')\n",
    "ax_idx.imshow(\n",
    "    sp.spatial.distance.squareform(_ts_dists), aspect='auto', cmap=cm.Greys,\n",
    "    extent=[0, len(ts)/200, len(ts)/200, 0]\n",
    ")\n",
    "ax_idx.set_title('pairwise difference in signal')\n",
    "ax_sig.plot(ts.values, np.arange(len(ts))/200, c='k')\n",
    "ax_sig.tick_params(axis='y', labelleft=False)\n",
    "ax_sig.set_title('signal');"
   ]
  },
  {
   "cell_type": "code",
   "execution_count": null,
   "metadata": {},
   "outputs": [],
   "source": []
  },
  {
   "cell_type": "code",
   "execution_count": null,
   "metadata": {},
   "outputs": [],
   "source": []
  },
  {
   "cell_type": "code",
   "execution_count": null,
   "metadata": {},
   "outputs": [],
   "source": []
  },
  {
   "cell_type": "code",
   "execution_count": 38,
   "metadata": {
    "execution": {
     "iopub.execute_input": "2021-11-27T05:46:41.810913Z",
     "iopub.status.busy": "2021-11-27T05:46:41.809830Z",
     "iopub.status.idle": "2021-11-27T05:46:42.872794Z",
     "shell.execute_reply": "2021-11-27T05:46:42.872229Z",
     "shell.execute_reply.started": "2021-11-27T05:46:41.810786Z"
    },
    "tags": []
   },
   "outputs": [
    {
     "data": {
      "application/vnd.jupyter.widget-view+json": {
       "model_id": "04db25bb870441dba773c326b2ee685e",
       "version_major": 2,
       "version_minor": 0
      },
      "text/plain": [
       "Canvas(toolbar=Toolbar(toolitems=[('Home', 'Reset original view', 'home', 'home'), ('Back', 'Back to previous …"
      ]
     },
     "metadata": {},
     "output_type": "display_data"
    }
   ],
   "source": [
    "idx = (np.abs(_ts_dists)<1)&(_t_dists<3)\n",
    "_tds = pd.Series(_t_dists[_t_dists<3])\n",
    "norms = _tds.groupby(_tds).size()\n",
    "\n",
    "f, ax = plt.subplots(figsize=(3, 2.4), tight_layout=True)\n",
    "res = ax.hist(\n",
    "    _t_dists[idx], bins=100, density=True,# cumulative=True,\n",
    "    weights=pd.Series(_t_dists[idx]).map(1/norms)\n",
    ")\n",
    "ax.set_xlabel('time difference (s)')\n",
    "ax.set_ylabel('density');"
   ]
  },
  {
   "cell_type": "code",
   "execution_count": 41,
   "metadata": {
    "execution": {
     "iopub.execute_input": "2021-11-27T05:47:03.743800Z",
     "iopub.status.busy": "2021-11-27T05:47:03.743367Z",
     "iopub.status.idle": "2021-11-27T05:47:03.830342Z",
     "shell.execute_reply": "2021-11-27T05:47:03.829258Z",
     "shell.execute_reply.started": "2021-11-27T05:47:03.743752Z"
    },
    "tags": []
   },
   "outputs": [
    {
     "data": {
      "text/plain": [
       "23.7690211184572"
      ]
     },
     "execution_count": 41,
     "metadata": {},
     "output_type": "execute_result"
    }
   ],
   "source": [
    "_ts_dists.mean()"
   ]
  },
  {
   "cell_type": "code",
   "execution_count": 42,
   "metadata": {
    "execution": {
     "iopub.execute_input": "2021-11-27T05:48:01.527763Z",
     "iopub.status.busy": "2021-11-27T05:48:01.527126Z",
     "iopub.status.idle": "2021-11-27T05:48:07.673827Z",
     "shell.execute_reply": "2021-11-27T05:48:07.673322Z",
     "shell.execute_reply.started": "2021-11-27T05:48:01.527734Z"
    },
    "tags": []
   },
   "outputs": [
    {
     "data": {
      "application/vnd.jupyter.widget-view+json": {
       "model_id": "20a47db098b9499f98fa296ea6c8123e",
       "version_major": 2,
       "version_minor": 0
      },
      "text/plain": [
       "HBox(children=(IntProgress(value=0, max=16), HTML(value='')))"
      ]
     },
     "metadata": {},
     "output_type": "display_data"
    },
    {
     "name": "stdout",
     "output_type": "stream",
     "text": [
      "\n"
     ]
    },
    {
     "data": {
      "application/vnd.jupyter.widget-view+json": {
       "model_id": "417d280af1fd4c1abf9804ae2bd79254",
       "version_major": 2,
       "version_minor": 0
      },
      "text/plain": [
       "Canvas(toolbar=Toolbar(toolitems=[('Home', 'Reset original view', 'home', 'home'), ('Back', 'Back to previous …"
      ]
     },
     "metadata": {},
     "output_type": "display_data"
    },
    {
     "data": {
      "text/plain": [
       "[<matplotlib.lines.Line2D at 0x7fba87896b38>]"
      ]
     },
     "execution_count": 42,
     "metadata": {},
     "output_type": "execute_result"
    }
   ],
   "source": [
    "_medians = []\n",
    "for i in tqdm(np.logspace(1, 8, 16, base=2)):\n",
    "    idx = (np.abs(_ts_dists)<i)&(_t_dists<3)\n",
    "    _medians.append(np.median(_t_dists[idx]))\n",
    "\n",
    "f, ax = plt.subplots(figsize=(3, 2.4), tight_layout=True)\n",
    "ax.plot(_medians)\n",
    "ax.set_xlabel('max change in signal')\n",
    "ax.set_ylabel('median ')"
   ]
  },
  {
   "cell_type": "code",
   "execution_count": null,
   "metadata": {},
   "outputs": [],
   "source": []
  },
  {
   "cell_type": "code",
   "execution_count": null,
   "metadata": {},
   "outputs": [],
   "source": []
  },
  {
   "cell_type": "markdown",
   "metadata": {
    "heading_collapsed": "true",
    "tags": []
   },
   "source": [
    "## Directly fitting full AC linearly to get a timescale"
   ]
  },
  {
   "cell_type": "code",
   "execution_count": 44,
   "metadata": {
    "execution": {
     "iopub.execute_input": "2021-11-29T07:51:31.097445Z",
     "iopub.status.busy": "2021-11-29T07:51:31.096482Z",
     "iopub.status.idle": "2021-11-29T07:51:31.165971Z",
     "shell.execute_reply": "2021-11-29T07:51:31.165473Z",
     "shell.execute_reply.started": "2021-11-29T07:51:31.097329Z"
    },
    "tags": []
   },
   "outputs": [
    {
     "data": {
      "application/vnd.jupyter.widget-view+json": {
       "model_id": "314c2e85dac44561a64476af3e4195ae",
       "version_major": 2,
       "version_minor": 0
      },
      "text/plain": [
       "Canvas(toolbar=Toolbar(toolitems=[('Home', 'Reset original view', 'home', 'home'), ('Back', 'Back to previous …"
      ]
     },
     "metadata": {},
     "output_type": "display_data"
    },
    {
     "name": "stdout",
     "output_type": "stream",
     "text": [
      "1.4923238906369978\n"
     ]
    }
   ],
   "source": [
    "f, ax = plt.subplots(1, 1, figsize=(3, 2.4), tight_layout=True)\n",
    "print(apply_ac_time_fitting(movie_data[20], ax=ax))\n",
    "# ax.set_yscale('log')"
   ]
  },
  {
   "cell_type": "code",
   "execution_count": 114,
   "metadata": {
    "execution": {
     "iopub.execute_input": "2021-11-27T08:28:34.667393Z",
     "iopub.status.busy": "2021-11-27T08:28:34.666331Z",
     "iopub.status.idle": "2021-11-27T08:28:34.694177Z",
     "shell.execute_reply": "2021-11-27T08:28:34.693450Z",
     "shell.execute_reply.started": "2021-11-27T08:28:34.667253Z"
    },
    "tags": []
   },
   "outputs": [],
   "source": [
    "try:\n",
    "    acts = pd.read_pickle(\n",
    "        path.join(stimulus_directory, 'stimulus_autocorrelation.pkl')\n",
    "    )\n",
    "except:\n",
    "    acts = {}\n",
    "    for stimulus, f in tqdm(filenames.items()):\n",
    "        movie_data = np.load(path.join(stimulus_directory, f'{f}.npy'))\n",
    "        movie_data = np.reshape(movie_data, (movie_data.shape[0], -1))\n",
    "        movie_data = pd.DataFrame(movie_data)\n",
    "\n",
    "        act = movie_data[\n",
    "            np.random.choice(movie_data.shape[1], 100, replace=False)\n",
    "        ].parallel_apply(\n",
    "            apply_ac_time_fitting_stimulus\n",
    "        )\n",
    "\n",
    "        acts[stimulus] = act\n",
    "\n",
    "    acts = {\n",
    "        k : v.reset_index(drop=True) for k, v in acts.items()\n",
    "    }\n",
    "    acts = pd.concat(acts, axis=1)\n",
    "    acts.to_pickle(path.join(stimulus_directory, 'stimulus_autocorrelation.pkl'))"
   ]
  },
  {
   "cell_type": "code",
   "execution_count": 115,
   "metadata": {
    "execution": {
     "iopub.execute_input": "2021-11-27T08:28:35.978100Z",
     "iopub.status.busy": "2021-11-27T08:28:35.977017Z",
     "iopub.status.idle": "2021-11-27T08:28:36.088954Z",
     "shell.execute_reply": "2021-11-27T08:28:36.088322Z",
     "shell.execute_reply.started": "2021-11-27T08:28:35.977974Z"
    },
    "tags": []
   },
   "outputs": [
    {
     "data": {
      "application/vnd.jupyter.widget-view+json": {
       "model_id": "7c2e53529cb34d799b6edf8e3ba78a2e",
       "version_major": 2,
       "version_minor": 0
      },
      "text/plain": [
       "Canvas(toolbar=Toolbar(toolitems=[('Home', 'Reset original view', 'home', 'home'), ('Back', 'Back to previous …"
      ]
     },
     "metadata": {},
     "output_type": "display_data"
    }
   ],
   "source": [
    "f, ax = plt.subplots(figsize=(5, 1.8), tight_layout=True)\n",
    "sns.boxplot(\n",
    "    data=acts[acts.mean().sort_values().index],\n",
    "    linewidth=0.5, showfliers=False, color=cm.Greys(0.4, 0.4)\n",
    ")\n",
    "ax.set_xticklabels(\n",
    "    [x.get_text().replace('_', '\\n') for x in ax.get_xticklabels()],\n",
    "    fontsize=7\n",
    ")\n",
    "ax.set_ylabel('autocorrelation\\ntimescale (s)', fontsize=7.8)\n",
    "# ax.set_yticks([0, 0.5, 1, 1.5])\n",
    "ax.tick_params(axis='both', labelsize=7);"
   ]
  },
  {
   "cell_type": "markdown",
   "metadata": {},
   "source": [
    "# Apply to firing rates"
   ]
  },
  {
   "cell_type": "code",
   "execution_count": 72,
   "metadata": {
    "execution": {
     "iopub.execute_input": "2021-11-29T08:11:04.505261Z",
     "iopub.status.busy": "2021-11-29T08:11:04.504997Z",
     "iopub.status.idle": "2021-11-29T08:11:49.028630Z",
     "shell.execute_reply": "2021-11-29T08:11:49.027815Z",
     "shell.execute_reply.started": "2021-11-29T08:11:04.505185Z"
    },
    "tags": []
   },
   "outputs": [],
   "source": [
    "# autocorrelation time for neurons for one example session\n",
    "session = session_ids[-1]\n",
    "fr = load_fr(session)\n",
    "units = load_units(session)\n",
    "units['idx'] = range(len(units))\n",
    "\n",
    "stim_table = load_stimulus_table(session)\n",
    "fr.index = pd.MultiIndex.from_frame(\n",
    "    stim_table.set_index('time')\n",
    "    .reindex(fr.index, method='ffill')\n",
    "    .bfill().rename_axis('time')\n",
    "    .reset_index()\n",
    ")"
   ]
  },
  {
   "cell_type": "code",
   "execution_count": 7,
   "metadata": {
    "execution": {
     "iopub.execute_input": "2021-10-21T04:10:22.764083Z",
     "iopub.status.busy": "2021-10-21T04:10:22.763751Z",
     "iopub.status.idle": "2021-10-21T04:10:22.784985Z",
     "shell.execute_reply": "2021-10-21T04:10:22.784323Z",
     "shell.execute_reply.started": "2021-10-21T04:10:22.764053Z"
    },
    "tags": []
   },
   "outputs": [],
   "source": [
    "# # test algorithm\n",
    "# df = fr.xs(4, level='block')\n",
    "# ac = get_autocorr(df.iloc[:, 1001])\n",
    "# ac[ac<=0] = 1e-5\n",
    "# _x = np.linspace(0, 1, 200, False)\n",
    "# res = fit_ac_timescale(ac, lim=200)\n",
    "\n",
    "# f, ax = plt.subplots(figsize=(4, 3), tight_layout=True)\n",
    "# ax.plot(_x[ac[:200]>5e-3], ac[:200][ac[:200]>5e-3], '-o')\n",
    "# ax.plot(_x[1:], np.exp(ln_exp_fit(_x[1:], *res[0])))\n",
    "# ax.set_yscale('log', nonpositive='mask')\n",
    "# ax.set_ylim(0.001, 2)\n",
    "# print(res[0]*1000)"
   ]
  },
  {
   "cell_type": "code",
   "execution_count": 73,
   "metadata": {
    "execution": {
     "iopub.execute_input": "2021-11-29T08:11:49.297263Z",
     "iopub.status.busy": "2021-11-29T08:11:49.297053Z",
     "iopub.status.idle": "2021-11-29T08:11:52.953960Z",
     "shell.execute_reply": "2021-11-29T08:11:52.953410Z",
     "shell.execute_reply.started": "2021-11-29T08:11:49.297237Z"
    },
    "tags": []
   },
   "outputs": [
    {
     "data": {
      "text/plain": [
       "region    \n",
       "        0     1396\n",
       "        1      611\n",
       "        2     1015\n",
       "        3        4\n",
       "        4      617\n",
       "              ... \n",
       "VISrl   15    2065\n",
       "        16    2088\n",
       "        17    2227\n",
       "        18    2232\n",
       "        19    2046\n",
       "Length: 356, dtype: int64"
      ]
     },
     "execution_count": 73,
     "metadata": {},
     "output_type": "execute_result"
    }
   ],
   "source": [
    "frm = fr.mean()\n",
    "frm.index = units.loc[frm.index]\\\n",
    ".set_index('region', append=True).index\n",
    "\n",
    "top_firing_neurons = frm.groupby('region').apply(\n",
    "    lambda s: pd.Series(\n",
    "        s.sort_values()[-20:].index\n",
    "        .get_level_values(0).values\n",
    "    )\n",
    ")\n",
    "top_firing_neurons"
   ]
  },
  {
   "cell_type": "code",
   "execution_count": 74,
   "metadata": {
    "execution": {
     "iopub.execute_input": "2021-11-29T08:11:52.955186Z",
     "iopub.status.busy": "2021-11-29T08:11:52.954925Z",
     "iopub.status.idle": "2021-11-29T08:11:52.970340Z",
     "shell.execute_reply": "2021-11-29T08:11:52.969852Z",
     "shell.execute_reply.started": "2021-11-29T08:11:52.955117Z"
    },
    "tags": []
   },
   "outputs": [],
   "source": [
    "_neurons = top_firing_neurons.loc[[\n",
    "    x for x in region_sets['VisCtx'] if x in top_firing_neurons.index.levels[0]\n",
    "]].unique()"
   ]
  },
  {
   "cell_type": "code",
   "execution_count": 75,
   "metadata": {
    "execution": {
     "iopub.execute_input": "2021-11-29T08:11:52.971544Z",
     "iopub.status.busy": "2021-11-29T08:11:52.971266Z",
     "iopub.status.idle": "2021-11-29T08:11:53.074139Z",
     "shell.execute_reply": "2021-11-29T08:11:53.073558Z",
     "shell.execute_reply.started": "2021-11-29T08:11:52.971471Z"
    },
    "tags": []
   },
   "outputs": [
    {
     "data": {
      "text/html": [
       "<div>\n",
       "<style scoped>\n",
       "    .dataframe tbody tr th:only-of-type {\n",
       "        vertical-align: middle;\n",
       "    }\n",
       "\n",
       "    .dataframe tbody tr th {\n",
       "        vertical-align: top;\n",
       "    }\n",
       "\n",
       "    .dataframe thead tr th {\n",
       "        text-align: left;\n",
       "    }\n",
       "\n",
       "    .dataframe thead tr:last-of-type th {\n",
       "        text-align: right;\n",
       "    }\n",
       "</style>\n",
       "<table border=\"1\" class=\"dataframe\">\n",
       "  <thead>\n",
       "    <tr>\n",
       "      <th></th>\n",
       "      <th></th>\n",
       "      <th>942</th>\n",
       "      <th>945</th>\n",
       "      <th>934</th>\n",
       "      <th>693</th>\n",
       "      <th>726</th>\n",
       "      <th>918</th>\n",
       "      <th>947</th>\n",
       "      <th>935</th>\n",
       "      <th>943</th>\n",
       "      <th>695</th>\n",
       "      <th>...</th>\n",
       "      <th>214</th>\n",
       "      <th>67</th>\n",
       "      <th>66</th>\n",
       "      <th>225</th>\n",
       "      <th>226</th>\n",
       "      <th>227</th>\n",
       "      <th>202</th>\n",
       "      <th>197</th>\n",
       "      <th>201</th>\n",
       "      <th>60</th>\n",
       "    </tr>\n",
       "    <tr>\n",
       "      <th></th>\n",
       "      <th>region</th>\n",
       "      <th>VISp</th>\n",
       "      <th>VISp</th>\n",
       "      <th>VISp</th>\n",
       "      <th>VISp</th>\n",
       "      <th>VISp</th>\n",
       "      <th>VISp</th>\n",
       "      <th>VISp</th>\n",
       "      <th>VISp</th>\n",
       "      <th>VISp</th>\n",
       "      <th>VISp</th>\n",
       "      <th>...</th>\n",
       "      <th>VISam</th>\n",
       "      <th>VISam</th>\n",
       "      <th>VISam</th>\n",
       "      <th>VISam</th>\n",
       "      <th>VISam</th>\n",
       "      <th>VISam</th>\n",
       "      <th>VISam</th>\n",
       "      <th>VISam</th>\n",
       "      <th>VISam</th>\n",
       "      <th>VISam</th>\n",
       "    </tr>\n",
       "    <tr>\n",
       "      <th>stimulus_name</th>\n",
       "      <th>block</th>\n",
       "      <th></th>\n",
       "      <th></th>\n",
       "      <th></th>\n",
       "      <th></th>\n",
       "      <th></th>\n",
       "      <th></th>\n",
       "      <th></th>\n",
       "      <th></th>\n",
       "      <th></th>\n",
       "      <th></th>\n",
       "      <th></th>\n",
       "      <th></th>\n",
       "      <th></th>\n",
       "      <th></th>\n",
       "      <th></th>\n",
       "      <th></th>\n",
       "      <th></th>\n",
       "      <th></th>\n",
       "      <th></th>\n",
       "      <th></th>\n",
       "      <th></th>\n",
       "    </tr>\n",
       "  </thead>\n",
       "  <tbody>\n",
       "    <tr>\n",
       "      <th rowspan=\"3\" valign=\"top\">drifting_gratings</th>\n",
       "      <th>2.0</th>\n",
       "      <td>0.115029</td>\n",
       "      <td>0.085385</td>\n",
       "      <td>0.180826</td>\n",
       "      <td>0.097469</td>\n",
       "      <td>0.111816</td>\n",
       "      <td>0.080467</td>\n",
       "      <td>0.080673</td>\n",
       "      <td>0.083285</td>\n",
       "      <td>0.081402</td>\n",
       "      <td>NaN</td>\n",
       "      <td>...</td>\n",
       "      <td>0.222549</td>\n",
       "      <td>0.105924</td>\n",
       "      <td>0.134796</td>\n",
       "      <td>0.074431</td>\n",
       "      <td>0.072105</td>\n",
       "      <td>0.077407</td>\n",
       "      <td>0.158285</td>\n",
       "      <td>0.125671</td>\n",
       "      <td>0.087300</td>\n",
       "      <td>0.086859</td>\n",
       "    </tr>\n",
       "    <tr>\n",
       "      <th>5.0</th>\n",
       "      <td>0.110938</td>\n",
       "      <td>0.086486</td>\n",
       "      <td>0.199009</td>\n",
       "      <td>NaN</td>\n",
       "      <td>0.117938</td>\n",
       "      <td>0.081733</td>\n",
       "      <td>0.066637</td>\n",
       "      <td>0.090799</td>\n",
       "      <td>0.072772</td>\n",
       "      <td>NaN</td>\n",
       "      <td>...</td>\n",
       "      <td>0.236331</td>\n",
       "      <td>0.016525</td>\n",
       "      <td>0.173600</td>\n",
       "      <td>0.092436</td>\n",
       "      <td>0.094173</td>\n",
       "      <td>0.092505</td>\n",
       "      <td>0.182979</td>\n",
       "      <td>0.140751</td>\n",
       "      <td>0.091691</td>\n",
       "      <td>0.117541</td>\n",
       "    </tr>\n",
       "    <tr>\n",
       "      <th>7.0</th>\n",
       "      <td>0.111007</td>\n",
       "      <td>0.076851</td>\n",
       "      <td>0.195629</td>\n",
       "      <td>0.045796</td>\n",
       "      <td>0.122148</td>\n",
       "      <td>0.095215</td>\n",
       "      <td>0.066868</td>\n",
       "      <td>0.149833</td>\n",
       "      <td>0.094468</td>\n",
       "      <td>NaN</td>\n",
       "      <td>...</td>\n",
       "      <td>0.317464</td>\n",
       "      <td>0.008276</td>\n",
       "      <td>0.206017</td>\n",
       "      <td>0.104017</td>\n",
       "      <td>0.094237</td>\n",
       "      <td>0.094833</td>\n",
       "      <td>0.176784</td>\n",
       "      <td>0.131082</td>\n",
       "      <td>0.097408</td>\n",
       "      <td>0.085400</td>\n",
       "    </tr>\n",
       "    <tr>\n",
       "      <th>drifting_gratings_contrast</th>\n",
       "      <th>15.0</th>\n",
       "      <td>0.116027</td>\n",
       "      <td>0.101281</td>\n",
       "      <td>0.089222</td>\n",
       "      <td>0.141933</td>\n",
       "      <td>0.101630</td>\n",
       "      <td>0.064310</td>\n",
       "      <td>0.072330</td>\n",
       "      <td>0.090803</td>\n",
       "      <td>0.077316</td>\n",
       "      <td>0.023438</td>\n",
       "      <td>...</td>\n",
       "      <td>0.283537</td>\n",
       "      <td>NaN</td>\n",
       "      <td>0.199067</td>\n",
       "      <td>0.100039</td>\n",
       "      <td>0.097588</td>\n",
       "      <td>0.107004</td>\n",
       "      <td>0.111187</td>\n",
       "      <td>0.077845</td>\n",
       "      <td>0.083761</td>\n",
       "      <td>0.124839</td>\n",
       "    </tr>\n",
       "    <tr>\n",
       "      <th>flashes</th>\n",
       "      <th>1.0</th>\n",
       "      <td>0.102409</td>\n",
       "      <td>0.084869</td>\n",
       "      <td>0.065988</td>\n",
       "      <td>0.084110</td>\n",
       "      <td>NaN</td>\n",
       "      <td>0.080182</td>\n",
       "      <td>0.078059</td>\n",
       "      <td>0.098394</td>\n",
       "      <td>0.075988</td>\n",
       "      <td>NaN</td>\n",
       "      <td>...</td>\n",
       "      <td>0.909640</td>\n",
       "      <td>0.023298</td>\n",
       "      <td>0.059975</td>\n",
       "      <td>0.036496</td>\n",
       "      <td>0.058224</td>\n",
       "      <td>0.030765</td>\n",
       "      <td>0.109364</td>\n",
       "      <td>0.072397</td>\n",
       "      <td>0.074013</td>\n",
       "      <td>0.062879</td>\n",
       "    </tr>\n",
       "    <tr>\n",
       "      <th>gabors</th>\n",
       "      <th>0.0</th>\n",
       "      <td>0.144801</td>\n",
       "      <td>0.067747</td>\n",
       "      <td>0.059853</td>\n",
       "      <td>0.014896</td>\n",
       "      <td>0.077399</td>\n",
       "      <td>0.058854</td>\n",
       "      <td>0.048382</td>\n",
       "      <td>0.062403</td>\n",
       "      <td>0.058892</td>\n",
       "      <td>NaN</td>\n",
       "      <td>...</td>\n",
       "      <td>0.279183</td>\n",
       "      <td>0.083874</td>\n",
       "      <td>0.126953</td>\n",
       "      <td>0.015904</td>\n",
       "      <td>0.013699</td>\n",
       "      <td>0.051030</td>\n",
       "      <td>0.097910</td>\n",
       "      <td>0.111822</td>\n",
       "      <td>0.055211</td>\n",
       "      <td>0.091510</td>\n",
       "    </tr>\n",
       "    <tr>\n",
       "      <th rowspan=\"2\" valign=\"top\">natural_movie_one</th>\n",
       "      <th>4.0</th>\n",
       "      <td>0.109398</td>\n",
       "      <td>0.102675</td>\n",
       "      <td>0.168860</td>\n",
       "      <td>0.008724</td>\n",
       "      <td>0.167069</td>\n",
       "      <td>0.243174</td>\n",
       "      <td>0.071095</td>\n",
       "      <td>0.129360</td>\n",
       "      <td>0.072956</td>\n",
       "      <td>NaN</td>\n",
       "      <td>...</td>\n",
       "      <td>0.215482</td>\n",
       "      <td>0.043621</td>\n",
       "      <td>0.121894</td>\n",
       "      <td>0.021359</td>\n",
       "      <td>0.053970</td>\n",
       "      <td>0.073583</td>\n",
       "      <td>0.142062</td>\n",
       "      <td>0.152311</td>\n",
       "      <td>0.123830</td>\n",
       "      <td>0.206588</td>\n",
       "    </tr>\n",
       "    <tr>\n",
       "      <th>12.0</th>\n",
       "      <td>0.099495</td>\n",
       "      <td>0.091025</td>\n",
       "      <td>0.195750</td>\n",
       "      <td>0.119690</td>\n",
       "      <td>0.124229</td>\n",
       "      <td>0.250779</td>\n",
       "      <td>0.077302</td>\n",
       "      <td>NaN</td>\n",
       "      <td>0.059432</td>\n",
       "      <td>0.062406</td>\n",
       "      <td>...</td>\n",
       "      <td>0.268167</td>\n",
       "      <td>NaN</td>\n",
       "      <td>0.109864</td>\n",
       "      <td>0.076016</td>\n",
       "      <td>0.089347</td>\n",
       "      <td>0.084261</td>\n",
       "      <td>0.103473</td>\n",
       "      <td>0.068209</td>\n",
       "      <td>0.096946</td>\n",
       "      <td>0.112065</td>\n",
       "    </tr>\n",
       "  </tbody>\n",
       "</table>\n",
       "<p>8 rows × 100 columns</p>\n",
       "</div>"
      ],
      "text/plain": [
       "                                       942       945       934       693  \\\n",
       "region                                VISp      VISp      VISp      VISp   \n",
       "stimulus_name              block                                           \n",
       "drifting_gratings          2.0    0.115029  0.085385  0.180826  0.097469   \n",
       "                           5.0    0.110938  0.086486  0.199009       NaN   \n",
       "                           7.0    0.111007  0.076851  0.195629  0.045796   \n",
       "drifting_gratings_contrast 15.0   0.116027  0.101281  0.089222  0.141933   \n",
       "flashes                    1.0    0.102409  0.084869  0.065988  0.084110   \n",
       "gabors                     0.0    0.144801  0.067747  0.059853  0.014896   \n",
       "natural_movie_one          4.0    0.109398  0.102675  0.168860  0.008724   \n",
       "                           12.0   0.099495  0.091025  0.195750  0.119690   \n",
       "\n",
       "                                       726       918       947       935  \\\n",
       "region                                VISp      VISp      VISp      VISp   \n",
       "stimulus_name              block                                           \n",
       "drifting_gratings          2.0    0.111816  0.080467  0.080673  0.083285   \n",
       "                           5.0    0.117938  0.081733  0.066637  0.090799   \n",
       "                           7.0    0.122148  0.095215  0.066868  0.149833   \n",
       "drifting_gratings_contrast 15.0   0.101630  0.064310  0.072330  0.090803   \n",
       "flashes                    1.0         NaN  0.080182  0.078059  0.098394   \n",
       "gabors                     0.0    0.077399  0.058854  0.048382  0.062403   \n",
       "natural_movie_one          4.0    0.167069  0.243174  0.071095  0.129360   \n",
       "                           12.0   0.124229  0.250779  0.077302       NaN   \n",
       "\n",
       "                                       943       695  ...       214       67   \\\n",
       "region                                VISp      VISp  ...     VISam     VISam   \n",
       "stimulus_name              block                      ...                       \n",
       "drifting_gratings          2.0    0.081402       NaN  ...  0.222549  0.105924   \n",
       "                           5.0    0.072772       NaN  ...  0.236331  0.016525   \n",
       "                           7.0    0.094468       NaN  ...  0.317464  0.008276   \n",
       "drifting_gratings_contrast 15.0   0.077316  0.023438  ...  0.283537       NaN   \n",
       "flashes                    1.0    0.075988       NaN  ...  0.909640  0.023298   \n",
       "gabors                     0.0    0.058892       NaN  ...  0.279183  0.083874   \n",
       "natural_movie_one          4.0    0.072956       NaN  ...  0.215482  0.043621   \n",
       "                           12.0   0.059432  0.062406  ...  0.268167       NaN   \n",
       "\n",
       "                                       66        225       226       227  \\\n",
       "region                               VISam     VISam     VISam     VISam   \n",
       "stimulus_name              block                                           \n",
       "drifting_gratings          2.0    0.134796  0.074431  0.072105  0.077407   \n",
       "                           5.0    0.173600  0.092436  0.094173  0.092505   \n",
       "                           7.0    0.206017  0.104017  0.094237  0.094833   \n",
       "drifting_gratings_contrast 15.0   0.199067  0.100039  0.097588  0.107004   \n",
       "flashes                    1.0    0.059975  0.036496  0.058224  0.030765   \n",
       "gabors                     0.0    0.126953  0.015904  0.013699  0.051030   \n",
       "natural_movie_one          4.0    0.121894  0.021359  0.053970  0.073583   \n",
       "                           12.0   0.109864  0.076016  0.089347  0.084261   \n",
       "\n",
       "                                       202       197       201       60   \n",
       "region                               VISam     VISam     VISam     VISam  \n",
       "stimulus_name              block                                          \n",
       "drifting_gratings          2.0    0.158285  0.125671  0.087300  0.086859  \n",
       "                           5.0    0.182979  0.140751  0.091691  0.117541  \n",
       "                           7.0    0.176784  0.131082  0.097408  0.085400  \n",
       "drifting_gratings_contrast 15.0   0.111187  0.077845  0.083761  0.124839  \n",
       "flashes                    1.0    0.109364  0.072397  0.074013  0.062879  \n",
       "gabors                     0.0    0.097910  0.111822  0.055211  0.091510  \n",
       "natural_movie_one          4.0    0.142062  0.152311  0.123830  0.206588  \n",
       "                           12.0   0.103473  0.068209  0.096946  0.112065  \n",
       "\n",
       "[8 rows x 100 columns]"
      ]
     },
     "execution_count": 75,
     "metadata": {},
     "output_type": "execute_result"
    }
   ],
   "source": [
    "try:\n",
    "    fr_acs = pd.read_pickle(\n",
    "        path.join(\n",
    "            data_directory,\n",
    "            f'firing_rate_autocorrelation_{session}.pkl'\n",
    "        )\n",
    "    )\n",
    "except:\n",
    "    fr_acs = fr[_neurons].groupby(\n",
    "        ['stimulus_name', 'block']\n",
    "    ).progress_apply(\n",
    "        lambda df: df.parallel_apply(\n",
    "            apply_ac_time_fitting\n",
    "        )\n",
    "    )\n",
    "    fr_acs.to_pickle(\n",
    "        path.join(\n",
    "            data_directory,\n",
    "            f'firing_rate_autocorrelation_{session}.pkl'\n",
    "        )\n",
    "    )\n",
    "fr_acs.columns = units.loc[fr_acs.columns].set_index(\n",
    "    'region', append=True\n",
    ").index\n",
    "fr_acs.head(8)"
   ]
  },
  {
   "cell_type": "code",
   "execution_count": 76,
   "metadata": {
    "execution": {
     "iopub.execute_input": "2021-11-29T08:11:53.075663Z",
     "iopub.status.busy": "2021-11-29T08:11:53.075445Z",
     "iopub.status.idle": "2021-11-29T08:11:53.096391Z",
     "shell.execute_reply": "2021-11-29T08:11:53.095860Z",
     "shell.execute_reply.started": "2021-11-29T08:11:53.075635Z"
    },
    "tags": []
   },
   "outputs": [],
   "source": [
    "fr_acs_mn = fr_acs.groupby('stimulus_name').apply(\n",
    "    lambda df: np.nanmedian(df.values)\n",
    ")\n",
    "fr_acs_sd = fr_acs.groupby('stimulus_name').apply(\n",
    "    lambda df: np.nanstd(df.values)/np.sqrt(np.size(df.values))\n",
    ")"
   ]
  },
  {
   "cell_type": "code",
   "execution_count": 77,
   "metadata": {
    "execution": {
     "iopub.execute_input": "2021-11-29T08:11:53.097782Z",
     "iopub.status.busy": "2021-11-29T08:11:53.097501Z",
     "iopub.status.idle": "2021-11-29T08:11:53.161618Z",
     "shell.execute_reply": "2021-11-29T08:11:53.161087Z",
     "shell.execute_reply.started": "2021-11-29T08:11:53.097709Z"
    },
    "tags": []
   },
   "outputs": [
    {
     "data": {
      "application/vnd.jupyter.widget-view+json": {
       "model_id": "3dabd28c5c744c1bb3c46e6db0386fb6",
       "version_major": 2,
       "version_minor": 0
      },
      "text/plain": [
       "Canvas(toolbar=Toolbar(toolitems=[('Home', 'Reset original view', 'home', 'home'), ('Back', 'Back to previous …"
      ]
     },
     "metadata": {},
     "output_type": "display_data"
    }
   ],
   "source": [
    "# no obvious relationship with mean firing rate\n",
    "f, ax = plt.subplots(1, 1, figsize=(6, 2.5), tight_layout=True)\n",
    "ax.plot(fr_acs.groupby('stimulus_name').median().T.values, alpha=0.5)\n",
    "ax.set_xlabel('unit (ordered by increasing firing rate)', fontsize=10)\n",
    "ax.set_ylabel('autocorrelation time (s)', fontsize=10);"
   ]
  },
  {
   "cell_type": "code",
   "execution_count": 78,
   "metadata": {
    "execution": {
     "iopub.execute_input": "2021-11-29T08:11:53.162753Z",
     "iopub.status.busy": "2021-11-29T08:11:53.162457Z",
     "iopub.status.idle": "2021-11-29T08:11:53.201451Z",
     "shell.execute_reply": "2021-11-29T08:11:53.200830Z",
     "shell.execute_reply.started": "2021-11-29T08:11:53.162726Z"
    },
    "tags": []
   },
   "outputs": [
    {
     "data": {
      "text/html": [
       "<div>\n",
       "<style scoped>\n",
       "    .dataframe tbody tr th:only-of-type {\n",
       "        vertical-align: middle;\n",
       "    }\n",
       "\n",
       "    .dataframe tbody tr th {\n",
       "        vertical-align: top;\n",
       "    }\n",
       "\n",
       "    .dataframe thead th {\n",
       "        text-align: right;\n",
       "    }\n",
       "</style>\n",
       "<table border=\"1\" class=\"dataframe\">\n",
       "  <thead>\n",
       "    <tr style=\"text-align: right;\">\n",
       "      <th></th>\n",
       "      <th>stimulus_name</th>\n",
       "      <th>block</th>\n",
       "      <th>level_2</th>\n",
       "      <th>region</th>\n",
       "      <th>AC timescale (s)</th>\n",
       "    </tr>\n",
       "  </thead>\n",
       "  <tbody>\n",
       "    <tr>\n",
       "      <th>0</th>\n",
       "      <td>spontaneous</td>\n",
       "      <td>-1.0</td>\n",
       "      <td>60</td>\n",
       "      <td>VISam</td>\n",
       "      <td>0.194485</td>\n",
       "    </tr>\n",
       "    <tr>\n",
       "      <th>1</th>\n",
       "      <td>spontaneous</td>\n",
       "      <td>-1.0</td>\n",
       "      <td>66</td>\n",
       "      <td>VISam</td>\n",
       "      <td>0.263914</td>\n",
       "    </tr>\n",
       "    <tr>\n",
       "      <th>2</th>\n",
       "      <td>spontaneous</td>\n",
       "      <td>-1.0</td>\n",
       "      <td>68</td>\n",
       "      <td>VISam</td>\n",
       "      <td>0.088255</td>\n",
       "    </tr>\n",
       "    <tr>\n",
       "      <th>3</th>\n",
       "      <td>spontaneous</td>\n",
       "      <td>-1.0</td>\n",
       "      <td>70</td>\n",
       "      <td>VISam</td>\n",
       "      <td>0.120994</td>\n",
       "    </tr>\n",
       "    <tr>\n",
       "      <th>4</th>\n",
       "      <td>spontaneous</td>\n",
       "      <td>-1.0</td>\n",
       "      <td>174</td>\n",
       "      <td>VISam</td>\n",
       "      <td>0.033207</td>\n",
       "    </tr>\n",
       "    <tr>\n",
       "      <th>...</th>\n",
       "      <td>...</td>\n",
       "      <td>...</td>\n",
       "      <td>...</td>\n",
       "      <td>...</td>\n",
       "      <td>...</td>\n",
       "    </tr>\n",
       "    <tr>\n",
       "      <th>641</th>\n",
       "      <td>natural_movie_one</td>\n",
       "      <td>12.0</td>\n",
       "      <td>2218</td>\n",
       "      <td>VISrl</td>\n",
       "      <td>0.054919</td>\n",
       "    </tr>\n",
       "    <tr>\n",
       "      <th>642</th>\n",
       "      <td>natural_movie_one</td>\n",
       "      <td>12.0</td>\n",
       "      <td>2221</td>\n",
       "      <td>VISrl</td>\n",
       "      <td>0.101133</td>\n",
       "    </tr>\n",
       "    <tr>\n",
       "      <th>643</th>\n",
       "      <td>natural_movie_one</td>\n",
       "      <td>12.0</td>\n",
       "      <td>2226</td>\n",
       "      <td>VISrl</td>\n",
       "      <td>0.085280</td>\n",
       "    </tr>\n",
       "    <tr>\n",
       "      <th>644</th>\n",
       "      <td>natural_movie_one</td>\n",
       "      <td>12.0</td>\n",
       "      <td>2227</td>\n",
       "      <td>VISrl</td>\n",
       "      <td>0.111502</td>\n",
       "    </tr>\n",
       "    <tr>\n",
       "      <th>645</th>\n",
       "      <td>natural_movie_one</td>\n",
       "      <td>12.0</td>\n",
       "      <td>2232</td>\n",
       "      <td>VISrl</td>\n",
       "      <td>0.433009</td>\n",
       "    </tr>\n",
       "  </tbody>\n",
       "</table>\n",
       "<p>646 rows × 5 columns</p>\n",
       "</div>"
      ],
      "text/plain": [
       "         stimulus_name  block  level_2 region  AC timescale (s)\n",
       "0          spontaneous   -1.0       60  VISam          0.194485\n",
       "1          spontaneous   -1.0       66  VISam          0.263914\n",
       "2          spontaneous   -1.0       68  VISam          0.088255\n",
       "3          spontaneous   -1.0       70  VISam          0.120994\n",
       "4          spontaneous   -1.0      174  VISam          0.033207\n",
       "..                 ...    ...      ...    ...               ...\n",
       "641  natural_movie_one   12.0     2218  VISrl          0.054919\n",
       "642  natural_movie_one   12.0     2221  VISrl          0.101133\n",
       "643  natural_movie_one   12.0     2226  VISrl          0.085280\n",
       "644  natural_movie_one   12.0     2227  VISrl          0.111502\n",
       "645  natural_movie_one   12.0     2232  VISrl          0.433009\n",
       "\n",
       "[646 rows x 5 columns]"
      ]
     },
     "execution_count": 78,
     "metadata": {},
     "output_type": "execute_result"
    }
   ],
   "source": [
    "fr_acs_mlt = fr_acs.loc[\n",
    "    ['spontaneous', 'flashes', 'static_gratings', 'natural_movie_one']\n",
    "].stack([0, 1]).rename(\n",
    "    'AC timescale (s)'\n",
    ").reset_index()\n",
    "fr_acs_mlt"
   ]
  },
  {
   "cell_type": "code",
   "execution_count": 81,
   "metadata": {
    "execution": {
     "iopub.execute_input": "2021-11-29T08:12:25.532844Z",
     "iopub.status.busy": "2021-11-29T08:12:25.531767Z",
     "iopub.status.idle": "2021-11-29T08:12:25.715870Z",
     "shell.execute_reply": "2021-11-29T08:12:25.715138Z",
     "shell.execute_reply.started": "2021-11-29T08:12:25.532717Z"
    },
    "tags": []
   },
   "outputs": [
    {
     "data": {
      "application/vnd.jupyter.widget-view+json": {
       "model_id": "fef761b54e7641f2b9ea9cdbbc9d1f77",
       "version_major": 2,
       "version_minor": 0
      },
      "text/plain": [
       "Canvas(toolbar=Toolbar(toolitems=[('Home', 'Reset original view', 'home', 'home'), ('Back', 'Back to previous …"
      ]
     },
     "metadata": {},
     "output_type": "display_data"
    }
   ],
   "source": [
    "f, ax = plt.subplots(figsize=(2.7, 2.7), tight_layout=True)\n",
    "sns.boxplot(\n",
    "    hue='stimulus_name', y='AC timescale (s)', x='region',\n",
    "    data=fr_acs_mlt[fr_acs_mlt.region.isin(['VISp', 'VISam'])],\n",
    "    showfliers=False, palette=stim_colors_bg, ax=ax\n",
    ")\n",
    "ax.set_ylabel('autocorrelation timescale (s)\\n(for neuronal firing)', fontsize=8)\n",
    "ax.set_xlabel('')\n",
    "# ax.set_xticklabels(['spontaneous', 'static gratings'])\n",
    "ax.tick_params(labelsize=7)\n",
    "ax.legend(fontsize=7, frameon=False);\n",
    "\n",
    "f.savefig('fig_timescales_fr_ac.pdf')"
   ]
  },
  {
   "cell_type": "markdown",
   "metadata": {},
   "source": [
    "# Introduction panels"
   ]
  },
  {
   "cell_type": "code",
   "execution_count": 158,
   "metadata": {
    "execution": {
     "iopub.execute_input": "2021-11-29T09:24:10.141791Z",
     "iopub.status.busy": "2021-11-29T09:24:10.141287Z",
     "iopub.status.idle": "2021-11-29T09:24:11.929652Z",
     "shell.execute_reply": "2021-11-29T09:24:11.927541Z",
     "shell.execute_reply.started": "2021-11-29T09:24:10.141733Z"
    },
    "tags": []
   },
   "outputs": [],
   "source": [
    "import h5py\n",
    "data_directory = (\n",
    "    '/allen/programs/braintv/workgroups/tiny-blue-dot/'\n",
    "    'differentiation/refactor/behavior/'\n",
    ")\n",
    "raw_data_path = path.join(data_directory, 'vis_behavior_npx.hdf5')\n",
    "mouse_id = '03212019_409096'\n",
    "\n",
    "spikes = {}\n",
    "with h5py.File(raw_data_path, 'r') as f:\n",
    "    spikeTimes = {}\n",
    "    for probe in f[mouse_id]['ccfRegion'].keys():\n",
    "        spikeTimes[probe] = {}\n",
    "        for unit in f[mouse_id]['units'][probe][:]:\n",
    "            spikeTimes[probe][unit.decode()] = f[mouse_id]['spikeTimes'][probe][unit][:]\n",
    "    \n",
    "    for probe in spikeTimes.keys():\n",
    "        for i, unit in enumerate(spikeTimes[probe].keys()):\n",
    "            spikes[(probe, unit, i)] = spikeTimes[probe][unit][:, 0]\n",
    "    spikes = pd.Series(spikes).rename_axis(['probe', 'unit', 'unit_idx'])"
   ]
  },
  {
   "cell_type": "code",
   "execution_count": 163,
   "metadata": {
    "execution": {
     "iopub.execute_input": "2021-11-29T09:25:05.750561Z",
     "iopub.status.busy": "2021-11-29T09:25:05.749484Z",
     "iopub.status.idle": "2021-11-29T09:25:05.780274Z",
     "shell.execute_reply": "2021-11-29T09:25:05.779739Z",
     "shell.execute_reply.started": "2021-11-29T09:25:05.750432Z"
    },
    "tags": []
   },
   "outputs": [
    {
     "data": {
      "text/plain": [
       "probe  unit  unit_idx\n",
       "C      56    34          [3.7031074603311334, 3.708574087428665, 3.7194...\n",
       "D      143   81          [3.7027741287054905, 3.7057074405391677, 3.727...\n",
       "C      70    39          [3.714307379262661, 3.719974004912541, 3.72574...\n",
       "dtype: object"
      ]
     },
     "execution_count": 163,
     "metadata": {},
     "output_type": "execute_result"
    }
   ],
   "source": [
    "hfu = spikes.apply(lambda x: len(x)).sort_values()[-3:].index\n",
    "spikes.loc[hfu]"
   ]
  },
  {
   "cell_type": "code",
   "execution_count": 194,
   "metadata": {
    "execution": {
     "iopub.execute_input": "2021-11-29T09:35:35.295997Z",
     "iopub.status.busy": "2021-11-29T09:35:35.294842Z",
     "iopub.status.idle": "2021-11-29T09:35:35.517470Z",
     "shell.execute_reply": "2021-11-29T09:35:35.516915Z",
     "shell.execute_reply.started": "2021-11-29T09:35:35.295841Z"
    },
    "tags": []
   },
   "outputs": [
    {
     "data": {
      "application/vnd.jupyter.widget-view+json": {
       "model_id": "857760a7ec224d029adca3b1569aaa08",
       "version_major": 2,
       "version_minor": 0
      },
      "text/plain": [
       "Canvas(toolbar=Toolbar(toolitems=[('Home', 'Reset original view', 'home', 'home'), ('Back', 'Back to previous …"
      ]
     },
     "metadata": {},
     "output_type": "display_data"
    }
   ],
   "source": [
    "f, axes = plt.subplots(1, 3, figsize=(3, 1), tight_layout=True, sharey=True)\n",
    "for i, ax in enumerate(axes):\n",
    "    for j in range(3):\n",
    "        r = spikes.iloc[j]\n",
    "        _fr = pd.Series(np.zeros(500))\n",
    "        r = r - r[i*500]\n",
    "        r = r[(r<0.5)&(r>0)]\n",
    "        _fr[np.array(r*1000, dtype=int)] = 1\n",
    "        (_fr.rolling(50, win_type='gaussian', center=True).mean(std=8)+j*0.2).plot(ax=ax, c=cm.Greys(0.5, 0.7))\n",
    "        ax.tick_params(labelleft=False, labelbottom=False, bottom=False, left=False)\n",
    "        ax.set_xlabel('')\n",
    "f.savefig('intro_distinct_states.pdf')"
   ]
  },
  {
   "cell_type": "code",
   "execution_count": 234,
   "metadata": {
    "execution": {
     "iopub.execute_input": "2021-11-29T09:51:53.465036Z",
     "iopub.status.busy": "2021-11-29T09:51:53.463499Z",
     "iopub.status.idle": "2021-11-29T09:51:53.716329Z",
     "shell.execute_reply": "2021-11-29T09:51:53.715463Z",
     "shell.execute_reply.started": "2021-11-29T09:51:53.464906Z"
    },
    "tags": []
   },
   "outputs": [
    {
     "data": {
      "application/vnd.jupyter.widget-view+json": {
       "model_id": "42ae7c4206224332934121bc2af79531",
       "version_major": 2,
       "version_minor": 0
      },
      "text/plain": [
       "Canvas(toolbar=Toolbar(toolitems=[('Home', 'Reset original view', 'home', 'home'), ('Back', 'Back to previous …"
      ]
     },
     "metadata": {},
     "output_type": "display_data"
    }
   ],
   "source": [
    "f, axes = plt.subplots(1, 3, figsize=(3, 1), tight_layout=True, sharey=True)\n",
    "for i, ax in enumerate(axes):\n",
    "    for j in range(3):\n",
    "        r = spikes.iloc[j]\n",
    "        _fr = pd.Series(np.zeros(500))\n",
    "        r = r - r[0]\n",
    "        r = r+np.random.rand(len(r))*0.01\n",
    "        r = r[np.random.choice([False, True], size=len(r), p=[0.2, 0.8])]\n",
    "        r = r[(r<0.5)&(r>0)]\n",
    "        _fr[np.array(r*1000, dtype=int)] = 1\n",
    "        (_fr.rolling(50, win_type='gaussian', center=True).mean(std=8)+j*0.2).plot(ax=ax, c=cm.Greys(0.5, 0.7))\n",
    "        ax.tick_params(labelleft=False, labelbottom=False, bottom=False, left=False)\n",
    "        ax.set_xlabel('')\n",
    "f.savefig('intro_similar_states.pdf')"
   ]
  },
  {
   "cell_type": "code",
   "execution_count": 299,
   "metadata": {
    "execution": {
     "iopub.execute_input": "2021-11-30T03:57:54.647842Z",
     "iopub.status.busy": "2021-11-30T03:57:54.646228Z",
     "iopub.status.idle": "2021-11-30T03:57:54.961320Z",
     "shell.execute_reply": "2021-11-30T03:57:54.960759Z",
     "shell.execute_reply.started": "2021-11-30T03:57:54.647683Z"
    },
    "tags": []
   },
   "outputs": [
    {
     "data": {
      "application/vnd.jupyter.widget-view+json": {
       "model_id": "3f23348e6d71484faa5931746d272c9c",
       "version_major": 2,
       "version_minor": 0
      },
      "text/plain": [
       "Canvas(toolbar=Toolbar(toolitems=[('Home', 'Reset original view', 'home', 'home'), ('Back', 'Back to previous …"
      ]
     },
     "metadata": {},
     "output_type": "display_data"
    }
   ],
   "source": [
    "f, axes = plt.subplots(1, 3, figsize=(3.5, 3.2), tight_layout=True, sharey=True, gridspec_kw=dict(wspace=0))\n",
    "for i, ax in enumerate(axes):\n",
    "    for j in range(3):\n",
    "        r = spikes.iloc[j]\n",
    "        _fr = pd.Series(np.zeros(500))\n",
    "        r = r - r[i*500]\n",
    "        r = r[(r<0.5)&(r>0)]\n",
    "        _fr[np.array(r*1000, dtype=int)] = 1\n",
    "        (_fr.rolling(50, win_type='gaussian', center=True).mean(std=8)+j*0.2).plot(\n",
    "            ax=ax, c=f'C{i}', alpha=0.7\n",
    "        )\n",
    "        ax.tick_params(labelleft=False, labelbottom=False, bottom=False, left=False)\n",
    "        ax.set_xlabel('')\n",
    "axes[1].set_xlabel('time\\n\\nwindow', fontsize=13)\n",
    "axes[0].set_ylabel('firing rate', fontsize=13)\n",
    "axes[0].tick_params(axis='y', labelleft=True, pad=-2)\n",
    "axes[0].set_yticks([0.05, 0.25, 0.45])\n",
    "axes[0].set_yticklabels(['neuron 0', 'neuron 1', 'neuron 2'], fontsize=9, rotation=60)\n",
    "axes[0].set_xlabel('state\\n', fontsize=13)\n",
    "axes[0].xaxis.set_label_position('top') \n",
    "f.savefig('intro_breakup_states.pdf')"
   ]
  },
  {
   "cell_type": "code",
   "execution_count": 413,
   "metadata": {
    "execution": {
     "iopub.execute_input": "2021-11-30T05:15:56.505747Z",
     "iopub.status.busy": "2021-11-30T05:15:56.504590Z",
     "iopub.status.idle": "2021-11-30T05:15:56.698386Z",
     "shell.execute_reply": "2021-11-30T05:15:56.697810Z",
     "shell.execute_reply.started": "2021-11-30T05:15:56.505587Z"
    },
    "tags": []
   },
   "outputs": [
    {
     "data": {
      "application/vnd.jupyter.widget-view+json": {
       "model_id": "399458afb5014c3fb92511c94b826494",
       "version_major": 2,
       "version_minor": 0
      },
      "text/plain": [
       "Canvas(toolbar=Toolbar(toolitems=[('Home', 'Reset original view', 'home', 'home'), ('Back', 'Back to previous …"
      ]
     },
     "metadata": {},
     "output_type": "display_data"
    }
   ],
   "source": [
    "f, axes = plt.subplots(1, 3, figsize=(3., 2.3), tight_layout=True, sharey=True, gridspec_kw=dict(wspace=0))\n",
    "for i, ax in enumerate(axes):\n",
    "    for j in range(3):\n",
    "        r = spikes.iloc[j]\n",
    "        _fr = pd.Series(np.zeros(500))\n",
    "        r = r - r[i*500]\n",
    "        r = r[(r<0.5)&(r>0)]\n",
    "        _fr[np.array(r*1000, dtype=int)] = 1\n",
    "        \n",
    "        freqs, psd = sp.signal.welch(\n",
    "            _fr.rolling(50, win_type='gaussian', center=True).mean(std=8).dropna(),\n",
    "            fs=1000, \n",
    "        )\n",
    "        idx = freqs<100\n",
    "        psd = psd / psd.max()\n",
    "        ax.plot(freqs[idx], psd[idx]*0.8+j, c=f'C{i}', alpha=0.7)\n",
    "        ax.set_xlim(-2, 100)\n",
    "        \n",
    "        ax.tick_params(labelleft=False, labelbottom=False, bottom=False, left=False)\n",
    "        ax.set_xlabel('')\n",
    "axes[1].set_xlabel('time', fontsize=13)\n",
    "axes[0].set_ylabel('PSD', fontsize=12)\n",
    "axes[1].set_title('states in spectral domain')\n",
    "f.savefig('intro_psd_states.pdf')"
   ]
  },
  {
   "cell_type": "code",
   "execution_count": 410,
   "metadata": {
    "execution": {
     "iopub.execute_input": "2021-11-30T04:51:38.241136Z",
     "iopub.status.busy": "2021-11-30T04:51:38.240059Z",
     "iopub.status.idle": "2021-11-30T04:51:38.440032Z",
     "shell.execute_reply": "2021-11-30T04:51:38.439268Z",
     "shell.execute_reply.started": "2021-11-30T04:51:38.241009Z"
    },
    "tags": []
   },
   "outputs": [
    {
     "data": {
      "application/vnd.jupyter.widget-view+json": {
       "model_id": "986ce2a2def34b409fd6613a90725a5c",
       "version_major": 2,
       "version_minor": 0
      },
      "text/plain": [
       "Canvas(toolbar=Toolbar(toolitems=[('Home', 'Reset original view', 'home', 'home'), ('Back', 'Back to previous …"
      ]
     },
     "metadata": {},
     "output_type": "display_data"
    }
   ],
   "source": [
    "f = plt.figure(figsize=(3, 2.1), tight_layout=True)\n",
    "gs = plt.GridSpec(1, 5, figure=f, wspace=0, width_ratios=[0.5, 0.5, 0.5, 0.2, 2.8])\n",
    "axes = [f.add_subplot(gs[0])]\n",
    "for i in range(1, 3):\n",
    "    axes.append(f.add_subplot(gs[i], sharey=axes[0]))\n",
    "\n",
    "psd_arr = [[], [], []]\n",
    "for i, ax in enumerate(axes):\n",
    "    for j in range(3):\n",
    "        r = spikes.iloc[(2-i)]\n",
    "        _fr = pd.Series(np.zeros(500))\n",
    "        r = r - r[(2-j)*500]\n",
    "        r = r[(r<0.5)&(r>0)]\n",
    "        _fr[np.array(r*1000, dtype=int)] = 1\n",
    "        \n",
    "        freqs, psd = sp.signal.welch(\n",
    "            _fr.rolling(50, win_type='gaussian', center=True).mean(std=8).dropna(),\n",
    "            fs=1000, \n",
    "        )\n",
    "        psd_arr[i].extend(psd)\n",
    "        idx = freqs<100\n",
    "        psd = psd / psd.max()\n",
    "        ax.plot(freqs[idx], psd[idx]*0.8+j*1.8, c=f'C{(2-j)}', alpha=0.7)\n",
    "        ax.set_xlim(-2, 100)\n",
    "        \n",
    "        ax.axis('off')\n",
    "\n",
    "ax = f.add_subplot(gs[-1])\n",
    "pdists = sp.spatial.distance.pdist(psd_arr)\n",
    "\n",
    "sns.heatmap(\n",
    "    sp.spatial.distance.squareform(pdists) / np.mean(pdists),\n",
    "    annot=sp.spatial.distance.squareform(pdists) / np.mean(pdists),\n",
    "    ax=ax, cbar=False, vmin=0, vmax=0, cmap=cm.Greys, linecolor='k',\n",
    "    linewidths=0.5\n",
    ")\n",
    "ax.tick_params(left=False, bottom=False, labelleft=False, labelbottom=False)\n",
    "\n",
    "axes[1].set_title('state\\nvectors', fontsize=11)\n",
    "ax.set_title('pairwise distance\\nbetween states', fontsize=11)\n",
    "f.savefig('intro_psd_stacked.pdf')"
   ]
  },
  {
   "cell_type": "code",
   "execution_count": 412,
   "metadata": {
    "execution": {
     "iopub.execute_input": "2021-11-30T04:53:15.796844Z",
     "iopub.status.busy": "2021-11-30T04:53:15.796578Z",
     "iopub.status.idle": "2021-11-30T04:53:15.813923Z",
     "shell.execute_reply": "2021-11-30T04:53:15.813254Z",
     "shell.execute_reply.started": "2021-11-30T04:53:15.796813Z"
    },
    "tags": []
   },
   "outputs": [
    {
     "data": {
      "text/plain": [
       "0.9869487074084778"
      ]
     },
     "execution_count": 412,
     "metadata": {},
     "output_type": "execute_result"
    }
   ],
   "source": [
    "np.median(pdists)/np.mean(pdists)"
   ]
  },
  {
   "cell_type": "code",
   "execution_count": 323,
   "metadata": {
    "execution": {
     "iopub.execute_input": "2021-11-30T04:06:35.576855Z",
     "iopub.status.busy": "2021-11-30T04:06:35.575734Z",
     "iopub.status.idle": "2021-11-30T04:06:35.633379Z",
     "shell.execute_reply": "2021-11-30T04:06:35.632900Z",
     "shell.execute_reply.started": "2021-11-30T04:06:35.576726Z"
    },
    "tags": []
   },
   "outputs": [
    {
     "data": {
      "application/vnd.jupyter.widget-view+json": {
       "model_id": "91e98a559fc34646b63a021391e7d2d6",
       "version_major": 2,
       "version_minor": 0
      },
      "text/plain": [
       "Canvas(toolbar=Toolbar(toolitems=[('Home', 'Reset original view', 'home', 'home'), ('Back', 'Back to previous …"
      ]
     },
     "metadata": {},
     "output_type": "display_data"
    }
   ],
   "source": [
    "_gau = pd.Series([\n",
    "    0, 0, 0, 0, 0, 0, 0, 0, 0, 0, 0, 0, 0, 0, 0, 0,\n",
    "    10, 0, 0, 0, 0, 0, 0, 0, 0, 0, 0, 0, 0, 0, 0, 0\n",
    "]).rolling(17, win_type='gaussian', center=True).mean(std=2)\n",
    "\n",
    "f, ax = plt.subplots(figsize=(1, 1))\n",
    "ax.axis('off')\n",
    "_gau.plot(ax=ax, c=cm.Greys(0.6, 0.9), lw=5);\n",
    "f.savefig('intro_gaussian.pdf')"
   ]
  },
  {
   "cell_type": "code",
   "execution_count": null,
   "metadata": {},
   "outputs": [],
   "source": []
  }
 ],
 "metadata": {
  "kernelspec": {
   "display_name": "Differentiation",
   "language": "python",
   "name": "differentiation"
  },
  "language_info": {
   "codemirror_mode": {
    "name": "ipython",
    "version": 3
   },
   "file_extension": ".py",
   "mimetype": "text/x-python",
   "name": "python",
   "nbconvert_exporter": "python",
   "pygments_lexer": "ipython3",
   "version": "3.6.8"
  },
  "toc-autonumbering": true,
  "widgets": {
   "application/vnd.jupyter.widget-state+json": {
    "state": {},
    "version_major": 2,
    "version_minor": 0
   }
  }
 },
 "nbformat": 4,
 "nbformat_minor": 4
}
